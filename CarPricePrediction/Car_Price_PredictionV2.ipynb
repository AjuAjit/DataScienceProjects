{
 "cells": [
  {
   "cell_type": "code",
   "execution_count": 1,
   "metadata": {},
   "outputs": [
    {
     "name": "stderr",
     "output_type": "stream",
     "text": [
      "D:\\Anaconda\\lib\\site-packages\\statsmodels\\tools\\_testing.py:19: FutureWarning: pandas.util.testing is deprecated. Use the functions in the public API at pandas.testing instead.\n",
      "  import pandas.util.testing as tm\n"
     ]
    }
   ],
   "source": [
    "import pandas as pd\n",
    "import numpy as np\n",
    "import matplotlib.pyplot as plt\n",
    "import seaborn as sns\n",
    "from sklearn.metrics import mean_squared_error, r2_score\n",
    "from sklearn.linear_model import LinearRegression\n",
    "from sklearn.neighbors import KNeighborsRegressor\n",
    "from sklearn.preprocessing import PolynomialFeatures\n",
    "from sklearn.tree import DecisionTreeRegressor\n",
    "# import all libraries and dependencies for machine learning\n",
    "from sklearn import preprocessing\n",
    "from sklearn.model_selection import train_test_split\n",
    "import statsmodels.api as sm\n",
    "from sklearn.feature_selection import RFE\n",
    "from sklearn.linear_model import LinearRegression\n",
    "from statsmodels.stats.outliers_influence import variance_inflation_factor\n",
    "from sklearn.metrics import mean_absolute_error, mean_squared_error,r2_score\n",
    "import random"
   ]
  },
  {
   "cell_type": "code",
   "execution_count": 2,
   "metadata": {},
   "outputs": [
    {
     "data": {
      "text/html": [
       "<div>\n",
       "<style scoped>\n",
       "    .dataframe tbody tr th:only-of-type {\n",
       "        vertical-align: middle;\n",
       "    }\n",
       "\n",
       "    .dataframe tbody tr th {\n",
       "        vertical-align: top;\n",
       "    }\n",
       "\n",
       "    .dataframe thead th {\n",
       "        text-align: right;\n",
       "    }\n",
       "</style>\n",
       "<table border=\"1\" class=\"dataframe\">\n",
       "  <thead>\n",
       "    <tr style=\"text-align: right;\">\n",
       "      <th></th>\n",
       "      <th>CarId</th>\n",
       "      <th>symboling</th>\n",
       "      <th>normalized-losses</th>\n",
       "      <th>make</th>\n",
       "      <th>fuel-type</th>\n",
       "      <th>aspiration</th>\n",
       "      <th>num-of-doors</th>\n",
       "      <th>body-style</th>\n",
       "      <th>drive-wheels</th>\n",
       "      <th>engine-location</th>\n",
       "      <th>...</th>\n",
       "      <th>engine-size</th>\n",
       "      <th>fuel-system</th>\n",
       "      <th>bore</th>\n",
       "      <th>stroke</th>\n",
       "      <th>compression</th>\n",
       "      <th>horsepower</th>\n",
       "      <th>peak-rpm</th>\n",
       "      <th>city-mpg</th>\n",
       "      <th>highway-mpg</th>\n",
       "      <th>price</th>\n",
       "    </tr>\n",
       "  </thead>\n",
       "  <tbody>\n",
       "    <tr>\n",
       "      <th>0</th>\n",
       "      <td>1</td>\n",
       "      <td>3</td>\n",
       "      <td>NaN</td>\n",
       "      <td>alfa-romero</td>\n",
       "      <td>gas</td>\n",
       "      <td>std</td>\n",
       "      <td>2.0</td>\n",
       "      <td>convertible</td>\n",
       "      <td>rwd</td>\n",
       "      <td>front</td>\n",
       "      <td>...</td>\n",
       "      <td>130</td>\n",
       "      <td>mpfi</td>\n",
       "      <td>3.47</td>\n",
       "      <td>2.68</td>\n",
       "      <td>9.0</td>\n",
       "      <td>111.0</td>\n",
       "      <td>5000.0</td>\n",
       "      <td>21</td>\n",
       "      <td>27</td>\n",
       "      <td>13495.0</td>\n",
       "    </tr>\n",
       "    <tr>\n",
       "      <th>1</th>\n",
       "      <td>2</td>\n",
       "      <td>3</td>\n",
       "      <td>NaN</td>\n",
       "      <td>alfa-romero</td>\n",
       "      <td>gas</td>\n",
       "      <td>std</td>\n",
       "      <td>2.0</td>\n",
       "      <td>convertible</td>\n",
       "      <td>rwd</td>\n",
       "      <td>front</td>\n",
       "      <td>...</td>\n",
       "      <td>130</td>\n",
       "      <td>mpfi</td>\n",
       "      <td>3.47</td>\n",
       "      <td>2.68</td>\n",
       "      <td>9.0</td>\n",
       "      <td>111.0</td>\n",
       "      <td>5000.0</td>\n",
       "      <td>21</td>\n",
       "      <td>27</td>\n",
       "      <td>16500.0</td>\n",
       "    </tr>\n",
       "    <tr>\n",
       "      <th>2</th>\n",
       "      <td>3</td>\n",
       "      <td>1</td>\n",
       "      <td>NaN</td>\n",
       "      <td>alfa-romero</td>\n",
       "      <td>gas</td>\n",
       "      <td>std</td>\n",
       "      <td>2.0</td>\n",
       "      <td>hatchback</td>\n",
       "      <td>rwd</td>\n",
       "      <td>front</td>\n",
       "      <td>...</td>\n",
       "      <td>152</td>\n",
       "      <td>mpfi</td>\n",
       "      <td>2.68</td>\n",
       "      <td>3.47</td>\n",
       "      <td>9.0</td>\n",
       "      <td>154.0</td>\n",
       "      <td>5000.0</td>\n",
       "      <td>19</td>\n",
       "      <td>26</td>\n",
       "      <td>16500.0</td>\n",
       "    </tr>\n",
       "    <tr>\n",
       "      <th>3</th>\n",
       "      <td>4</td>\n",
       "      <td>2</td>\n",
       "      <td>164.0</td>\n",
       "      <td>audi</td>\n",
       "      <td>gas</td>\n",
       "      <td>std</td>\n",
       "      <td>4.0</td>\n",
       "      <td>sedan</td>\n",
       "      <td>fwd</td>\n",
       "      <td>front</td>\n",
       "      <td>...</td>\n",
       "      <td>109</td>\n",
       "      <td>mpfi</td>\n",
       "      <td>3.19</td>\n",
       "      <td>3.40</td>\n",
       "      <td>10.0</td>\n",
       "      <td>102.0</td>\n",
       "      <td>5500.0</td>\n",
       "      <td>24</td>\n",
       "      <td>30</td>\n",
       "      <td>13950.0</td>\n",
       "    </tr>\n",
       "    <tr>\n",
       "      <th>4</th>\n",
       "      <td>5</td>\n",
       "      <td>2</td>\n",
       "      <td>164.0</td>\n",
       "      <td>audi</td>\n",
       "      <td>gas</td>\n",
       "      <td>std</td>\n",
       "      <td>4.0</td>\n",
       "      <td>sedan</td>\n",
       "      <td>4wd</td>\n",
       "      <td>front</td>\n",
       "      <td>...</td>\n",
       "      <td>136</td>\n",
       "      <td>mpfi</td>\n",
       "      <td>3.19</td>\n",
       "      <td>3.40</td>\n",
       "      <td>8.0</td>\n",
       "      <td>115.0</td>\n",
       "      <td>5500.0</td>\n",
       "      <td>18</td>\n",
       "      <td>22</td>\n",
       "      <td>17450.0</td>\n",
       "    </tr>\n",
       "  </tbody>\n",
       "</table>\n",
       "<p>5 rows × 27 columns</p>\n",
       "</div>"
      ],
      "text/plain": [
       "   CarId  symboling  normalized-losses         make fuel-type aspiration  \\\n",
       "0      1          3                NaN  alfa-romero       gas        std   \n",
       "1      2          3                NaN  alfa-romero       gas        std   \n",
       "2      3          1                NaN  alfa-romero       gas        std   \n",
       "3      4          2              164.0         audi       gas        std   \n",
       "4      5          2              164.0         audi       gas        std   \n",
       "\n",
       "   num-of-doors   body-style drive-wheels engine-location  ...  engine-size  \\\n",
       "0           2.0  convertible          rwd           front  ...          130   \n",
       "1           2.0  convertible          rwd           front  ...          130   \n",
       "2           2.0    hatchback          rwd           front  ...          152   \n",
       "3           4.0        sedan          fwd           front  ...          109   \n",
       "4           4.0        sedan          4wd           front  ...          136   \n",
       "\n",
       "   fuel-system  bore  stroke  compression horsepower  peak-rpm  city-mpg  \\\n",
       "0         mpfi  3.47    2.68          9.0      111.0    5000.0        21   \n",
       "1         mpfi  3.47    2.68          9.0      111.0    5000.0        21   \n",
       "2         mpfi  2.68    3.47          9.0      154.0    5000.0        19   \n",
       "3         mpfi  3.19    3.40         10.0      102.0    5500.0        24   \n",
       "4         mpfi  3.19    3.40          8.0      115.0    5500.0        18   \n",
       "\n",
       "  highway-mpg    price  \n",
       "0          27  13495.0  \n",
       "1          27  16500.0  \n",
       "2          26  16500.0  \n",
       "3          30  13950.0  \n",
       "4          22  17450.0  \n",
       "\n",
       "[5 rows x 27 columns]"
      ]
     },
     "execution_count": 2,
     "metadata": {},
     "output_type": "execute_result"
    }
   ],
   "source": [
    "cars = pd.read_csv(\"D:\\\\Praxis\\\\ML\\\\data\\\\imports_85.csv\")\n",
    "cars.head()"
   ]
  },
  {
   "cell_type": "code",
   "execution_count": 3,
   "metadata": {},
   "outputs": [
    {
     "data": {
      "text/plain": [
       "(205, 27)"
      ]
     },
     "execution_count": 3,
     "metadata": {},
     "output_type": "execute_result"
    }
   ],
   "source": [
    "# Shape of data\n",
    "\n",
    "cars.shape"
   ]
  },
  {
   "cell_type": "code",
   "execution_count": 4,
   "metadata": {
    "scrolled": false
   },
   "outputs": [
    {
     "data": {
      "text/plain": [
       "CarId                  int64\n",
       "symboling              int64\n",
       "normalized-losses    float64\n",
       "make                  object\n",
       "fuel-type             object\n",
       "aspiration            object\n",
       "num-of-doors         float64\n",
       "body-style            object\n",
       "drive-wheels          object\n",
       "engine-location       object\n",
       "wheel-base           float64\n",
       "length               float64\n",
       "width                float64\n",
       "h8                   float64\n",
       "curb-w8                int64\n",
       "engine-type           object\n",
       "num-of-cylinders       int64\n",
       "engine-size            int64\n",
       "fuel-system           object\n",
       "bore                 float64\n",
       "stroke               float64\n",
       "compression          float64\n",
       "horsepower           float64\n",
       "peak-rpm             float64\n",
       "city-mpg               int64\n",
       "highway-mpg            int64\n",
       "price                float64\n",
       "dtype: object"
      ]
     },
     "execution_count": 4,
     "metadata": {},
     "output_type": "execute_result"
    }
   ],
   "source": [
    "# dtypes of columns\n",
    "\n",
    "cars.dtypes"
   ]
  },
  {
   "cell_type": "code",
   "execution_count": 5,
   "metadata": {},
   "outputs": [
    {
     "data": {
      "text/plain": [
       "Index(['CarId', 'symboling', 'normalized-losses', 'make', 'fuel-type',\n",
       "       'aspiration', 'num-of-doors', 'body-style', 'drive-wheels',\n",
       "       'engine-location', 'wheel-base', 'length', 'width', 'h8', 'curb-w8',\n",
       "       'engine-type', 'num-of-cylinders', 'engine-size', 'fuel-system', 'bore',\n",
       "       'stroke', 'compression', 'horsepower', 'peak-rpm', 'city-mpg',\n",
       "       'highway-mpg', 'price'],\n",
       "      dtype='object')"
      ]
     },
     "execution_count": 5,
     "metadata": {},
     "output_type": "execute_result"
    }
   ],
   "source": [
    "# Column names in data\n",
    "\n",
    "cars.columns"
   ]
  },
  {
   "cell_type": "code",
   "execution_count": 6,
   "metadata": {},
   "outputs": [
    {
     "name": "stdout",
     "output_type": "stream",
     "text": [
      "                   Total   Percent\n",
      "normalized-losses     41  0.200000\n",
      "price                  4  0.019512\n",
      "stroke                 4  0.019512\n",
      "bore                   4  0.019512\n",
      "peak-rpm               2  0.009756\n",
      "horsepower             2  0.009756\n",
      "num-of-doors           2  0.009756\n",
      "wheel-base             0  0.000000\n",
      "symboling              0  0.000000\n",
      "make                   0  0.000000\n",
      "fuel-type              0  0.000000\n",
      "aspiration             0  0.000000\n",
      "body-style             0  0.000000\n",
      "drive-wheels           0  0.000000\n",
      "engine-location        0  0.000000\n",
      "h8                     0  0.000000\n",
      "length                 0  0.000000\n",
      "width                  0  0.000000\n",
      "highway-mpg            0  0.000000\n",
      "curb-w8                0  0.000000\n",
      "engine-type            0  0.000000\n",
      "num-of-cylinders       0  0.000000\n",
      "engine-size            0  0.000000\n",
      "fuel-system            0  0.000000\n",
      "compression            0  0.000000\n",
      "city-mpg               0  0.000000\n",
      "CarId                  0  0.000000\n"
     ]
    }
   ],
   "source": [
    "# missing values in the data\n",
    "\n",
    "#missing data\n",
    "total = cars.isnull().sum().sort_values(ascending=False)\n",
    "percent = (cars.isnull().sum()/cars.isnull().count()).sort_values(ascending=False)\n",
    "missing_data = pd.concat([total, percent], axis=1, keys=['Total', 'Percent'])\n",
    "missing_data.head(20)\n",
    "print(missing_data)"
   ]
  },
  {
   "cell_type": "code",
   "execution_count": 7,
   "metadata": {},
   "outputs": [],
   "source": [
    "# Normalised losses, price, bore, peak-rpm, horesepower have missing values.\n",
    "# lets look at the distribution of the variables"
   ]
  },
  {
   "cell_type": "code",
   "execution_count": 8,
   "metadata": {},
   "outputs": [
    {
     "name": "stderr",
     "output_type": "stream",
     "text": [
      "D:\\Anaconda\\lib\\site-packages\\numpy\\lib\\histograms.py:824: RuntimeWarning: invalid value encountered in greater_equal\n",
      "  keep = (tmp_a >= first_edge)\n",
      "D:\\Anaconda\\lib\\site-packages\\numpy\\lib\\histograms.py:825: RuntimeWarning: invalid value encountered in less_equal\n",
      "  keep &= (tmp_a <= last_edge)\n",
      "D:\\Anaconda\\lib\\site-packages\\statsmodels\\nonparametric\\kde.py:447: RuntimeWarning: invalid value encountered in greater\n",
      "  X = X[np.logical_and(X > clip[0], X < clip[1])] # won't work for two columns.\n",
      "D:\\Anaconda\\lib\\site-packages\\statsmodels\\nonparametric\\kde.py:447: RuntimeWarning: invalid value encountered in less\n",
      "  X = X[np.logical_and(X > clip[0], X < clip[1])] # won't work for two columns.\n"
     ]
    },
    {
     "data": {
      "text/plain": [
       "Text(0.5, 0, 'Losses')"
      ]
     },
     "execution_count": 8,
     "metadata": {},
     "output_type": "execute_result"
    },
    {
     "data": {
      "image/png": "[encoded data removed]",
      "text/plain": [
       "<Figure size 720x576 with 1 Axes>"
      ]
     },
     "metadata": {
      "needs_background": "light"
     },
     "output_type": "display_data"
    }
   ],
   "source": [
    "# normalised losses\n",
    "\n",
    "plt.figure(figsize=(10,8))\n",
    "sns.distplot(cars['normalized-losses'], bins=24)\n",
    "plt.title(\"Histogram of losses\")\n",
    "plt.xlabel(\"Losses\")"
   ]
  },
  {
   "cell_type": "markdown",
   "metadata": {},
   "source": [
    "### PRICE"
   ]
  },
  {
   "cell_type": "code",
   "execution_count": 9,
   "metadata": {},
   "outputs": [
    {
     "data": {
      "text/plain": [
       "Text(0.5, 0, 'Price')"
      ]
     },
     "execution_count": 9,
     "metadata": {},
     "output_type": "execute_result"
    },
    {
     "data": {
      "image/png": "[encoded data removed]",
      "text/plain": [
       "<Figure size 720x576 with 1 Axes>"
      ]
     },
     "metadata": {
      "needs_background": "light"
     },
     "output_type": "display_data"
    }
   ],
   "source": [
    "# price\n",
    "\n",
    "plt.figure(figsize=(10,8))\n",
    "sns.distplot(cars['price'], bins=24)\n",
    "plt.title(\"Histogram of price\")\n",
    "plt.xlabel(\"Price\")"
   ]
  },
  {
   "cell_type": "code",
   "execution_count": 10,
   "metadata": {},
   "outputs": [
    {
     "data": {
      "text/html": [
       "<div>\n",
       "<style scoped>\n",
       "    .dataframe tbody tr th:only-of-type {\n",
       "        vertical-align: middle;\n",
       "    }\n",
       "\n",
       "    .dataframe tbody tr th {\n",
       "        vertical-align: top;\n",
       "    }\n",
       "\n",
       "    .dataframe thead th {\n",
       "        text-align: right;\n",
       "    }\n",
       "</style>\n",
       "<table border=\"1\" class=\"dataframe\">\n",
       "  <thead>\n",
       "    <tr style=\"text-align: right;\">\n",
       "      <th></th>\n",
       "      <th>CarId</th>\n",
       "      <th>symboling</th>\n",
       "      <th>normalized-losses</th>\n",
       "      <th>make</th>\n",
       "      <th>fuel-type</th>\n",
       "      <th>aspiration</th>\n",
       "      <th>num-of-doors</th>\n",
       "      <th>body-style</th>\n",
       "      <th>drive-wheels</th>\n",
       "      <th>engine-location</th>\n",
       "      <th>...</th>\n",
       "      <th>engine-size</th>\n",
       "      <th>fuel-system</th>\n",
       "      <th>bore</th>\n",
       "      <th>stroke</th>\n",
       "      <th>compression</th>\n",
       "      <th>horsepower</th>\n",
       "      <th>peak-rpm</th>\n",
       "      <th>city-mpg</th>\n",
       "      <th>highway-mpg</th>\n",
       "      <th>price</th>\n",
       "    </tr>\n",
       "  </thead>\n",
       "  <tbody>\n",
       "    <tr>\n",
       "      <th>9</th>\n",
       "      <td>10</td>\n",
       "      <td>0</td>\n",
       "      <td>NaN</td>\n",
       "      <td>audi</td>\n",
       "      <td>gas</td>\n",
       "      <td>turbo</td>\n",
       "      <td>2.0</td>\n",
       "      <td>hatchback</td>\n",
       "      <td>4wd</td>\n",
       "      <td>front</td>\n",
       "      <td>...</td>\n",
       "      <td>131</td>\n",
       "      <td>mpfi</td>\n",
       "      <td>3.13</td>\n",
       "      <td>3.40</td>\n",
       "      <td>7.0</td>\n",
       "      <td>160.0</td>\n",
       "      <td>5500.0</td>\n",
       "      <td>16</td>\n",
       "      <td>22</td>\n",
       "      <td>NaN</td>\n",
       "    </tr>\n",
       "    <tr>\n",
       "      <th>44</th>\n",
       "      <td>45</td>\n",
       "      <td>1</td>\n",
       "      <td>NaN</td>\n",
       "      <td>isuzu</td>\n",
       "      <td>gas</td>\n",
       "      <td>std</td>\n",
       "      <td>2.0</td>\n",
       "      <td>sedan</td>\n",
       "      <td>fwd</td>\n",
       "      <td>front</td>\n",
       "      <td>...</td>\n",
       "      <td>90</td>\n",
       "      <td>2bbl</td>\n",
       "      <td>3.03</td>\n",
       "      <td>3.11</td>\n",
       "      <td>9.6</td>\n",
       "      <td>70.0</td>\n",
       "      <td>5400.0</td>\n",
       "      <td>38</td>\n",
       "      <td>43</td>\n",
       "      <td>NaN</td>\n",
       "    </tr>\n",
       "    <tr>\n",
       "      <th>45</th>\n",
       "      <td>46</td>\n",
       "      <td>0</td>\n",
       "      <td>NaN</td>\n",
       "      <td>isuzu</td>\n",
       "      <td>gas</td>\n",
       "      <td>std</td>\n",
       "      <td>4.0</td>\n",
       "      <td>sedan</td>\n",
       "      <td>fwd</td>\n",
       "      <td>front</td>\n",
       "      <td>...</td>\n",
       "      <td>90</td>\n",
       "      <td>2bbl</td>\n",
       "      <td>3.03</td>\n",
       "      <td>3.11</td>\n",
       "      <td>9.6</td>\n",
       "      <td>70.0</td>\n",
       "      <td>5400.0</td>\n",
       "      <td>38</td>\n",
       "      <td>43</td>\n",
       "      <td>NaN</td>\n",
       "    </tr>\n",
       "    <tr>\n",
       "      <th>129</th>\n",
       "      <td>130</td>\n",
       "      <td>1</td>\n",
       "      <td>NaN</td>\n",
       "      <td>porsche</td>\n",
       "      <td>gas</td>\n",
       "      <td>std</td>\n",
       "      <td>2.0</td>\n",
       "      <td>hatchback</td>\n",
       "      <td>rwd</td>\n",
       "      <td>front</td>\n",
       "      <td>...</td>\n",
       "      <td>203</td>\n",
       "      <td>mpfi</td>\n",
       "      <td>3.94</td>\n",
       "      <td>3.11</td>\n",
       "      <td>10.0</td>\n",
       "      <td>288.0</td>\n",
       "      <td>5750.0</td>\n",
       "      <td>17</td>\n",
       "      <td>28</td>\n",
       "      <td>NaN</td>\n",
       "    </tr>\n",
       "  </tbody>\n",
       "</table>\n",
       "<p>4 rows × 27 columns</p>\n",
       "</div>"
      ],
      "text/plain": [
       "     CarId  symboling  normalized-losses     make fuel-type aspiration  \\\n",
       "9       10          0                NaN     audi       gas      turbo   \n",
       "44      45          1                NaN    isuzu       gas        std   \n",
       "45      46          0                NaN    isuzu       gas        std   \n",
       "129    130          1                NaN  porsche       gas        std   \n",
       "\n",
       "     num-of-doors body-style drive-wheels engine-location  ...  engine-size  \\\n",
       "9             2.0  hatchback          4wd           front  ...          131   \n",
       "44            2.0      sedan          fwd           front  ...           90   \n",
       "45            4.0      sedan          fwd           front  ...           90   \n",
       "129           2.0  hatchback          rwd           front  ...          203   \n",
       "\n",
       "     fuel-system  bore  stroke  compression horsepower  peak-rpm  city-mpg  \\\n",
       "9           mpfi  3.13    3.40          7.0      160.0    5500.0        16   \n",
       "44          2bbl  3.03    3.11          9.6       70.0    5400.0        38   \n",
       "45          2bbl  3.03    3.11          9.6       70.0    5400.0        38   \n",
       "129         mpfi  3.94    3.11         10.0      288.0    5750.0        17   \n",
       "\n",
       "    highway-mpg  price  \n",
       "9            22    NaN  \n",
       "44           43    NaN  \n",
       "45           43    NaN  \n",
       "129          28    NaN  \n",
       "\n",
       "[4 rows x 27 columns]"
      ]
     },
     "execution_count": 10,
     "metadata": {},
     "output_type": "execute_result"
    }
   ],
   "source": [
    "cars[cars.price.isnull()]"
   ]
  },
  {
   "cell_type": "code",
   "execution_count": 11,
   "metadata": {},
   "outputs": [
    {
     "data": {
      "text/plain": [
       "17859.166666666668"
      ]
     },
     "execution_count": 11,
     "metadata": {},
     "output_type": "execute_result"
    }
   ],
   "source": [
    "np.mean(cars[cars.make == 'audi'].price)"
   ]
  },
  {
   "cell_type": "code",
   "execution_count": 12,
   "metadata": {},
   "outputs": [
    {
     "data": {
      "text/plain": [
       "8916.5"
      ]
     },
     "execution_count": 12,
     "metadata": {},
     "output_type": "execute_result"
    }
   ],
   "source": [
    "np.mean(cars[cars.make == 'isuzu'].price)"
   ]
  },
  {
   "cell_type": "code",
   "execution_count": 13,
   "metadata": {},
   "outputs": [
    {
     "data": {
      "text/plain": [
       "31400.5"
      ]
     },
     "execution_count": 13,
     "metadata": {},
     "output_type": "execute_result"
    }
   ],
   "source": [
    "np.mean(cars[cars.make == 'porsche'].price)"
   ]
  },
  {
   "cell_type": "code",
   "execution_count": 14,
   "metadata": {},
   "outputs": [],
   "source": [
    "cars.loc[(cars.price.isnull()) & (cars.make =='audi'),'price'] = np.mean(cars[cars.make == 'audi'].price)"
   ]
  },
  {
   "cell_type": "code",
   "execution_count": 15,
   "metadata": {},
   "outputs": [],
   "source": [
    "cars.loc[(cars.price.isnull()) & (cars.make =='isuzu'),'price'] = np.mean(cars[cars.make == 'isuzu'].price)"
   ]
  },
  {
   "cell_type": "code",
   "execution_count": 16,
   "metadata": {},
   "outputs": [],
   "source": [
    "cars.loc[(cars.price.isnull()) & (cars.make =='porsche'),'price'] = np.mean(cars[cars.make == 'porsche'].price)"
   ]
  },
  {
   "cell_type": "markdown",
   "metadata": {},
   "source": [
    "### Stroke"
   ]
  },
  {
   "cell_type": "code",
   "execution_count": 17,
   "metadata": {},
   "outputs": [
    {
     "name": "stderr",
     "output_type": "stream",
     "text": [
      "D:\\Anaconda\\lib\\site-packages\\numpy\\lib\\histograms.py:824: RuntimeWarning: invalid value encountered in greater_equal\n",
      "  keep = (tmp_a >= first_edge)\n",
      "D:\\Anaconda\\lib\\site-packages\\numpy\\lib\\histograms.py:825: RuntimeWarning: invalid value encountered in less_equal\n",
      "  keep &= (tmp_a <= last_edge)\n",
      "D:\\Anaconda\\lib\\site-packages\\statsmodels\\nonparametric\\kde.py:447: RuntimeWarning: invalid value encountered in greater\n",
      "  X = X[np.logical_and(X > clip[0], X < clip[1])] # won't work for two columns.\n",
      "D:\\Anaconda\\lib\\site-packages\\statsmodels\\nonparametric\\kde.py:447: RuntimeWarning: invalid value encountered in less\n",
      "  X = X[np.logical_and(X > clip[0], X < clip[1])] # won't work for two columns.\n"
     ]
    },
    {
     "data": {
      "text/plain": [
       "Text(0.5, 0, 'stroke')"
      ]
     },
     "execution_count": 17,
     "metadata": {},
     "output_type": "execute_result"
    },
    {
     "data": {
      "image/png": "[encoded data removed]",
      "text/plain": [
       "<Figure size 720x576 with 1 Axes>"
      ]
     },
     "metadata": {
      "needs_background": "light"
     },
     "output_type": "display_data"
    }
   ],
   "source": [
    "# histogram of stroke\n",
    "\n",
    "plt.figure(figsize=(10,8))\n",
    "sns.distplot(cars['stroke'], bins=24)\n",
    "plt.title(\"Histogram of stroke\")\n",
    "plt.xlabel(\"stroke\")"
   ]
  },
  {
   "cell_type": "code",
   "execution_count": 18,
   "metadata": {},
   "outputs": [
    {
     "data": {
      "text/plain": [
       "3.2554228855721337"
      ]
     },
     "execution_count": 18,
     "metadata": {},
     "output_type": "execute_result"
    }
   ],
   "source": [
    "np.mean(cars.stroke)"
   ]
  },
  {
   "cell_type": "code",
   "execution_count": 19,
   "metadata": {},
   "outputs": [],
   "source": [
    "cars.loc[cars.stroke.isnull(),'stroke'] = np.mean(cars.stroke)"
   ]
  },
  {
   "cell_type": "markdown",
   "metadata": {},
   "source": [
    "### BORE"
   ]
  },
  {
   "cell_type": "code",
   "execution_count": 20,
   "metadata": {},
   "outputs": [
    {
     "data": {
      "text/plain": [
       "Text(0.5, 0, 'bore')"
      ]
     },
     "execution_count": 20,
     "metadata": {},
     "output_type": "execute_result"
    },
    {
     "data": {
      "image/png": "[encoded data removed]",
      "text/plain": [
       "<Figure size 720x576 with 1 Axes>"
      ]
     },
     "metadata": {
      "needs_background": "light"
     },
     "output_type": "display_data"
    }
   ],
   "source": [
    "# histogram of stroke\n",
    "\n",
    "plt.figure(figsize=(10,8))\n",
    "sns.distplot(cars['bore'], bins=24)\n",
    "plt.title(\"Histogram of bore\")\n",
    "plt.xlabel(\"bore\")"
   ]
  },
  {
   "cell_type": "code",
   "execution_count": 21,
   "metadata": {},
   "outputs": [],
   "source": [
    "cars.loc[cars.bore.isnull(),'bore'] = np.mean(cars.bore)"
   ]
  },
  {
   "cell_type": "markdown",
   "metadata": {},
   "source": [
    "### peak-rpm"
   ]
  },
  {
   "cell_type": "code",
   "execution_count": 22,
   "metadata": {},
   "outputs": [
    {
     "data": {
      "text/plain": [
       "Text(0.5, 0, 'peak-rpm')"
      ]
     },
     "execution_count": 22,
     "metadata": {},
     "output_type": "execute_result"
    },
    {
     "data": {
      "image/png": "[encoded data removed]",
      "text/plain": [
       "<Figure size 720x576 with 1 Axes>"
      ]
     },
     "metadata": {
      "needs_background": "light"
     },
     "output_type": "display_data"
    }
   ],
   "source": [
    "# histogram of peak-rpm\n",
    "\n",
    "plt.figure(figsize=(10,8))\n",
    "sns.distplot(cars['peak-rpm'], bins=24)\n",
    "plt.title(\"Histogram of peak-rpm\")\n",
    "plt.xlabel(\"peak-rpm\")"
   ]
  },
  {
   "cell_type": "code",
   "execution_count": 23,
   "metadata": {},
   "outputs": [],
   "source": [
    "cars.loc[cars['peak-rpm'].isnull(),'peak-rpm'] = np.mean(cars['peak-rpm'])"
   ]
  },
  {
   "cell_type": "markdown",
   "metadata": {},
   "source": [
    "### HORSEPOWER"
   ]
  },
  {
   "cell_type": "code",
   "execution_count": 24,
   "metadata": {},
   "outputs": [
    {
     "data": {
      "text/plain": [
       "Text(0.5, 0, 'horsepower')"
      ]
     },
     "execution_count": 24,
     "metadata": {},
     "output_type": "execute_result"
    },
    {
     "data": {
      "image/png": "[encoded data removed]",
      "text/plain": [
       "<Figure size 720x576 with 1 Axes>"
      ]
     },
     "metadata": {
      "needs_background": "light"
     },
     "output_type": "display_data"
    }
   ],
   "source": [
    "# histogram of horsepower\n",
    "\n",
    "plt.figure(figsize=(10,8))\n",
    "sns.distplot(cars['horsepower'], bins=24)\n",
    "plt.title(\"Histogram of horsepower\")\n",
    "plt.xlabel(\"horsepower\")"
   ]
  },
  {
   "cell_type": "code",
   "execution_count": 25,
   "metadata": {},
   "outputs": [],
   "source": [
    "cars.loc[cars['horsepower'].isnull(),'horsepower'] = 69"
   ]
  },
  {
   "cell_type": "code",
   "execution_count": 26,
   "metadata": {},
   "outputs": [
    {
     "name": "stdout",
     "output_type": "stream",
     "text": [
      "                   Total   Percent\n",
      "normalized-losses     41  0.200000\n",
      "num-of-doors           2  0.009756\n",
      "price                  0  0.000000\n",
      "width                  0  0.000000\n",
      "symboling              0  0.000000\n",
      "make                   0  0.000000\n",
      "fuel-type              0  0.000000\n",
      "aspiration             0  0.000000\n",
      "body-style             0  0.000000\n",
      "drive-wheels           0  0.000000\n",
      "engine-location        0  0.000000\n",
      "wheel-base             0  0.000000\n",
      "length                 0  0.000000\n",
      "h8                     0  0.000000\n",
      "highway-mpg            0  0.000000\n",
      "curb-w8                0  0.000000\n",
      "engine-type            0  0.000000\n",
      "num-of-cylinders       0  0.000000\n",
      "engine-size            0  0.000000\n",
      "fuel-system            0  0.000000\n",
      "bore                   0  0.000000\n",
      "stroke                 0  0.000000\n",
      "compression            0  0.000000\n",
      "horsepower             0  0.000000\n",
      "peak-rpm               0  0.000000\n",
      "city-mpg               0  0.000000\n",
      "CarId                  0  0.000000\n"
     ]
    }
   ],
   "source": [
    "# missing values in the data\n",
    "\n",
    "#missing data\n",
    "total = cars.isnull().sum().sort_values(ascending=False)\n",
    "percent = (cars.isnull().sum()/cars.isnull().count()).sort_values(ascending=False)\n",
    "missing_data = pd.concat([total, percent], axis=1, keys=['Total', 'Percent'])\n",
    "missing_data.head(20)\n",
    "print(missing_data)"
   ]
  },
  {
   "cell_type": "code",
   "execution_count": 27,
   "metadata": {},
   "outputs": [],
   "source": [
    "# we have to drop normalized-losses since it is a pre provided value. 20% of the obs are missing, so using a mean or median imputation wont be a good choice"
   ]
  },
  {
   "cell_type": "code",
   "execution_count": 28,
   "metadata": {},
   "outputs": [],
   "source": [
    "# UNIVARIATE ANALYSIS"
   ]
  },
  {
   "cell_type": "markdown",
   "metadata": {},
   "source": [
    "### Symboling\n",
    "\n",
    "The second rating corresponds to the degree to which the auto is more risky than its price indicates. Cars are initially assigned a risk factor symbol associated with its price.   Then, if it is more risky (or less), this symbol is adjusted by moving it up (or down) the scale.  Actuarians call this process \"symboling\".  A value of +3 indicates that the auto is risky, -3 that it is probably pretty safe."
   ]
  },
  {
   "cell_type": "code",
   "execution_count": 29,
   "metadata": {},
   "outputs": [
    {
     "data": {
      "text/plain": [
       "<matplotlib.axes._subplots.AxesSubplot at 0x1e29e151948>"
      ]
     },
     "execution_count": 29,
     "metadata": {},
     "output_type": "execute_result"
    },
    {
     "data": {
      "image/png": "[encoded data removed]",
      "text/plain": [
       "<Figure size 432x288 with 1 Axes>"
      ]
     },
     "metadata": {
      "needs_background": "light"
     },
     "output_type": "display_data"
    }
   ],
   "source": [
    "cars.symboling.value_counts().plot(kind= 'barh',figsize=(6,4))"
   ]
  },
  {
   "cell_type": "markdown",
   "metadata": {},
   "source": [
    "### Make\n",
    "\n",
    "Which company made the car"
   ]
  },
  {
   "cell_type": "code",
   "execution_count": 30,
   "metadata": {},
   "outputs": [
    {
     "data": {
      "text/plain": [
       "<matplotlib.axes._subplots.AxesSubplot at 0x1e29e1db488>"
      ]
     },
     "execution_count": 30,
     "metadata": {},
     "output_type": "execute_result"
    },
    {
     "data": {
      "image/png": "[encoded data removed]",
      "text/plain": [
       "<Figure size 432x288 with 1 Axes>"
      ]
     },
     "metadata": {
      "needs_background": "light"
     },
     "output_type": "display_data"
    }
   ],
   "source": [
    "cars.make.value_counts().plot(kind= 'barh',figsize=(6,4))"
   ]
  },
  {
   "cell_type": "code",
   "execution_count": 31,
   "metadata": {},
   "outputs": [],
   "source": [
    "# in our given dataset, toyota has made the most cars followed nissan"
   ]
  },
  {
   "cell_type": "code",
   "execution_count": 32,
   "metadata": {},
   "outputs": [],
   "source": [
    "### FUEL TYPE"
   ]
  },
  {
   "cell_type": "code",
   "execution_count": 33,
   "metadata": {},
   "outputs": [
    {
     "data": {
      "text/plain": [
       "<matplotlib.axes._subplots.AxesSubplot at 0x1e29e544ac8>"
      ]
     },
     "execution_count": 33,
     "metadata": {},
     "output_type": "execute_result"
    },
    {
     "data": {
      "image/png": "[encoded data removed]",
      "text/plain": [
       "<Figure size 432x288 with 1 Axes>"
      ]
     },
     "metadata": {
      "needs_background": "light"
     },
     "output_type": "display_data"
    }
   ],
   "source": [
    "cars['fuel-type'].value_counts().plot(kind= 'barh',figsize=(6,4))"
   ]
  },
  {
   "cell_type": "code",
   "execution_count": 34,
   "metadata": {},
   "outputs": [
    {
     "data": {
      "text/plain": [
       "gas       0.902439\n",
       "diesel    0.097561\n",
       "Name: fuel-type, dtype: float64"
      ]
     },
     "execution_count": 34,
     "metadata": {},
     "output_type": "execute_result"
    }
   ],
   "source": [
    "cars['fuel-type'].value_counts()/cars.shape[0]"
   ]
  },
  {
   "cell_type": "code",
   "execution_count": 35,
   "metadata": {},
   "outputs": [],
   "source": [
    "# 90% of the given cars are gas engines.\n",
    "# 9% of the diesel are diesel engines"
   ]
  },
  {
   "attachments": {},
   "cell_type": "markdown",
   "metadata": {},
   "source": [
    "### aspiration\n",
    "\n",
    "A naturally-aspirated engine is one that is not fitted with a turbocharger or supercharger. In other words, air goes into the engine normally, whereas turbocharged and supercharged engines force the air in under pressure to boost power."
   ]
  },
  {
   "cell_type": "code",
   "execution_count": 36,
   "metadata": {},
   "outputs": [
    {
     "data": {
      "text/plain": [
       "<matplotlib.axes._subplots.AxesSubplot at 0x1e29e5b28c8>"
      ]
     },
     "execution_count": 36,
     "metadata": {},
     "output_type": "execute_result"
    },
    {
     "data": {
      "image/png": "[encoded data removed]",
      "text/plain": [
       "<Figure size 432x288 with 1 Axes>"
      ]
     },
     "metadata": {
      "needs_background": "light"
     },
     "output_type": "display_data"
    }
   ],
   "source": [
    "cars['aspiration'].value_counts().plot(kind= 'barh',figsize=(6,4))"
   ]
  },
  {
   "cell_type": "code",
   "execution_count": 37,
   "metadata": {},
   "outputs": [
    {
     "data": {
      "text/plain": [
       "std      0.819512\n",
       "turbo    0.180488\n",
       "Name: aspiration, dtype: float64"
      ]
     },
     "execution_count": 37,
     "metadata": {},
     "output_type": "execute_result"
    }
   ],
   "source": [
    "cars['aspiration'].value_counts()/cars.shape[0]"
   ]
  },
  {
   "cell_type": "code",
   "execution_count": 38,
   "metadata": {},
   "outputs": [],
   "source": [
    "# 81% of the cars in our given dataset have standard aspiration.\n",
    "# 19% of them have turbo aspiration."
   ]
  },
  {
   "cell_type": "markdown",
   "metadata": {},
   "source": [
    "### body-style"
   ]
  },
  {
   "cell_type": "code",
   "execution_count": 39,
   "metadata": {},
   "outputs": [
    {
     "data": {
      "text/plain": [
       "sedan          0.468293\n",
       "hatchback      0.341463\n",
       "wagon          0.121951\n",
       "hardtop        0.039024\n",
       "convertible    0.029268\n",
       "Name: body-style, dtype: float64"
      ]
     },
     "execution_count": 39,
     "metadata": {},
     "output_type": "execute_result"
    }
   ],
   "source": [
    "cars['body-style'].value_counts()/cars.shape[0]"
   ]
  },
  {
   "cell_type": "markdown",
   "metadata": {},
   "source": [
    "### drive-wheels\n",
    "\n",
    "- This setup transfers power to the front wheels, giving them the responsibility of moving and steering the vehicle. They are typically cheaper to manufacturer and are more space-saving than rear-wheel drive.\n",
    "\n",
    "- In rear-wheel drivetrains, power is transferred to the two back wheels. There are many benefits to having power transferred to the rear wheels, \n",
    "including superior handling, acceleration, and braking.\n",
    "\n",
    "- While there are important differences between the two, both 4WD and AWD are drivetrain types that transfer power from the engine to all four wheels of your vehicle."
   ]
  },
  {
   "cell_type": "code",
   "execution_count": 40,
   "metadata": {},
   "outputs": [
    {
     "data": {
      "text/plain": [
       "fwd    0.585366\n",
       "rwd    0.370732\n",
       "4wd    0.043902\n",
       "Name: drive-wheels, dtype: float64"
      ]
     },
     "execution_count": 40,
     "metadata": {},
     "output_type": "execute_result"
    }
   ],
   "source": [
    "cars['drive-wheels'].value_counts()/cars.shape[0]"
   ]
  },
  {
   "attachments": {},
   "cell_type": "markdown",
   "metadata": {},
   "source": [
    "### engine-location\n",
    "\n",
    "- front - most vehicles. almost all the fwd drives.\n",
    "\n",
    "- read - sports car"
   ]
  },
  {
   "cell_type": "code",
   "execution_count": 41,
   "metadata": {},
   "outputs": [
    {
     "data": {
      "text/plain": [
       "front    0.985366\n",
       "rear     0.014634\n",
       "Name: engine-location, dtype: float64"
      ]
     },
     "execution_count": 41,
     "metadata": {},
     "output_type": "execute_result"
    }
   ],
   "source": [
    "cars['engine-location'].value_counts()/cars.shape[0]"
   ]
  },
  {
   "cell_type": "markdown",
   "metadata": {},
   "source": [
    "### Usual specs\n",
    "\n",
    "- height\n",
    "- weight\n",
    "- wheel-base\n",
    "- curb-weight"
   ]
  },
  {
   "cell_type": "code",
   "execution_count": 42,
   "metadata": {},
   "outputs": [
    {
     "data": {
      "text/plain": [
       "ohc      0.721951\n",
       "ohcf     0.073171\n",
       "ohcv     0.063415\n",
       "l        0.058537\n",
       "dohc     0.058537\n",
       "rotor    0.019512\n",
       "dohcv    0.004878\n",
       "Name: engine-type, dtype: float64"
      ]
     },
     "execution_count": 42,
     "metadata": {},
     "output_type": "execute_result"
    }
   ],
   "source": [
    "### engine-type\n",
    "\n",
    "cars['engine-type'].value_counts()/cars.shape[0]"
   ]
  },
  {
   "cell_type": "code",
   "execution_count": 43,
   "metadata": {},
   "outputs": [
    {
     "data": {
      "text/plain": [
       "4     0.775610\n",
       "6     0.117073\n",
       "5     0.053659\n",
       "8     0.024390\n",
       "2     0.019512\n",
       "12    0.004878\n",
       "3     0.004878\n",
       "Name: num-of-cylinders, dtype: float64"
      ]
     },
     "execution_count": 43,
     "metadata": {},
     "output_type": "execute_result"
    }
   ],
   "source": [
    "### num-of-cylinders\n",
    "\n",
    "cars['num-of-cylinders'].value_counts()/cars.shape[0]"
   ]
  },
  {
   "cell_type": "code",
   "execution_count": 44,
   "metadata": {},
   "outputs": [
    {
     "data": {
      "text/plain": [
       "Text(0.5, 0, 'engine-size')"
      ]
     },
     "execution_count": 44,
     "metadata": {},
     "output_type": "execute_result"
    },
    {
     "data": {
      "image/png": "[encoded data removed]",
      "text/plain": [
       "<Figure size 432x288 with 1 Axes>"
      ]
     },
     "metadata": {
      "needs_background": "light"
     },
     "output_type": "display_data"
    }
   ],
   "source": [
    "# histogram of engine-size\n",
    "\n",
    "plt.figure(figsize=(6,4))\n",
    "sns.distplot(cars['engine-size'], bins=24)\n",
    "plt.title(\"Histogram of engine-size\")\n",
    "plt.xlabel(\"engine-size\")"
   ]
  },
  {
   "cell_type": "markdown",
   "metadata": {},
   "source": [
    "The short answer is that a bigger bore is generally the best way to get more power. It creates more space, allowing for bigger valve openings, which in turn can bring more fuel and air into the cylinder. This doesn't work well at low rpm but does at high rpm. That plays well in to the other factor. A bigger bore with a shorter stroke also allows an engine to rev higher, which creates more horsepower.\n",
    "\n",
    "Conversely, a long stroke is generally better for fuel efficiency, because it reduces surface area during combustion. With less surface area, there is less room for heat to escape, ensuring more of the energy from combustion is turned into useful work to push down the piston."
   ]
  },
  {
   "cell_type": "markdown",
   "metadata": {},
   "source": [
    "### HORSEPOWER"
   ]
  },
  {
   "cell_type": "markdown",
   "metadata": {},
   "source": [
    "Horsepower (hp) is the metric used to indicate the power produced by a car's engine - the higher the number"
   ]
  },
  {
   "cell_type": "code",
   "execution_count": 45,
   "metadata": {},
   "outputs": [
    {
     "data": {
      "text/plain": [
       "Text(0.5, 0, 'horsepower')"
      ]
     },
     "execution_count": 45,
     "metadata": {},
     "output_type": "execute_result"
    },
    {
     "data": {
      "image/png": "[encoded data removed]",
      "text/plain": [
       "<Figure size 432x288 with 1 Axes>"
      ]
     },
     "metadata": {
      "needs_background": "light"
     },
     "output_type": "display_data"
    }
   ],
   "source": [
    "# histogram of horsepower\n",
    "\n",
    "plt.figure(figsize=(6,4))\n",
    "sns.distplot(cars['horsepower'], bins=24)\n",
    "plt.title(\"Histogram of horsepower\")\n",
    "plt.xlabel(\"horsepower\")"
   ]
  },
  {
   "cell_type": "markdown",
   "metadata": {},
   "source": [
    "### city-mpg \n",
    "\n",
    "MPG is an abbreviation for 'miles-per-gallon' and it is used to give you an indication of the fuel economy of a car or commercial vehicle. It helps you to work out how cheap or expensive a car will be to run."
   ]
  },
  {
   "cell_type": "code",
   "execution_count": 46,
   "metadata": {},
   "outputs": [
    {
     "data": {
      "text/plain": [
       "Text(0.5, 0, 'city-mpg')"
      ]
     },
     "execution_count": 46,
     "metadata": {},
     "output_type": "execute_result"
    },
    {
     "data": {
      "image/png": "[encoded data removed]",
      "text/plain": [
       "<Figure size 432x288 with 1 Axes>"
      ]
     },
     "metadata": {
      "needs_background": "light"
     },
     "output_type": "display_data"
    }
   ],
   "source": [
    "# histogram of city-mpg\n",
    "\n",
    "plt.figure(figsize=(6,4))\n",
    "sns.distplot(cars['city-mpg'], bins=24)\n",
    "plt.title(\"Histogram of city-mpg\")\n",
    "plt.xlabel(\"city-mpg\")"
   ]
  },
  {
   "cell_type": "markdown",
   "metadata": {},
   "source": [
    "### PRICE"
   ]
  },
  {
   "cell_type": "code",
   "execution_count": 47,
   "metadata": {},
   "outputs": [
    {
     "data": {
      "text/plain": [
       "Text(0.5, 0, 'price')"
      ]
     },
     "execution_count": 47,
     "metadata": {},
     "output_type": "execute_result"
    },
    {
     "data": {
      "image/png": "[encoded data removed]",
      "text/plain": [
       "<Figure size 432x288 with 1 Axes>"
      ]
     },
     "metadata": {
      "needs_background": "light"
     },
     "output_type": "display_data"
    }
   ],
   "source": [
    "# histogram of price\n",
    "\n",
    "plt.figure(figsize=(6,4))\n",
    "sns.distplot(cars['price'], bins=24)\n",
    "plt.title(\"Histogram of price\")\n",
    "plt.xlabel(\"price\")"
   ]
  },
  {
   "cell_type": "code",
   "execution_count": 48,
   "metadata": {},
   "outputs": [
    {
     "data": {
      "text/plain": [
       "Text(0.5, 0, 'log_price')"
      ]
     },
     "execution_count": 48,
     "metadata": {},
     "output_type": "execute_result"
    },
    {
     "data": {
      "image/png": "[encoded data removed]",
      "text/plain": [
       "<Figure size 432x288 with 1 Axes>"
      ]
     },
     "metadata": {
      "needs_background": "light"
     },
     "output_type": "display_data"
    }
   ],
   "source": [
    "### it is skewed to the right, let's do a log transformation and check\n",
    "\n",
    "# histogram of log_price\n",
    "\n",
    "cars['log_price'] = np.log(cars['price'])\n",
    "\n",
    "plt.figure(figsize=(6,4))\n",
    "sns.distplot(cars['log_price'], bins=24)\n",
    "plt.title(\"Histogram of log_price\")\n",
    "plt.xlabel(\"log_price\")"
   ]
  },
  {
   "cell_type": "code",
   "execution_count": 49,
   "metadata": {},
   "outputs": [],
   "source": [
    "### this is more normally distributed"
   ]
  },
  {
   "cell_type": "code",
   "execution_count": 50,
   "metadata": {},
   "outputs": [],
   "source": [
    "# BIVARIATE ANALYSIS"
   ]
  },
  {
   "cell_type": "code",
   "execution_count": 51,
   "metadata": {},
   "outputs": [
    {
     "data": {
      "text/plain": [
       "Index(['CarId', 'symboling', 'normalized-losses', 'make', 'fuel-type',\n",
       "       'aspiration', 'num-of-doors', 'body-style', 'drive-wheels',\n",
       "       'engine-location', 'wheel-base', 'length', 'width', 'h8', 'curb-w8',\n",
       "       'engine-type', 'num-of-cylinders', 'engine-size', 'fuel-system', 'bore',\n",
       "       'stroke', 'compression', 'horsepower', 'peak-rpm', 'city-mpg',\n",
       "       'highway-mpg', 'price', 'log_price'],\n",
       "      dtype='object')"
      ]
     },
     "execution_count": 51,
     "metadata": {},
     "output_type": "execute_result"
    }
   ],
   "source": [
    "cars.columns"
   ]
  },
  {
   "cell_type": "code",
   "execution_count": 52,
   "metadata": {},
   "outputs": [],
   "source": [
    "x = ['symboling', 'make', 'fuel-type',\n",
    "       'aspiration', 'num-of-doors', 'body-style', 'drive-wheels',\n",
    "       'engine-location', 'wheel-base', 'length', 'width', 'h8', 'curb-w8',\n",
    "       'engine-type', 'num-of-cylinders', 'engine-size', 'fuel-system', 'bore',\n",
    "       'stroke', 'horsepower', 'peak-rpm', 'city-mpg',\n",
    "       'highway-mpg', 'price', 'log_price']\n",
    "\n",
    "cars1 = cars[x]"
   ]
  },
  {
   "cell_type": "markdown",
   "metadata": {},
   "source": [
    "# Let's check the multicollinearity of features by checking the correlation matric\n",
    "\n",
    "plt.figure(figsize=(15,15))\n",
    "p=sns.heatmap(cars1.corr(), annot=True,cmap='RdYlGn',center=0) "
   ]
  },
  {
   "cell_type": "code",
   "execution_count": 53,
   "metadata": {},
   "outputs": [
    {
     "data": {
      "text/html": [
       "<div>\n",
       "<style scoped>\n",
       "    .dataframe tbody tr th:only-of-type {\n",
       "        vertical-align: middle;\n",
       "    }\n",
       "\n",
       "    .dataframe tbody tr th {\n",
       "        vertical-align: top;\n",
       "    }\n",
       "\n",
       "    .dataframe thead th {\n",
       "        text-align: right;\n",
       "    }\n",
       "</style>\n",
       "<table border=\"1\" class=\"dataframe\">\n",
       "  <thead>\n",
       "    <tr style=\"text-align: right;\">\n",
       "      <th></th>\n",
       "      <th>symboling</th>\n",
       "      <th>num-of-doors</th>\n",
       "      <th>wheel-base</th>\n",
       "      <th>length</th>\n",
       "      <th>width</th>\n",
       "      <th>h8</th>\n",
       "      <th>curb-w8</th>\n",
       "      <th>num-of-cylinders</th>\n",
       "      <th>engine-size</th>\n",
       "      <th>bore</th>\n",
       "      <th>stroke</th>\n",
       "      <th>horsepower</th>\n",
       "      <th>peak-rpm</th>\n",
       "      <th>city-mpg</th>\n",
       "      <th>highway-mpg</th>\n",
       "      <th>price</th>\n",
       "      <th>log_price</th>\n",
       "    </tr>\n",
       "  </thead>\n",
       "  <tbody>\n",
       "    <tr>\n",
       "      <th>symboling</th>\n",
       "      <td>1.000000</td>\n",
       "      <td>-0.664550</td>\n",
       "      <td>-0.531954</td>\n",
       "      <td>-0.357612</td>\n",
       "      <td>-0.232919</td>\n",
       "      <td>-0.541038</td>\n",
       "      <td>-0.227691</td>\n",
       "      <td>-0.113129</td>\n",
       "      <td>-0.105790</td>\n",
       "      <td>-0.130083</td>\n",
       "      <td>-0.008689</td>\n",
       "      <td>0.069954</td>\n",
       "      <td>0.273679</td>\n",
       "      <td>-0.035823</td>\n",
       "      <td>0.034606</td>\n",
       "      <td>-0.079978</td>\n",
       "      <td>-0.088717</td>\n",
       "    </tr>\n",
       "    <tr>\n",
       "      <th>num-of-doors</th>\n",
       "      <td>-0.664550</td>\n",
       "      <td>1.000000</td>\n",
       "      <td>0.445696</td>\n",
       "      <td>0.393593</td>\n",
       "      <td>0.202072</td>\n",
       "      <td>0.547651</td>\n",
       "      <td>0.195683</td>\n",
       "      <td>-0.016530</td>\n",
       "      <td>0.017519</td>\n",
       "      <td>0.113117</td>\n",
       "      <td>-0.010654</td>\n",
       "      <td>-0.122748</td>\n",
       "      <td>-0.241249</td>\n",
       "      <td>-0.020812</td>\n",
       "      <td>-0.044507</td>\n",
       "      <td>0.030093</td>\n",
       "      <td>0.084407</td>\n",
       "    </tr>\n",
       "    <tr>\n",
       "      <th>wheel-base</th>\n",
       "      <td>-0.531954</td>\n",
       "      <td>0.445696</td>\n",
       "      <td>1.000000</td>\n",
       "      <td>0.874587</td>\n",
       "      <td>0.795144</td>\n",
       "      <td>0.589435</td>\n",
       "      <td>0.776386</td>\n",
       "      <td>0.339507</td>\n",
       "      <td>0.569329</td>\n",
       "      <td>0.488760</td>\n",
       "      <td>0.160944</td>\n",
       "      <td>0.354449</td>\n",
       "      <td>-0.360704</td>\n",
       "      <td>-0.470414</td>\n",
       "      <td>-0.544082</td>\n",
       "      <td>0.577816</td>\n",
       "      <td>0.629401</td>\n",
       "    </tr>\n",
       "    <tr>\n",
       "      <th>length</th>\n",
       "      <td>-0.357612</td>\n",
       "      <td>0.393593</td>\n",
       "      <td>0.874587</td>\n",
       "      <td>1.000000</td>\n",
       "      <td>0.841118</td>\n",
       "      <td>0.491029</td>\n",
       "      <td>0.877728</td>\n",
       "      <td>0.430672</td>\n",
       "      <td>0.683360</td>\n",
       "      <td>0.606462</td>\n",
       "      <td>0.129522</td>\n",
       "      <td>0.548702</td>\n",
       "      <td>-0.287031</td>\n",
       "      <td>-0.670909</td>\n",
       "      <td>-0.704662</td>\n",
       "      <td>0.682920</td>\n",
       "      <td>0.767864</td>\n",
       "    </tr>\n",
       "    <tr>\n",
       "      <th>width</th>\n",
       "      <td>-0.232919</td>\n",
       "      <td>0.202072</td>\n",
       "      <td>0.795144</td>\n",
       "      <td>0.841118</td>\n",
       "      <td>1.000000</td>\n",
       "      <td>0.279210</td>\n",
       "      <td>0.867032</td>\n",
       "      <td>0.545007</td>\n",
       "      <td>0.735433</td>\n",
       "      <td>0.559152</td>\n",
       "      <td>0.182939</td>\n",
       "      <td>0.637120</td>\n",
       "      <td>-0.219859</td>\n",
       "      <td>-0.642704</td>\n",
       "      <td>-0.677218</td>\n",
       "      <td>0.759325</td>\n",
       "      <td>0.802544</td>\n",
       "    </tr>\n",
       "    <tr>\n",
       "      <th>h8</th>\n",
       "      <td>-0.541038</td>\n",
       "      <td>0.547651</td>\n",
       "      <td>0.589435</td>\n",
       "      <td>0.491029</td>\n",
       "      <td>0.279210</td>\n",
       "      <td>1.000000</td>\n",
       "      <td>0.295572</td>\n",
       "      <td>-0.013995</td>\n",
       "      <td>0.067149</td>\n",
       "      <td>0.171101</td>\n",
       "      <td>-0.055351</td>\n",
       "      <td>-0.106594</td>\n",
       "      <td>-0.320602</td>\n",
       "      <td>-0.048640</td>\n",
       "      <td>-0.107358</td>\n",
       "      <td>0.119336</td>\n",
       "      <td>0.162798</td>\n",
       "    </tr>\n",
       "    <tr>\n",
       "      <th>curb-w8</th>\n",
       "      <td>-0.227691</td>\n",
       "      <td>0.195683</td>\n",
       "      <td>0.776386</td>\n",
       "      <td>0.877728</td>\n",
       "      <td>0.867032</td>\n",
       "      <td>0.295572</td>\n",
       "      <td>1.000000</td>\n",
       "      <td>0.609727</td>\n",
       "      <td>0.850594</td>\n",
       "      <td>0.648485</td>\n",
       "      <td>0.168783</td>\n",
       "      <td>0.748687</td>\n",
       "      <td>-0.266283</td>\n",
       "      <td>-0.757414</td>\n",
       "      <td>-0.797465</td>\n",
       "      <td>0.835305</td>\n",
       "      <td>0.891237</td>\n",
       "    </tr>\n",
       "    <tr>\n",
       "      <th>num-of-cylinders</th>\n",
       "      <td>-0.113129</td>\n",
       "      <td>-0.016530</td>\n",
       "      <td>0.339507</td>\n",
       "      <td>0.430672</td>\n",
       "      <td>0.545007</td>\n",
       "      <td>-0.013995</td>\n",
       "      <td>0.609727</td>\n",
       "      <td>1.000000</td>\n",
       "      <td>0.846031</td>\n",
       "      <td>0.231439</td>\n",
       "      <td>0.008151</td>\n",
       "      <td>0.691620</td>\n",
       "      <td>-0.124358</td>\n",
       "      <td>-0.445837</td>\n",
       "      <td>-0.466666</td>\n",
       "      <td>0.718305</td>\n",
       "      <td>0.631713</td>\n",
       "    </tr>\n",
       "    <tr>\n",
       "      <th>engine-size</th>\n",
       "      <td>-0.105790</td>\n",
       "      <td>0.017519</td>\n",
       "      <td>0.569329</td>\n",
       "      <td>0.683360</td>\n",
       "      <td>0.735433</td>\n",
       "      <td>0.067149</td>\n",
       "      <td>0.850594</td>\n",
       "      <td>0.846031</td>\n",
       "      <td>1.000000</td>\n",
       "      <td>0.583798</td>\n",
       "      <td>0.203094</td>\n",
       "      <td>0.806533</td>\n",
       "      <td>-0.244599</td>\n",
       "      <td>-0.653658</td>\n",
       "      <td>-0.677470</td>\n",
       "      <td>0.874145</td>\n",
       "      <td>0.831985</td>\n",
       "    </tr>\n",
       "    <tr>\n",
       "      <th>bore</th>\n",
       "      <td>-0.130083</td>\n",
       "      <td>0.113117</td>\n",
       "      <td>0.488760</td>\n",
       "      <td>0.606462</td>\n",
       "      <td>0.559152</td>\n",
       "      <td>0.171101</td>\n",
       "      <td>0.648485</td>\n",
       "      <td>0.231439</td>\n",
       "      <td>0.583798</td>\n",
       "      <td>1.000000</td>\n",
       "      <td>-0.055909</td>\n",
       "      <td>0.569336</td>\n",
       "      <td>-0.254761</td>\n",
       "      <td>-0.584508</td>\n",
       "      <td>-0.586992</td>\n",
       "      <td>0.553174</td>\n",
       "      <td>0.610562</td>\n",
       "    </tr>\n",
       "    <tr>\n",
       "      <th>stroke</th>\n",
       "      <td>-0.008689</td>\n",
       "      <td>-0.010654</td>\n",
       "      <td>0.160944</td>\n",
       "      <td>0.129522</td>\n",
       "      <td>0.182939</td>\n",
       "      <td>-0.055351</td>\n",
       "      <td>0.168783</td>\n",
       "      <td>0.008151</td>\n",
       "      <td>0.203094</td>\n",
       "      <td>-0.055909</td>\n",
       "      <td>1.000000</td>\n",
       "      <td>0.070016</td>\n",
       "      <td>-0.066844</td>\n",
       "      <td>-0.042179</td>\n",
       "      <td>-0.043961</td>\n",
       "      <td>0.079442</td>\n",
       "      <td>0.097998</td>\n",
       "    </tr>\n",
       "    <tr>\n",
       "      <th>horsepower</th>\n",
       "      <td>0.069954</td>\n",
       "      <td>-0.122748</td>\n",
       "      <td>0.354449</td>\n",
       "      <td>0.548702</td>\n",
       "      <td>0.637120</td>\n",
       "      <td>-0.106594</td>\n",
       "      <td>0.748687</td>\n",
       "      <td>0.691620</td>\n",
       "      <td>0.806533</td>\n",
       "      <td>0.569336</td>\n",
       "      <td>0.070016</td>\n",
       "      <td>1.000000</td>\n",
       "      <td>0.130468</td>\n",
       "      <td>-0.797121</td>\n",
       "      <td>-0.768256</td>\n",
       "      <td>0.807935</td>\n",
       "      <td>0.825100</td>\n",
       "    </tr>\n",
       "    <tr>\n",
       "      <th>peak-rpm</th>\n",
       "      <td>0.273679</td>\n",
       "      <td>-0.241249</td>\n",
       "      <td>-0.360704</td>\n",
       "      <td>-0.287031</td>\n",
       "      <td>-0.219859</td>\n",
       "      <td>-0.320602</td>\n",
       "      <td>-0.266283</td>\n",
       "      <td>-0.124358</td>\n",
       "      <td>-0.244599</td>\n",
       "      <td>-0.254761</td>\n",
       "      <td>-0.066844</td>\n",
       "      <td>0.130468</td>\n",
       "      <td>1.000000</td>\n",
       "      <td>-0.113723</td>\n",
       "      <td>-0.054257</td>\n",
       "      <td>-0.085509</td>\n",
       "      <td>-0.088648</td>\n",
       "    </tr>\n",
       "    <tr>\n",
       "      <th>city-mpg</th>\n",
       "      <td>-0.035823</td>\n",
       "      <td>-0.020812</td>\n",
       "      <td>-0.470414</td>\n",
       "      <td>-0.670909</td>\n",
       "      <td>-0.642704</td>\n",
       "      <td>-0.048640</td>\n",
       "      <td>-0.757414</td>\n",
       "      <td>-0.445837</td>\n",
       "      <td>-0.653658</td>\n",
       "      <td>-0.584508</td>\n",
       "      <td>-0.042179</td>\n",
       "      <td>-0.797121</td>\n",
       "      <td>-0.113723</td>\n",
       "      <td>1.000000</td>\n",
       "      <td>0.971337</td>\n",
       "      <td>-0.685751</td>\n",
       "      <td>-0.771615</td>\n",
       "    </tr>\n",
       "    <tr>\n",
       "      <th>highway-mpg</th>\n",
       "      <td>0.034606</td>\n",
       "      <td>-0.044507</td>\n",
       "      <td>-0.544082</td>\n",
       "      <td>-0.704662</td>\n",
       "      <td>-0.677218</td>\n",
       "      <td>-0.107358</td>\n",
       "      <td>-0.797465</td>\n",
       "      <td>-0.466666</td>\n",
       "      <td>-0.677470</td>\n",
       "      <td>-0.586992</td>\n",
       "      <td>-0.043961</td>\n",
       "      <td>-0.768256</td>\n",
       "      <td>-0.054257</td>\n",
       "      <td>0.971337</td>\n",
       "      <td>1.000000</td>\n",
       "      <td>-0.697599</td>\n",
       "      <td>-0.775197</td>\n",
       "    </tr>\n",
       "    <tr>\n",
       "      <th>price</th>\n",
       "      <td>-0.079978</td>\n",
       "      <td>0.030093</td>\n",
       "      <td>0.577816</td>\n",
       "      <td>0.682920</td>\n",
       "      <td>0.759325</td>\n",
       "      <td>0.119336</td>\n",
       "      <td>0.835305</td>\n",
       "      <td>0.718305</td>\n",
       "      <td>0.874145</td>\n",
       "      <td>0.553174</td>\n",
       "      <td>0.079442</td>\n",
       "      <td>0.807935</td>\n",
       "      <td>-0.085509</td>\n",
       "      <td>-0.685751</td>\n",
       "      <td>-0.697599</td>\n",
       "      <td>1.000000</td>\n",
       "      <td>0.957655</td>\n",
       "    </tr>\n",
       "    <tr>\n",
       "      <th>log_price</th>\n",
       "      <td>-0.088717</td>\n",
       "      <td>0.084407</td>\n",
       "      <td>0.629401</td>\n",
       "      <td>0.767864</td>\n",
       "      <td>0.802544</td>\n",
       "      <td>0.162798</td>\n",
       "      <td>0.891237</td>\n",
       "      <td>0.631713</td>\n",
       "      <td>0.831985</td>\n",
       "      <td>0.610562</td>\n",
       "      <td>0.097998</td>\n",
       "      <td>0.825100</td>\n",
       "      <td>-0.088648</td>\n",
       "      <td>-0.771615</td>\n",
       "      <td>-0.775197</td>\n",
       "      <td>0.957655</td>\n",
       "      <td>1.000000</td>\n",
       "    </tr>\n",
       "  </tbody>\n",
       "</table>\n",
       "</div>"
      ],
      "text/plain": [
       "                  symboling  num-of-doors  wheel-base    length     width  \\\n",
       "symboling          1.000000     -0.664550   -0.531954 -0.357612 -0.232919   \n",
       "num-of-doors      -0.664550      1.000000    0.445696  0.393593  0.202072   \n",
       "wheel-base        -0.531954      0.445696    1.000000  0.874587  0.795144   \n",
       "length            -0.357612      0.393593    0.874587  1.000000  0.841118   \n",
       "width             -0.232919      0.202072    0.795144  0.841118  1.000000   \n",
       "h8                -0.541038      0.547651    0.589435  0.491029  0.279210   \n",
       "curb-w8           -0.227691      0.195683    0.776386  0.877728  0.867032   \n",
       "num-of-cylinders  -0.113129     -0.016530    0.339507  0.430672  0.545007   \n",
       "engine-size       -0.105790      0.017519    0.569329  0.683360  0.735433   \n",
       "bore              -0.130083      0.113117    0.488760  0.606462  0.559152   \n",
       "stroke            -0.008689     -0.010654    0.160944  0.129522  0.182939   \n",
       "horsepower         0.069954     -0.122748    0.354449  0.548702  0.637120   \n",
       "peak-rpm           0.273679     -0.241249   -0.360704 -0.287031 -0.219859   \n",
       "city-mpg          -0.035823     -0.020812   -0.470414 -0.670909 -0.642704   \n",
       "highway-mpg        0.034606     -0.044507   -0.544082 -0.704662 -0.677218   \n",
       "price             -0.079978      0.030093    0.577816  0.682920  0.759325   \n",
       "log_price         -0.088717      0.084407    0.629401  0.767864  0.802544   \n",
       "\n",
       "                        h8   curb-w8  num-of-cylinders  engine-size      bore  \\\n",
       "symboling        -0.541038 -0.227691         -0.113129    -0.105790 -0.130083   \n",
       "num-of-doors      0.547651  0.195683         -0.016530     0.017519  0.113117   \n",
       "wheel-base        0.589435  0.776386          0.339507     0.569329  0.488760   \n",
       "length            0.491029  0.877728          0.430672     0.683360  0.606462   \n",
       "width             0.279210  0.867032          0.545007     0.735433  0.559152   \n",
       "h8                1.000000  0.295572         -0.013995     0.067149  0.171101   \n",
       "curb-w8           0.295572  1.000000          0.609727     0.850594  0.648485   \n",
       "num-of-cylinders -0.013995  0.609727          1.000000     0.846031  0.231439   \n",
       "engine-size       0.067149  0.850594          0.846031     1.000000  0.583798   \n",
       "bore              0.171101  0.648485          0.231439     0.583798  1.000000   \n",
       "stroke           -0.055351  0.168783          0.008151     0.203094 -0.055909   \n",
       "horsepower       -0.106594  0.748687          0.691620     0.806533  0.569336   \n",
       "peak-rpm         -0.320602 -0.266283         -0.124358    -0.244599 -0.254761   \n",
       "city-mpg         -0.048640 -0.757414         -0.445837    -0.653658 -0.584508   \n",
       "highway-mpg      -0.107358 -0.797465         -0.466666    -0.677470 -0.586992   \n",
       "price             0.119336  0.835305          0.718305     0.874145  0.553174   \n",
       "log_price         0.162798  0.891237          0.631713     0.831985  0.610562   \n",
       "\n",
       "                    stroke  horsepower  peak-rpm  city-mpg  highway-mpg  \\\n",
       "symboling        -0.008689    0.069954  0.273679 -0.035823     0.034606   \n",
       "num-of-doors     -0.010654   -0.122748 -0.241249 -0.020812    -0.044507   \n",
       "wheel-base        0.160944    0.354449 -0.360704 -0.470414    -0.544082   \n",
       "length            0.129522    0.548702 -0.287031 -0.670909    -0.704662   \n",
       "width             0.182939    0.637120 -0.219859 -0.642704    -0.677218   \n",
       "h8               -0.055351   -0.106594 -0.320602 -0.048640    -0.107358   \n",
       "curb-w8           0.168783    0.748687 -0.266283 -0.757414    -0.797465   \n",
       "num-of-cylinders  0.008151    0.691620 -0.124358 -0.445837    -0.466666   \n",
       "engine-size       0.203094    0.806533 -0.244599 -0.653658    -0.677470   \n",
       "bore             -0.055909    0.569336 -0.254761 -0.584508    -0.586992   \n",
       "stroke            1.000000    0.070016 -0.066844 -0.042179    -0.043961   \n",
       "horsepower        0.070016    1.000000  0.130468 -0.797121    -0.768256   \n",
       "peak-rpm         -0.066844    0.130468  1.000000 -0.113723    -0.054257   \n",
       "city-mpg         -0.042179   -0.797121 -0.113723  1.000000     0.971337   \n",
       "highway-mpg      -0.043961   -0.768256 -0.054257  0.971337     1.000000   \n",
       "price             0.079442    0.807935 -0.085509 -0.685751    -0.697599   \n",
       "log_price         0.097998    0.825100 -0.088648 -0.771615    -0.775197   \n",
       "\n",
       "                     price  log_price  \n",
       "symboling        -0.079978  -0.088717  \n",
       "num-of-doors      0.030093   0.084407  \n",
       "wheel-base        0.577816   0.629401  \n",
       "length            0.682920   0.767864  \n",
       "width             0.759325   0.802544  \n",
       "h8                0.119336   0.162798  \n",
       "curb-w8           0.835305   0.891237  \n",
       "num-of-cylinders  0.718305   0.631713  \n",
       "engine-size       0.874145   0.831985  \n",
       "bore              0.553174   0.610562  \n",
       "stroke            0.079442   0.097998  \n",
       "horsepower        0.807935   0.825100  \n",
       "peak-rpm         -0.085509  -0.088648  \n",
       "city-mpg         -0.685751  -0.771615  \n",
       "highway-mpg      -0.697599  -0.775197  \n",
       "price             1.000000   0.957655  \n",
       "log_price         0.957655   1.000000  "
      ]
     },
     "execution_count": 53,
     "metadata": {},
     "output_type": "execute_result"
    }
   ],
   "source": [
    "cars1.corr(method ='pearson')"
   ]
  },
  {
   "cell_type": "code",
   "execution_count": null,
   "metadata": {},
   "outputs": [],
   "source": []
  },
  {
   "cell_type": "code",
   "execution_count": null,
   "metadata": {},
   "outputs": [],
   "source": []
  },
  {
   "cell_type": "code",
   "execution_count": 54,
   "metadata": {},
   "outputs": [
    {
     "data": {
      "image/png": "[encoded data removed]",
      "text/plain": [
       "<Figure size 1440x720 with 1 Axes>"
      ]
     },
     "metadata": {
      "needs_background": "light"
     },
     "output_type": "display_data"
    }
   ],
   "source": [
    "#The rotation argument\n",
    "#Side by Side boxplot\n",
    "cars.boxplot(column=\"price\", \n",
    "             by=\"make\",\n",
    "             grid=False,         \n",
    "             figsize = (20,10),\n",
    "             rot=90)            #The angle by which you want to rotate the labels\n",
    "\n",
    "plt.xlabel(\"Zipcode\", fontsize=12)\n",
    "#plt.title(\"Boxplot of MPG\", fontsize=14)\n",
    "\n",
    "plt.show()\n"
   ]
  },
  {
   "cell_type": "markdown",
   "metadata": {},
   "source": [
    "Prices of BMW and Mercedes are very far from the prices of other cars. the lowest priced mercedes is higher than the highest price of most cars"
   ]
  },
  {
   "cell_type": "code",
   "execution_count": 55,
   "metadata": {},
   "outputs": [
    {
     "data": {
      "image/png": "[encoded data removed]",
      "text/plain": [
       "<Figure size 720x360 with 1 Axes>"
      ]
     },
     "metadata": {
      "needs_background": "light"
     },
     "output_type": "display_data"
    }
   ],
   "source": [
    "#The rotation argument\n",
    "#Side by Side boxplot\n",
    "cars.boxplot(column=\"price\", \n",
    "             by=\"fuel-type\",\n",
    "             grid=False,         \n",
    "             figsize = (10,5),\n",
    "             rot=90)            #The angle by which you want to rotate the labels\n",
    "\n",
    "plt.xlabel(\"fuel-type\", fontsize=12)\n",
    "#plt.title(\"Boxplot of MPG\", fontsize=14)\n",
    "\n",
    "plt.show()\n"
   ]
  },
  {
   "cell_type": "markdown",
   "metadata": {},
   "source": [
    "This is a bit of a surprise. Not much difference in the prices for petrol and diesel engine"
   ]
  },
  {
   "cell_type": "code",
   "execution_count": 56,
   "metadata": {},
   "outputs": [
    {
     "data": {
      "image/png": "[encoded data removed]",
      "text/plain": [
       "<Figure size 576x360 with 1 Axes>"
      ]
     },
     "metadata": {
      "needs_background": "light"
     },
     "output_type": "display_data"
    }
   ],
   "source": [
    "#The rotation argument\n",
    "#Side by Side boxplot\n",
    "cars.boxplot(column=\"price\", \n",
    "             by=\"aspiration\",\n",
    "             grid=False,         \n",
    "             figsize = (8,5),\n",
    "             rot=90)            #The angle by which you want to rotate the labels\n",
    "\n",
    "plt.xlabel(\"aspiration\", fontsize=12)\n",
    "#plt.title(\"Boxplot of MPG\", fontsize=14)\n",
    "\n",
    "plt.show()\n"
   ]
  },
  {
   "cell_type": "code",
   "execution_count": 57,
   "metadata": {},
   "outputs": [],
   "source": [
    "# turbos are priced higher generally. But std has a few outliers. This could be due to other factors."
   ]
  },
  {
   "cell_type": "code",
   "execution_count": 58,
   "metadata": {},
   "outputs": [
    {
     "data": {
      "image/png": "[encoded data removed]",
      "text/plain": [
       "<Figure size 576x360 with 1 Axes>"
      ]
     },
     "metadata": {
      "needs_background": "light"
     },
     "output_type": "display_data"
    }
   ],
   "source": [
    "#The rotation argument\n",
    "#Side by Side boxplot\n",
    "cars.boxplot(column=\"price\", \n",
    "             by=\"drive-wheels\",\n",
    "             grid=False,         \n",
    "             figsize = (8,5),\n",
    "             rot=90)            #The angle by which you want to rotate the labels\n",
    "\n",
    "plt.xlabel(\"drive-wheels\", fontsize=12)\n",
    "#plt.title(\"Boxplot of MPG\", fontsize=14)\n",
    "\n",
    "plt.show()\n"
   ]
  },
  {
   "cell_type": "markdown",
   "metadata": {},
   "source": [
    "This was expected. rwd vehicles are sports vehicles. So they are priced a bit higher"
   ]
  },
  {
   "cell_type": "code",
   "execution_count": 59,
   "metadata": {},
   "outputs": [
    {
     "data": {
      "image/png": "[encoded data removed]",
      "text/plain": [
       "<Figure size 576x360 with 1 Axes>"
      ]
     },
     "metadata": {
      "needs_background": "light"
     },
     "output_type": "display_data"
    }
   ],
   "source": [
    "#The rotation argument\n",
    "#Side by Side boxplot\n",
    "cars.boxplot(column=\"price\", \n",
    "             by=\"engine-location\",\n",
    "             grid=False,         \n",
    "             figsize = (8,5),\n",
    "             rot=90)            #The angle by which you want to rotate the labels\n",
    "\n",
    "plt.xlabel(\"engine-location\", fontsize=12)\n",
    "#plt.title(\"Boxplot of MPG\", fontsize=14)\n",
    "\n",
    "plt.show()\n"
   ]
  },
  {
   "cell_type": "markdown",
   "metadata": {},
   "source": [
    "Only in sports cars, engines are on the rear side. So price is high."
   ]
  },
  {
   "cell_type": "code",
   "execution_count": 60,
   "metadata": {},
   "outputs": [
    {
     "data": {
      "image/png": "[encoded data removed]",
      "text/plain": [
       "<Figure size 576x360 with 1 Axes>"
      ]
     },
     "metadata": {
      "needs_background": "light"
     },
     "output_type": "display_data"
    }
   ],
   "source": [
    "#The rotation argument\n",
    "#Side by Side boxplot\n",
    "cars.boxplot(column=\"price\", \n",
    "             by=\"body-style\",\n",
    "             grid=False,         \n",
    "             figsize = (8,5),\n",
    "             rot=90)            #The angle by which you want to rotate the labels\n",
    "\n",
    "plt.xlabel(\"body-style\", fontsize=12)\n",
    "#plt.title(\"Boxplot of MPG\", fontsize=14)\n",
    "\n",
    "plt.show()\n"
   ]
  },
  {
   "cell_type": "code",
   "execution_count": 61,
   "metadata": {},
   "outputs": [],
   "source": [
    "from sklearn.preprocessing import LabelBinarizer\n",
    "\n",
    "lb = LabelBinarizer()\n",
    "zip_dummies = lb.fit_transform(cars['make'])\n",
    "zip_dum_df = pd.DataFrame(zip_dummies,columns=lb.classes_)\n",
    "cars2 = cars.join(zip_dum_df)"
   ]
  },
  {
   "cell_type": "code",
   "execution_count": 62,
   "metadata": {},
   "outputs": [
    {
     "data": {
      "text/plain": [
       "Index(['CarId', 'symboling', 'normalized-losses', 'make', 'fuel-type',\n",
       "       'aspiration', 'num-of-doors', 'body-style', 'drive-wheels',\n",
       "       'engine-location', 'wheel-base', 'length', 'width', 'h8', 'curb-w8',\n",
       "       'engine-type', 'num-of-cylinders', 'engine-size', 'fuel-system', 'bore',\n",
       "       'stroke', 'compression', 'horsepower', 'peak-rpm', 'city-mpg',\n",
       "       'highway-mpg', 'price', 'log_price', 'alfa-romero', 'audi', 'bmw',\n",
       "       'chevrolet', 'dodge', 'honda', 'isuzu', 'jaguar', 'mazda',\n",
       "       'mercedes-benz', 'mercury', 'mitsubishi', 'nissan', 'peugot',\n",
       "       'plymouth', 'porsche', 'renault', 'saab', 'subaru', 'toyota',\n",
       "       'volkswagen', 'volvo'],\n",
       "      dtype='object')"
      ]
     },
     "execution_count": 62,
     "metadata": {},
     "output_type": "execute_result"
    }
   ],
   "source": [
    "cars2.columns"
   ]
  },
  {
   "cell_type": "code",
   "execution_count": 63,
   "metadata": {},
   "outputs": [],
   "source": [
    "lb = LabelBinarizer()\n",
    "zip_dummies = lb.fit_transform(cars2['drive-wheels'])"
   ]
  },
  {
   "cell_type": "code",
   "execution_count": 64,
   "metadata": {},
   "outputs": [],
   "source": [
    "zip_dum_df = pd.DataFrame(zip_dummies,columns=lb.classes_)\n",
    "cars2 = cars2.join(zip_dum_df)"
   ]
  },
  {
   "cell_type": "code",
   "execution_count": 65,
   "metadata": {},
   "outputs": [],
   "source": [
    "cars2.loc[cars2['engine-location'] == 'front','engine-location'] = 1\n",
    "cars2.loc[cars2['engine-location'] == 'rear','engine-location'] = 0"
   ]
  },
  {
   "cell_type": "code",
   "execution_count": 66,
   "metadata": {},
   "outputs": [
    {
     "data": {
      "text/plain": [
       "1    202\n",
       "0      3\n",
       "Name: engine-location, dtype: int64"
      ]
     },
     "execution_count": 66,
     "metadata": {},
     "output_type": "execute_result"
    }
   ],
   "source": [
    "cars2['engine-location'].value_counts()"
   ]
  },
  {
   "cell_type": "code",
   "execution_count": 82,
   "metadata": {},
   "outputs": [
    {
     "data": {
      "text/plain": [
       "1    185\n",
       "0     20\n",
       "Name: fuel-type, dtype: int64"
      ]
     },
     "execution_count": 82,
     "metadata": {},
     "output_type": "execute_result"
    }
   ],
   "source": [
    "#cars2['fuel-type'].value_counts()"
   ]
  },
  {
   "cell_type": "code",
   "execution_count": 67,
   "metadata": {},
   "outputs": [],
   "source": [
    "cars2.loc[cars2['aspiration'] == 'std','aspiration'] = 0\n",
    "cars2.loc[cars2['aspiration'] == 'turbo','aspiration'] = 1"
   ]
  },
  {
   "cell_type": "code",
   "execution_count": 68,
   "metadata": {},
   "outputs": [],
   "source": [
    "cars2.loc[cars2['fuel-type'] == 'diesel','fuel-type'] = 0\n",
    "cars2.loc[cars2['fuel-type'] == 'gas','fuel-type'] = 1"
   ]
  },
  {
   "cell_type": "code",
   "execution_count": 69,
   "metadata": {},
   "outputs": [
    {
     "data": {
      "text/plain": [
       "(205, 53)"
      ]
     },
     "execution_count": 69,
     "metadata": {},
     "output_type": "execute_result"
    }
   ],
   "source": [
    "cars2.shape"
   ]
  },
  {
   "cell_type": "markdown",
   "metadata": {},
   "source": [
    "### MODEL BUILDING"
   ]
  },
  {
   "cell_type": "code",
   "execution_count": 95,
   "metadata": {},
   "outputs": [],
   "source": [
    "# Train test split\n",
    "X=cars2.drop(columns=['price','log_price','make','drive-wheels','engine-type','fuel-system','normalized-losses','body-style','num-of-doors'])\n",
    "y=cars2[['log_price']]\n",
    "\n",
    "X_train, X_test, y_train, y_test = train_test_split(X,y,test_size=0.2,random_state=1234)"
   ]
  },
  {
   "cell_type": "markdown",
   "metadata": {},
   "source": [
    "### MODEL 1"
   ]
  },
  {
   "cell_type": "markdown",
   "metadata": {},
   "source": [
    "We saw how much price difference there was between one manufacturer and the other. Thus make seems to be a good place to start our model."
   ]
  },
  {
   "cell_type": "code",
   "execution_count": 96,
   "metadata": {},
   "outputs": [
    {
     "data": {
      "text/plain": [
       "array(['alfa-romero', 'audi', 'bmw', 'chevrolet', 'dodge', 'honda',\n",
       "       'isuzu', 'jaguar', 'mazda', 'mercedes-benz', 'mercury',\n",
       "       'mitsubishi', 'nissan', 'peugot', 'plymouth', 'porsche', 'renault',\n",
       "       'saab', 'subaru', 'toyota', 'volkswagen', 'volvo'], dtype=object)"
      ]
     },
     "execution_count": 96,
     "metadata": {},
     "output_type": "execute_result"
    }
   ],
   "source": [
    "cars.make.unique()"
   ]
  },
  {
   "cell_type": "code",
   "execution_count": 97,
   "metadata": {},
   "outputs": [],
   "source": [
    "makes = ['alfa-romero', 'audi', 'bmw', 'chevrolet', 'dodge', 'honda',\n",
    "       'isuzu', 'jaguar', 'mazda', 'mercedes-benz', 'mercury',\n",
    "       'mitsubishi', 'nissan', 'peugot', 'plymouth', 'porsche', 'renault',\n",
    "       'saab', 'subaru', 'toyota', 'volkswagen', 'volvo']"
   ]
  },
  {
   "cell_type": "code",
   "execution_count": 98,
   "metadata": {},
   "outputs": [
    {
     "name": "stdout",
     "output_type": "stream",
     "text": [
      "                            OLS Regression Results                            \n",
      "==============================================================================\n",
      "Dep. Variable:              log_price   R-squared:                       0.782\n",
      "Model:                            OLS   Adj. R-squared:                  0.750\n",
      "Method:                 Least Squares   F-statistic:                     24.25\n",
      "Date:                Wed, 09 Sep 2020   Prob (F-statistic):           7.32e-37\n",
      "Time:                        20:31:01   Log-Likelihood:                -2.1799\n",
      "No. Observations:                 164   AIC:                             48.36\n",
      "Df Residuals:                     142   BIC:                             116.6\n",
      "Df Model:                          21                                         \n",
      "Covariance Type:            nonrobust                                         \n",
      "=================================================================================\n",
      "                    coef    std err          t      P>|t|      [0.025      0.975]\n",
      "---------------------------------------------------------------------------------\n",
      "const             9.0379      0.027    335.525      0.000       8.985       9.091\n",
      "alfa-romero       0.6062      0.148      4.100      0.000       0.314       0.899\n",
      "audi              0.7591      0.148      5.134      0.000       0.467       1.051\n",
      "bmw               1.0795      0.093     11.606      0.000       0.896       1.263\n",
      "chevrolet        -0.3427      0.148     -2.318      0.022      -0.635      -0.050\n",
      "dodge            -0.1627      0.093     -1.749      0.082      -0.347       0.021\n",
      "honda            -0.0646      0.081     -0.802      0.424      -0.224       0.095\n",
      "isuzu             0.1292      0.148      0.874      0.384      -0.163       0.422\n",
      "jaguar            1.4126      0.148      9.554      0.000       1.120       1.705\n",
      "mazda             0.0679      0.078      0.876      0.382      -0.085       0.221\n",
      "mercedes-benz     1.3687      0.093     14.715      0.000       1.185       1.553\n",
      "mercury           0.6734      0.253      2.659      0.009       0.173       1.174\n",
      "mitsubishi        0.0464      0.075      0.619      0.537      -0.102       0.194\n",
      "nissan            0.0611      0.078      0.788      0.432      -0.092       0.214\n",
      "peugot            0.5794      0.088      6.573      0.000       0.405       0.754\n",
      "plymouth         -0.0947      0.106     -0.891      0.374      -0.305       0.115\n",
      "porsche           1.2893      0.129     10.014      0.000       1.035       1.544\n",
      "renault           0.1619      0.253      0.639      0.524      -0.339       0.663\n",
      "saab              0.5228      0.129      4.060      0.000       0.268       0.777\n",
      "subaru           -0.0731      0.088     -0.829      0.408      -0.247       0.101\n",
      "toyota            0.0940      0.057      1.646      0.102      -0.019       0.207\n",
      "volkswagen        0.1856      0.088      2.105      0.037       0.011       0.360\n",
      "volvo             0.7386      0.088      8.379      0.000       0.564       0.913\n",
      "==============================================================================\n",
      "Omnibus:                        7.982   Durbin-Watson:                   2.338\n",
      "Prob(Omnibus):                  0.018   Jarque-Bera (JB):                7.764\n",
      "Skew:                           0.512   Prob(JB):                       0.0206\n",
      "Kurtosis:                       3.296   Cond. No.                     2.02e+16\n",
      "==============================================================================\n",
      "\n",
      "Warnings:\n",
      "[1] Standard Errors assume that the covariance matrix of the errors is correctly specified.\n",
      "[2] The smallest eigenvalue is 4.3e-31. This might indicate that there are\n",
      "strong multicollinearity problems or that the design matrix is singular.\n"
     ]
    }
   ],
   "source": [
    "X_train1 = X_train[makes]\n",
    "# Add a constant\n",
    "X_train1 = sm.add_constant(X_train1)\n",
    "\n",
    "# Create a first ols model\n",
    "model_1 = sm.OLS(y_train, X_train1).fit()\n",
    "# Summary of the model\n",
    "print(model_1.summary())"
   ]
  },
  {
   "cell_type": "markdown",
   "metadata": {},
   "source": [
    "Model with only make as the predictor has 78.2% of R2 and 75% adj R2"
   ]
  },
  {
   "cell_type": "code",
   "execution_count": 74,
   "metadata": {},
   "outputs": [],
   "source": [
    "# Lets add MPG to the predictor list."
   ]
  },
  {
   "cell_type": "code",
   "execution_count": 99,
   "metadata": {},
   "outputs": [],
   "source": [
    "predictors = makes"
   ]
  },
  {
   "cell_type": "code",
   "execution_count": 100,
   "metadata": {},
   "outputs": [],
   "source": [
    "makes.append('horsepower')\n",
    "predictors = makes"
   ]
  },
  {
   "cell_type": "code",
   "execution_count": 101,
   "metadata": {},
   "outputs": [
    {
     "name": "stdout",
     "output_type": "stream",
     "text": [
      "                            OLS Regression Results                            \n",
      "==============================================================================\n",
      "Dep. Variable:              log_price   R-squared:                       0.912\n",
      "Model:                            OLS   Adj. R-squared:                  0.898\n",
      "Method:                 Least Squares   F-statistic:                     66.48\n",
      "Date:                Wed, 09 Sep 2020   Prob (F-statistic):           2.60e-63\n",
      "Time:                        20:31:06   Log-Likelihood:                 72.293\n",
      "No. Observations:                 164   AIC:                            -98.59\n",
      "Df Residuals:                     141   BIC:                            -27.29\n",
      "Df Model:                          22                                         \n",
      "Covariance Type:            nonrobust                                         \n",
      "=================================================================================\n",
      "                    coef    std err          t      P>|t|      [0.025      0.975]\n",
      "---------------------------------------------------------------------------------\n",
      "const             8.2575      0.057    145.676      0.000       8.145       8.370\n",
      "alfa-romero       0.4696      0.095      4.959      0.000       0.282       0.657\n",
      "audi              0.6688      0.094      7.082      0.000       0.482       0.855\n",
      "bmw               0.8438      0.061     13.724      0.000       0.722       0.965\n",
      "chevrolet        -0.0209      0.097     -0.215      0.830      -0.212       0.171\n",
      "dodge             0.0396      0.061      0.651      0.516      -0.081       0.160\n",
      "honda             0.1298      0.053      2.445      0.016       0.025       0.235\n",
      "isuzu             0.3486      0.095      3.653      0.000       0.160       0.537\n",
      "jaguar            0.6954      0.107      6.530      0.000       0.485       0.906\n",
      "mazda             0.2538      0.051      4.972      0.000       0.153       0.355\n",
      "mercedes-benz     1.0789      0.063     17.243      0.000       0.955       1.203\n",
      "mercury           0.1734      0.165      1.050      0.295      -0.153       0.500\n",
      "mitsubishi        0.0652      0.048      1.367      0.174      -0.029       0.160\n",
      "nissan            0.1421      0.050      2.858      0.005       0.044       0.240\n",
      "peugot            0.6598      0.056     11.688      0.000       0.548       0.771\n",
      "plymouth          0.0698      0.069      1.016      0.311      -0.066       0.206\n",
      "porsche           0.5240      0.098      5.365      0.000       0.331       0.717\n",
      "renault           0.4374      0.163      2.692      0.008       0.116       0.759\n",
      "saab              0.4068      0.082      4.935      0.000       0.244       0.570\n",
      "subaru            0.1130      0.058      1.960      0.052      -0.001       0.227\n",
      "toyota            0.2249      0.038      5.997      0.000       0.151       0.299\n",
      "volkswagen        0.3578      0.057      6.231      0.000       0.244       0.471\n",
      "volvo             0.5759      0.057     10.052      0.000       0.463       0.689\n",
      "horsepower        0.0073      0.001     14.445      0.000       0.006       0.008\n",
      "==============================================================================\n",
      "Omnibus:                        4.967   Durbin-Watson:                   1.931\n",
      "Prob(Omnibus):                  0.083   Jarque-Bera (JB):                6.730\n",
      "Skew:                          -0.091   Prob(JB):                       0.0346\n",
      "Kurtosis:                       3.976   Cond. No.                     2.46e+18\n",
      "==============================================================================\n",
      "\n",
      "Warnings:\n",
      "[1] Standard Errors assume that the covariance matrix of the errors is correctly specified.\n",
      "[2] The smallest eigenvalue is 3.3e-31. This might indicate that there are\n",
      "strong multicollinearity problems or that the design matrix is singular.\n"
     ]
    }
   ],
   "source": [
    "X_train2 = X_train[predictors]\n",
    "# Add a constant\n",
    "X_train2 = sm.add_constant(X_train2)\n",
    "\n",
    "# Create a first ols model\n",
    "model_2 = sm.OLS(y_train, X_train2).fit()\n",
    "# Summary of the model\n",
    "print(model_2.summary())"
   ]
  },
  {
   "cell_type": "code",
   "execution_count": 110,
   "metadata": {},
   "outputs": [],
   "source": [
    "# lets add engine-location to it"
   ]
  },
  {
   "cell_type": "code",
   "execution_count": null,
   "metadata": {},
   "outputs": [],
   "source": []
  },
  {
   "cell_type": "code",
   "execution_count": 113,
   "metadata": {},
   "outputs": [
    {
     "data": {
      "text/html": [
       "<div>\n",
       "<style scoped>\n",
       "    .dataframe tbody tr th:only-of-type {\n",
       "        vertical-align: middle;\n",
       "    }\n",
       "\n",
       "    .dataframe tbody tr th {\n",
       "        vertical-align: top;\n",
       "    }\n",
       "\n",
       "    .dataframe thead th {\n",
       "        text-align: right;\n",
       "    }\n",
       "</style>\n",
       "<table border=\"1\" class=\"dataframe\">\n",
       "  <thead>\n",
       "    <tr style=\"text-align: right;\">\n",
       "      <th></th>\n",
       "      <th>CarId</th>\n",
       "      <th>symboling</th>\n",
       "      <th>fuel-type</th>\n",
       "      <th>aspiration</th>\n",
       "      <th>engine-location</th>\n",
       "      <th>wheel-base</th>\n",
       "      <th>length</th>\n",
       "      <th>width</th>\n",
       "      <th>h8</th>\n",
       "      <th>curb-w8</th>\n",
       "      <th>...</th>\n",
       "      <th>porsche</th>\n",
       "      <th>renault</th>\n",
       "      <th>saab</th>\n",
       "      <th>subaru</th>\n",
       "      <th>toyota</th>\n",
       "      <th>volkswagen</th>\n",
       "      <th>volvo</th>\n",
       "      <th>4wd</th>\n",
       "      <th>fwd</th>\n",
       "      <th>rwd</th>\n",
       "    </tr>\n",
       "  </thead>\n",
       "  <tbody>\n",
       "    <tr>\n",
       "      <th>97</th>\n",
       "      <td>98.0</td>\n",
       "      <td>1.0</td>\n",
       "      <td>1.0</td>\n",
       "      <td>0.0</td>\n",
       "      <td>1.0</td>\n",
       "      <td>94.5</td>\n",
       "      <td>170.2</td>\n",
       "      <td>63.8</td>\n",
       "      <td>53.5</td>\n",
       "      <td>2037.0</td>\n",
       "      <td>...</td>\n",
       "      <td>0.0</td>\n",
       "      <td>0.0</td>\n",
       "      <td>0.0</td>\n",
       "      <td>0.0</td>\n",
       "      <td>0.0</td>\n",
       "      <td>0.0</td>\n",
       "      <td>0.0</td>\n",
       "      <td>0.0</td>\n",
       "      <td>1.0</td>\n",
       "      <td>0.0</td>\n",
       "    </tr>\n",
       "    <tr>\n",
       "      <th>198</th>\n",
       "      <td>199.0</td>\n",
       "      <td>-2.0</td>\n",
       "      <td>1.0</td>\n",
       "      <td>1.0</td>\n",
       "      <td>1.0</td>\n",
       "      <td>104.3</td>\n",
       "      <td>188.8</td>\n",
       "      <td>67.2</td>\n",
       "      <td>56.2</td>\n",
       "      <td>3045.0</td>\n",
       "      <td>...</td>\n",
       "      <td>0.0</td>\n",
       "      <td>0.0</td>\n",
       "      <td>0.0</td>\n",
       "      <td>0.0</td>\n",
       "      <td>0.0</td>\n",
       "      <td>0.0</td>\n",
       "      <td>1.0</td>\n",
       "      <td>0.0</td>\n",
       "      <td>0.0</td>\n",
       "      <td>1.0</td>\n",
       "    </tr>\n",
       "    <tr>\n",
       "      <th>51</th>\n",
       "      <td>52.0</td>\n",
       "      <td>1.0</td>\n",
       "      <td>1.0</td>\n",
       "      <td>0.0</td>\n",
       "      <td>1.0</td>\n",
       "      <td>93.1</td>\n",
       "      <td>159.1</td>\n",
       "      <td>64.2</td>\n",
       "      <td>54.1</td>\n",
       "      <td>1900.0</td>\n",
       "      <td>...</td>\n",
       "      <td>0.0</td>\n",
       "      <td>0.0</td>\n",
       "      <td>0.0</td>\n",
       "      <td>0.0</td>\n",
       "      <td>0.0</td>\n",
       "      <td>0.0</td>\n",
       "      <td>0.0</td>\n",
       "      <td>0.0</td>\n",
       "      <td>1.0</td>\n",
       "      <td>0.0</td>\n",
       "    </tr>\n",
       "    <tr>\n",
       "      <th>63</th>\n",
       "      <td>64.0</td>\n",
       "      <td>0.0</td>\n",
       "      <td>0.0</td>\n",
       "      <td>0.0</td>\n",
       "      <td>1.0</td>\n",
       "      <td>98.8</td>\n",
       "      <td>177.8</td>\n",
       "      <td>66.5</td>\n",
       "      <td>55.5</td>\n",
       "      <td>2443.0</td>\n",
       "      <td>...</td>\n",
       "      <td>0.0</td>\n",
       "      <td>0.0</td>\n",
       "      <td>0.0</td>\n",
       "      <td>0.0</td>\n",
       "      <td>0.0</td>\n",
       "      <td>0.0</td>\n",
       "      <td>0.0</td>\n",
       "      <td>0.0</td>\n",
       "      <td>1.0</td>\n",
       "      <td>0.0</td>\n",
       "    </tr>\n",
       "    <tr>\n",
       "      <th>74</th>\n",
       "      <td>75.0</td>\n",
       "      <td>1.0</td>\n",
       "      <td>1.0</td>\n",
       "      <td>0.0</td>\n",
       "      <td>1.0</td>\n",
       "      <td>112.0</td>\n",
       "      <td>199.2</td>\n",
       "      <td>72.0</td>\n",
       "      <td>55.4</td>\n",
       "      <td>3715.0</td>\n",
       "      <td>...</td>\n",
       "      <td>0.0</td>\n",
       "      <td>0.0</td>\n",
       "      <td>0.0</td>\n",
       "      <td>0.0</td>\n",
       "      <td>0.0</td>\n",
       "      <td>0.0</td>\n",
       "      <td>0.0</td>\n",
       "      <td>0.0</td>\n",
       "      <td>0.0</td>\n",
       "      <td>1.0</td>\n",
       "    </tr>\n",
       "    <tr>\n",
       "      <th>...</th>\n",
       "      <td>...</td>\n",
       "      <td>...</td>\n",
       "      <td>...</td>\n",
       "      <td>...</td>\n",
       "      <td>...</td>\n",
       "      <td>...</td>\n",
       "      <td>...</td>\n",
       "      <td>...</td>\n",
       "      <td>...</td>\n",
       "      <td>...</td>\n",
       "      <td>...</td>\n",
       "      <td>...</td>\n",
       "      <td>...</td>\n",
       "      <td>...</td>\n",
       "      <td>...</td>\n",
       "      <td>...</td>\n",
       "      <td>...</td>\n",
       "      <td>...</td>\n",
       "      <td>...</td>\n",
       "      <td>...</td>\n",
       "      <td>...</td>\n",
       "    </tr>\n",
       "    <tr>\n",
       "      <th>152</th>\n",
       "      <td>153.0</td>\n",
       "      <td>1.0</td>\n",
       "      <td>1.0</td>\n",
       "      <td>0.0</td>\n",
       "      <td>1.0</td>\n",
       "      <td>95.7</td>\n",
       "      <td>158.7</td>\n",
       "      <td>63.6</td>\n",
       "      <td>54.5</td>\n",
       "      <td>2015.0</td>\n",
       "      <td>...</td>\n",
       "      <td>0.0</td>\n",
       "      <td>0.0</td>\n",
       "      <td>0.0</td>\n",
       "      <td>0.0</td>\n",
       "      <td>1.0</td>\n",
       "      <td>0.0</td>\n",
       "      <td>0.0</td>\n",
       "      <td>0.0</td>\n",
       "      <td>1.0</td>\n",
       "      <td>0.0</td>\n",
       "    </tr>\n",
       "    <tr>\n",
       "      <th>116</th>\n",
       "      <td>117.0</td>\n",
       "      <td>0.0</td>\n",
       "      <td>0.0</td>\n",
       "      <td>1.0</td>\n",
       "      <td>1.0</td>\n",
       "      <td>107.9</td>\n",
       "      <td>186.7</td>\n",
       "      <td>68.4</td>\n",
       "      <td>56.7</td>\n",
       "      <td>3252.0</td>\n",
       "      <td>...</td>\n",
       "      <td>0.0</td>\n",
       "      <td>0.0</td>\n",
       "      <td>0.0</td>\n",
       "      <td>0.0</td>\n",
       "      <td>0.0</td>\n",
       "      <td>0.0</td>\n",
       "      <td>0.0</td>\n",
       "      <td>0.0</td>\n",
       "      <td>0.0</td>\n",
       "      <td>1.0</td>\n",
       "    </tr>\n",
       "    <tr>\n",
       "      <th>53</th>\n",
       "      <td>54.0</td>\n",
       "      <td>1.0</td>\n",
       "      <td>1.0</td>\n",
       "      <td>0.0</td>\n",
       "      <td>1.0</td>\n",
       "      <td>93.1</td>\n",
       "      <td>166.8</td>\n",
       "      <td>64.2</td>\n",
       "      <td>54.1</td>\n",
       "      <td>1945.0</td>\n",
       "      <td>...</td>\n",
       "      <td>0.0</td>\n",
       "      <td>0.0</td>\n",
       "      <td>0.0</td>\n",
       "      <td>0.0</td>\n",
       "      <td>0.0</td>\n",
       "      <td>0.0</td>\n",
       "      <td>0.0</td>\n",
       "      <td>0.0</td>\n",
       "      <td>1.0</td>\n",
       "      <td>0.0</td>\n",
       "    </tr>\n",
       "    <tr>\n",
       "      <th>38</th>\n",
       "      <td>39.0</td>\n",
       "      <td>0.0</td>\n",
       "      <td>1.0</td>\n",
       "      <td>0.0</td>\n",
       "      <td>1.0</td>\n",
       "      <td>96.5</td>\n",
       "      <td>167.5</td>\n",
       "      <td>65.2</td>\n",
       "      <td>53.3</td>\n",
       "      <td>2289.0</td>\n",
       "      <td>...</td>\n",
       "      <td>0.0</td>\n",
       "      <td>0.0</td>\n",
       "      <td>0.0</td>\n",
       "      <td>0.0</td>\n",
       "      <td>0.0</td>\n",
       "      <td>0.0</td>\n",
       "      <td>0.0</td>\n",
       "      <td>0.0</td>\n",
       "      <td>1.0</td>\n",
       "      <td>0.0</td>\n",
       "    </tr>\n",
       "    <tr>\n",
       "      <th>47</th>\n",
       "      <td>48.0</td>\n",
       "      <td>0.0</td>\n",
       "      <td>1.0</td>\n",
       "      <td>0.0</td>\n",
       "      <td>1.0</td>\n",
       "      <td>113.0</td>\n",
       "      <td>199.6</td>\n",
       "      <td>69.6</td>\n",
       "      <td>52.8</td>\n",
       "      <td>4066.0</td>\n",
       "      <td>...</td>\n",
       "      <td>0.0</td>\n",
       "      <td>0.0</td>\n",
       "      <td>0.0</td>\n",
       "      <td>0.0</td>\n",
       "      <td>0.0</td>\n",
       "      <td>0.0</td>\n",
       "      <td>0.0</td>\n",
       "      <td>0.0</td>\n",
       "      <td>0.0</td>\n",
       "      <td>1.0</td>\n",
       "    </tr>\n",
       "  </tbody>\n",
       "</table>\n",
       "<p>164 rows × 44 columns</p>\n",
       "</div>"
      ],
      "text/plain": [
       "     CarId  symboling  fuel-type  aspiration  engine-location  wheel-base  \\\n",
       "97    98.0        1.0        1.0         0.0              1.0        94.5   \n",
       "198  199.0       -2.0        1.0         1.0              1.0       104.3   \n",
       "51    52.0        1.0        1.0         0.0              1.0        93.1   \n",
       "63    64.0        0.0        0.0         0.0              1.0        98.8   \n",
       "74    75.0        1.0        1.0         0.0              1.0       112.0   \n",
       "..     ...        ...        ...         ...              ...         ...   \n",
       "152  153.0        1.0        1.0         0.0              1.0        95.7   \n",
       "116  117.0        0.0        0.0         1.0              1.0       107.9   \n",
       "53    54.0        1.0        1.0         0.0              1.0        93.1   \n",
       "38    39.0        0.0        1.0         0.0              1.0        96.5   \n",
       "47    48.0        0.0        1.0         0.0              1.0       113.0   \n",
       "\n",
       "     length  width    h8  curb-w8  ...  porsche  renault  saab  subaru  \\\n",
       "97    170.2   63.8  53.5   2037.0  ...      0.0      0.0   0.0     0.0   \n",
       "198   188.8   67.2  56.2   3045.0  ...      0.0      0.0   0.0     0.0   \n",
       "51    159.1   64.2  54.1   1900.0  ...      0.0      0.0   0.0     0.0   \n",
       "63    177.8   66.5  55.5   2443.0  ...      0.0      0.0   0.0     0.0   \n",
       "74    199.2   72.0  55.4   3715.0  ...      0.0      0.0   0.0     0.0   \n",
       "..      ...    ...   ...      ...  ...      ...      ...   ...     ...   \n",
       "152   158.7   63.6  54.5   2015.0  ...      0.0      0.0   0.0     0.0   \n",
       "116   186.7   68.4  56.7   3252.0  ...      0.0      0.0   0.0     0.0   \n",
       "53    166.8   64.2  54.1   1945.0  ...      0.0      0.0   0.0     0.0   \n",
       "38    167.5   65.2  53.3   2289.0  ...      0.0      0.0   0.0     0.0   \n",
       "47    199.6   69.6  52.8   4066.0  ...      0.0      0.0   0.0     0.0   \n",
       "\n",
       "     toyota  volkswagen  volvo  4wd  fwd  rwd  \n",
       "97      0.0         0.0    0.0  0.0  1.0  0.0  \n",
       "198     0.0         0.0    1.0  0.0  0.0  1.0  \n",
       "51      0.0         0.0    0.0  0.0  1.0  0.0  \n",
       "63      0.0         0.0    0.0  0.0  1.0  0.0  \n",
       "74      0.0         0.0    0.0  0.0  0.0  1.0  \n",
       "..      ...         ...    ...  ...  ...  ...  \n",
       "152     1.0         0.0    0.0  0.0  1.0  0.0  \n",
       "116     0.0         0.0    0.0  0.0  0.0  1.0  \n",
       "53      0.0         0.0    0.0  0.0  1.0  0.0  \n",
       "38      0.0         0.0    0.0  0.0  1.0  0.0  \n",
       "47      0.0         0.0    0.0  0.0  0.0  1.0  \n",
       "\n",
       "[164 rows x 44 columns]"
      ]
     },
     "execution_count": 113,
     "metadata": {},
     "output_type": "execute_result"
    }
   ],
   "source": [
    "X_train = X_train.apply(pd.to_numeric, errors='coerce')\n",
    "X_train.astype('float64')"
   ]
  },
  {
   "cell_type": "code",
   "execution_count": null,
   "metadata": {},
   "outputs": [],
   "source": [
    "predictors.append('engine-location')"
   ]
  },
  {
   "cell_type": "code",
   "execution_count": 116,
   "metadata": {},
   "outputs": [
    {
     "name": "stdout",
     "output_type": "stream",
     "text": [
      "                            OLS Regression Results                            \n",
      "==============================================================================\n",
      "Dep. Variable:              log_price   R-squared:                       0.915\n",
      "Model:                            OLS   Adj. R-squared:                  0.901\n",
      "Method:                 Least Squares   F-statistic:                     65.50\n",
      "Date:                Wed, 09 Sep 2020   Prob (F-statistic):           2.11e-63\n",
      "Time:                        23:07:49   Log-Likelihood:                 75.047\n",
      "No. Observations:                 164   AIC:                            -102.1\n",
      "Df Residuals:                     140   BIC:                            -27.70\n",
      "Df Model:                          23                                         \n",
      "Covariance Type:            nonrobust                                         \n",
      "===================================================================================\n",
      "                      coef    std err          t      P>|t|      [0.025      0.975]\n",
      "-----------------------------------------------------------------------------------\n",
      "const               8.5934      0.163     52.569      0.000       8.270       8.917\n",
      "alfa-romero         0.4927      0.094      5.239      0.000       0.307       0.679\n",
      "audi                0.6921      0.094      7.379      0.000       0.507       0.878\n",
      "bmw                 0.8665      0.062     14.077      0.000       0.745       0.988\n",
      "chevrolet           0.0040      0.096      0.042      0.967      -0.186       0.194\n",
      "dodge               0.0640      0.061      1.048      0.297      -0.057       0.185\n",
      "honda               0.1541      0.054      2.879      0.005       0.048       0.260\n",
      "isuzu               0.3731      0.095      3.934      0.000       0.186       0.561\n",
      "jaguar              0.7163      0.106      6.787      0.000       0.508       0.925\n",
      "mazda               0.2782      0.052      5.391      0.000       0.176       0.380\n",
      "mercedes-benz       1.1015      0.063     17.594      0.000       0.978       1.225\n",
      "mercury             0.1951      0.163      1.195      0.234      -0.128       0.518\n",
      "mitsubishi          0.0889      0.048      1.840      0.068      -0.007       0.184\n",
      "nissan              0.1661      0.050      3.303      0.001       0.067       0.265\n",
      "peugot              0.6837      0.057     12.043      0.000       0.571       0.796\n",
      "plymouth            0.0941      0.069      1.370      0.173      -0.042       0.230\n",
      "porsche             0.3634      0.121      2.999      0.003       0.124       0.603\n",
      "renault             0.4621      0.161      2.875      0.005       0.144       0.780\n",
      "saab                0.4300      0.082      5.241      0.000       0.268       0.592\n",
      "subaru              0.1373      0.058      2.370      0.019       0.023       0.252\n",
      "toyota              0.2491      0.039      6.449      0.000       0.173       0.325\n",
      "volkswagen          0.3821      0.058      6.617      0.000       0.268       0.496\n",
      "volvo               0.5989      0.058     10.414      0.000       0.485       0.713\n",
      "horsepower          0.0073      0.001     14.689      0.000       0.006       0.008\n",
      "engine-location    -0.3625      0.166     -2.187      0.030      -0.690      -0.035\n",
      "==============================================================================\n",
      "Omnibus:                        3.335   Durbin-Watson:                   1.950\n",
      "Prob(Omnibus):                  0.189   Jarque-Bera (JB):                3.441\n",
      "Skew:                           0.131   Prob(JB):                        0.179\n",
      "Kurtosis:                       3.659   Cond. No.                     5.00e+18\n",
      "==============================================================================\n",
      "\n",
      "Warnings:\n",
      "[1] Standard Errors assume that the covariance matrix of the errors is correctly specified.\n",
      "[2] The smallest eigenvalue is 7.98e-32. This might indicate that there are\n",
      "strong multicollinearity problems or that the design matrix is singular.\n"
     ]
    }
   ],
   "source": [
    "X_train3 = X_train[predictors]\n",
    "# Add a constant\n",
    "X_train3 = sm.add_constant(X_train3)\n",
    "\n",
    "# Create a first ols model\n",
    "model_3 = sm.OLS(y_train, X_train3).fit()\n",
    "# Summary of the model\n",
    "print(model_3.summary())"
   ]
  },
  {
   "cell_type": "markdown",
   "metadata": {},
   "source": [
    "### PREDICTIONS"
   ]
  },
  {
   "cell_type": "code",
   "execution_count": 117,
   "metadata": {},
   "outputs": [
    {
     "data": {
      "text/html": [
       "<div>\n",
       "<style scoped>\n",
       "    .dataframe tbody tr th:only-of-type {\n",
       "        vertical-align: middle;\n",
       "    }\n",
       "\n",
       "    .dataframe tbody tr th {\n",
       "        vertical-align: top;\n",
       "    }\n",
       "\n",
       "    .dataframe thead th {\n",
       "        text-align: right;\n",
       "    }\n",
       "</style>\n",
       "<table border=\"1\" class=\"dataframe\">\n",
       "  <thead>\n",
       "    <tr style=\"text-align: right;\">\n",
       "      <th></th>\n",
       "      <th>CarId</th>\n",
       "      <th>symboling</th>\n",
       "      <th>fuel-type</th>\n",
       "      <th>aspiration</th>\n",
       "      <th>engine-location</th>\n",
       "      <th>wheel-base</th>\n",
       "      <th>length</th>\n",
       "      <th>width</th>\n",
       "      <th>h8</th>\n",
       "      <th>curb-w8</th>\n",
       "      <th>...</th>\n",
       "      <th>porsche</th>\n",
       "      <th>renault</th>\n",
       "      <th>saab</th>\n",
       "      <th>subaru</th>\n",
       "      <th>toyota</th>\n",
       "      <th>volkswagen</th>\n",
       "      <th>volvo</th>\n",
       "      <th>4wd</th>\n",
       "      <th>fwd</th>\n",
       "      <th>rwd</th>\n",
       "    </tr>\n",
       "  </thead>\n",
       "  <tbody>\n",
       "    <tr>\n",
       "      <th>5</th>\n",
       "      <td>6.0</td>\n",
       "      <td>2.0</td>\n",
       "      <td>1.0</td>\n",
       "      <td>0.0</td>\n",
       "      <td>1.0</td>\n",
       "      <td>99.8</td>\n",
       "      <td>177.3</td>\n",
       "      <td>66.3</td>\n",
       "      <td>53.1</td>\n",
       "      <td>2507.0</td>\n",
       "      <td>...</td>\n",
       "      <td>0.0</td>\n",
       "      <td>0.0</td>\n",
       "      <td>0.0</td>\n",
       "      <td>0.0</td>\n",
       "      <td>0.0</td>\n",
       "      <td>0.0</td>\n",
       "      <td>0.0</td>\n",
       "      <td>0.0</td>\n",
       "      <td>1.0</td>\n",
       "      <td>0.0</td>\n",
       "    </tr>\n",
       "    <tr>\n",
       "      <th>66</th>\n",
       "      <td>67.0</td>\n",
       "      <td>0.0</td>\n",
       "      <td>0.0</td>\n",
       "      <td>0.0</td>\n",
       "      <td>1.0</td>\n",
       "      <td>104.9</td>\n",
       "      <td>175.0</td>\n",
       "      <td>66.1</td>\n",
       "      <td>54.4</td>\n",
       "      <td>2700.0</td>\n",
       "      <td>...</td>\n",
       "      <td>0.0</td>\n",
       "      <td>0.0</td>\n",
       "      <td>0.0</td>\n",
       "      <td>0.0</td>\n",
       "      <td>0.0</td>\n",
       "      <td>0.0</td>\n",
       "      <td>0.0</td>\n",
       "      <td>0.0</td>\n",
       "      <td>0.0</td>\n",
       "      <td>1.0</td>\n",
       "    </tr>\n",
       "    <tr>\n",
       "      <th>6</th>\n",
       "      <td>7.0</td>\n",
       "      <td>1.0</td>\n",
       "      <td>1.0</td>\n",
       "      <td>0.0</td>\n",
       "      <td>1.0</td>\n",
       "      <td>105.8</td>\n",
       "      <td>192.7</td>\n",
       "      <td>71.4</td>\n",
       "      <td>55.7</td>\n",
       "      <td>2844.0</td>\n",
       "      <td>...</td>\n",
       "      <td>0.0</td>\n",
       "      <td>0.0</td>\n",
       "      <td>0.0</td>\n",
       "      <td>0.0</td>\n",
       "      <td>0.0</td>\n",
       "      <td>0.0</td>\n",
       "      <td>0.0</td>\n",
       "      <td>0.0</td>\n",
       "      <td>1.0</td>\n",
       "      <td>0.0</td>\n",
       "    </tr>\n",
       "    <tr>\n",
       "      <th>174</th>\n",
       "      <td>175.0</td>\n",
       "      <td>-1.0</td>\n",
       "      <td>0.0</td>\n",
       "      <td>1.0</td>\n",
       "      <td>1.0</td>\n",
       "      <td>102.4</td>\n",
       "      <td>175.6</td>\n",
       "      <td>66.5</td>\n",
       "      <td>54.9</td>\n",
       "      <td>2480.0</td>\n",
       "      <td>...</td>\n",
       "      <td>0.0</td>\n",
       "      <td>0.0</td>\n",
       "      <td>0.0</td>\n",
       "      <td>0.0</td>\n",
       "      <td>1.0</td>\n",
       "      <td>0.0</td>\n",
       "      <td>0.0</td>\n",
       "      <td>0.0</td>\n",
       "      <td>1.0</td>\n",
       "      <td>0.0</td>\n",
       "    </tr>\n",
       "    <tr>\n",
       "      <th>54</th>\n",
       "      <td>55.0</td>\n",
       "      <td>1.0</td>\n",
       "      <td>1.0</td>\n",
       "      <td>0.0</td>\n",
       "      <td>1.0</td>\n",
       "      <td>93.1</td>\n",
       "      <td>166.8</td>\n",
       "      <td>64.2</td>\n",
       "      <td>54.1</td>\n",
       "      <td>1950.0</td>\n",
       "      <td>...</td>\n",
       "      <td>0.0</td>\n",
       "      <td>0.0</td>\n",
       "      <td>0.0</td>\n",
       "      <td>0.0</td>\n",
       "      <td>0.0</td>\n",
       "      <td>0.0</td>\n",
       "      <td>0.0</td>\n",
       "      <td>0.0</td>\n",
       "      <td>1.0</td>\n",
       "      <td>0.0</td>\n",
       "    </tr>\n",
       "    <tr>\n",
       "      <th>111</th>\n",
       "      <td>112.0</td>\n",
       "      <td>0.0</td>\n",
       "      <td>1.0</td>\n",
       "      <td>0.0</td>\n",
       "      <td>1.0</td>\n",
       "      <td>107.9</td>\n",
       "      <td>186.7</td>\n",
       "      <td>68.4</td>\n",
       "      <td>56.7</td>\n",
       "      <td>3075.0</td>\n",
       "      <td>...</td>\n",
       "      <td>0.0</td>\n",
       "      <td>0.0</td>\n",
       "      <td>0.0</td>\n",
       "      <td>0.0</td>\n",
       "      <td>0.0</td>\n",
       "      <td>0.0</td>\n",
       "      <td>0.0</td>\n",
       "      <td>0.0</td>\n",
       "      <td>0.0</td>\n",
       "      <td>1.0</td>\n",
       "    </tr>\n",
       "    <tr>\n",
       "      <th>145</th>\n",
       "      <td>146.0</td>\n",
       "      <td>0.0</td>\n",
       "      <td>1.0</td>\n",
       "      <td>1.0</td>\n",
       "      <td>1.0</td>\n",
       "      <td>97.0</td>\n",
       "      <td>172.0</td>\n",
       "      <td>65.4</td>\n",
       "      <td>54.3</td>\n",
       "      <td>2510.0</td>\n",
       "      <td>...</td>\n",
       "      <td>0.0</td>\n",
       "      <td>0.0</td>\n",
       "      <td>0.0</td>\n",
       "      <td>1.0</td>\n",
       "      <td>0.0</td>\n",
       "      <td>0.0</td>\n",
       "      <td>0.0</td>\n",
       "      <td>1.0</td>\n",
       "      <td>0.0</td>\n",
       "      <td>0.0</td>\n",
       "    </tr>\n",
       "    <tr>\n",
       "      <th>169</th>\n",
       "      <td>170.0</td>\n",
       "      <td>2.0</td>\n",
       "      <td>1.0</td>\n",
       "      <td>0.0</td>\n",
       "      <td>1.0</td>\n",
       "      <td>98.4</td>\n",
       "      <td>176.2</td>\n",
       "      <td>65.6</td>\n",
       "      <td>52.0</td>\n",
       "      <td>2551.0</td>\n",
       "      <td>...</td>\n",
       "      <td>0.0</td>\n",
       "      <td>0.0</td>\n",
       "      <td>0.0</td>\n",
       "      <td>0.0</td>\n",
       "      <td>1.0</td>\n",
       "      <td>0.0</td>\n",
       "      <td>0.0</td>\n",
       "      <td>0.0</td>\n",
       "      <td>0.0</td>\n",
       "      <td>1.0</td>\n",
       "    </tr>\n",
       "    <tr>\n",
       "      <th>117</th>\n",
       "      <td>118.0</td>\n",
       "      <td>0.0</td>\n",
       "      <td>1.0</td>\n",
       "      <td>1.0</td>\n",
       "      <td>1.0</td>\n",
       "      <td>108.0</td>\n",
       "      <td>186.7</td>\n",
       "      <td>68.3</td>\n",
       "      <td>56.0</td>\n",
       "      <td>3130.0</td>\n",
       "      <td>...</td>\n",
       "      <td>0.0</td>\n",
       "      <td>0.0</td>\n",
       "      <td>0.0</td>\n",
       "      <td>0.0</td>\n",
       "      <td>0.0</td>\n",
       "      <td>0.0</td>\n",
       "      <td>0.0</td>\n",
       "      <td>0.0</td>\n",
       "      <td>0.0</td>\n",
       "      <td>1.0</td>\n",
       "    </tr>\n",
       "    <tr>\n",
       "      <th>9</th>\n",
       "      <td>10.0</td>\n",
       "      <td>0.0</td>\n",
       "      <td>1.0</td>\n",
       "      <td>1.0</td>\n",
       "      <td>1.0</td>\n",
       "      <td>99.5</td>\n",
       "      <td>178.2</td>\n",
       "      <td>67.9</td>\n",
       "      <td>52.0</td>\n",
       "      <td>3053.0</td>\n",
       "      <td>...</td>\n",
       "      <td>0.0</td>\n",
       "      <td>0.0</td>\n",
       "      <td>0.0</td>\n",
       "      <td>0.0</td>\n",
       "      <td>0.0</td>\n",
       "      <td>0.0</td>\n",
       "      <td>0.0</td>\n",
       "      <td>1.0</td>\n",
       "      <td>0.0</td>\n",
       "      <td>0.0</td>\n",
       "    </tr>\n",
       "    <tr>\n",
       "      <th>95</th>\n",
       "      <td>96.0</td>\n",
       "      <td>1.0</td>\n",
       "      <td>1.0</td>\n",
       "      <td>0.0</td>\n",
       "      <td>1.0</td>\n",
       "      <td>94.5</td>\n",
       "      <td>165.6</td>\n",
       "      <td>63.8</td>\n",
       "      <td>53.3</td>\n",
       "      <td>2028.0</td>\n",
       "      <td>...</td>\n",
       "      <td>0.0</td>\n",
       "      <td>0.0</td>\n",
       "      <td>0.0</td>\n",
       "      <td>0.0</td>\n",
       "      <td>0.0</td>\n",
       "      <td>0.0</td>\n",
       "      <td>0.0</td>\n",
       "      <td>0.0</td>\n",
       "      <td>1.0</td>\n",
       "      <td>0.0</td>\n",
       "    </tr>\n",
       "    <tr>\n",
       "      <th>149</th>\n",
       "      <td>150.0</td>\n",
       "      <td>0.0</td>\n",
       "      <td>1.0</td>\n",
       "      <td>1.0</td>\n",
       "      <td>1.0</td>\n",
       "      <td>96.9</td>\n",
       "      <td>173.6</td>\n",
       "      <td>65.4</td>\n",
       "      <td>54.9</td>\n",
       "      <td>2650.0</td>\n",
       "      <td>...</td>\n",
       "      <td>0.0</td>\n",
       "      <td>0.0</td>\n",
       "      <td>0.0</td>\n",
       "      <td>1.0</td>\n",
       "      <td>0.0</td>\n",
       "      <td>0.0</td>\n",
       "      <td>0.0</td>\n",
       "      <td>1.0</td>\n",
       "      <td>0.0</td>\n",
       "      <td>0.0</td>\n",
       "    </tr>\n",
       "    <tr>\n",
       "      <th>7</th>\n",
       "      <td>8.0</td>\n",
       "      <td>1.0</td>\n",
       "      <td>1.0</td>\n",
       "      <td>0.0</td>\n",
       "      <td>1.0</td>\n",
       "      <td>105.8</td>\n",
       "      <td>192.7</td>\n",
       "      <td>71.4</td>\n",
       "      <td>55.7</td>\n",
       "      <td>2954.0</td>\n",
       "      <td>...</td>\n",
       "      <td>0.0</td>\n",
       "      <td>0.0</td>\n",
       "      <td>0.0</td>\n",
       "      <td>0.0</td>\n",
       "      <td>0.0</td>\n",
       "      <td>0.0</td>\n",
       "      <td>0.0</td>\n",
       "      <td>0.0</td>\n",
       "      <td>1.0</td>\n",
       "      <td>0.0</td>\n",
       "    </tr>\n",
       "    <tr>\n",
       "      <th>126</th>\n",
       "      <td>127.0</td>\n",
       "      <td>3.0</td>\n",
       "      <td>1.0</td>\n",
       "      <td>0.0</td>\n",
       "      <td>0.0</td>\n",
       "      <td>89.5</td>\n",
       "      <td>168.9</td>\n",
       "      <td>65.0</td>\n",
       "      <td>51.6</td>\n",
       "      <td>2756.0</td>\n",
       "      <td>...</td>\n",
       "      <td>1.0</td>\n",
       "      <td>0.0</td>\n",
       "      <td>0.0</td>\n",
       "      <td>0.0</td>\n",
       "      <td>0.0</td>\n",
       "      <td>0.0</td>\n",
       "      <td>0.0</td>\n",
       "      <td>0.0</td>\n",
       "      <td>0.0</td>\n",
       "      <td>1.0</td>\n",
       "    </tr>\n",
       "    <tr>\n",
       "      <th>161</th>\n",
       "      <td>162.0</td>\n",
       "      <td>0.0</td>\n",
       "      <td>1.0</td>\n",
       "      <td>0.0</td>\n",
       "      <td>1.0</td>\n",
       "      <td>95.7</td>\n",
       "      <td>166.3</td>\n",
       "      <td>64.4</td>\n",
       "      <td>52.8</td>\n",
       "      <td>2122.0</td>\n",
       "      <td>...</td>\n",
       "      <td>0.0</td>\n",
       "      <td>0.0</td>\n",
       "      <td>0.0</td>\n",
       "      <td>0.0</td>\n",
       "      <td>1.0</td>\n",
       "      <td>0.0</td>\n",
       "      <td>0.0</td>\n",
       "      <td>0.0</td>\n",
       "      <td>1.0</td>\n",
       "      <td>0.0</td>\n",
       "    </tr>\n",
       "    <tr>\n",
       "      <th>150</th>\n",
       "      <td>151.0</td>\n",
       "      <td>1.0</td>\n",
       "      <td>1.0</td>\n",
       "      <td>0.0</td>\n",
       "      <td>1.0</td>\n",
       "      <td>95.7</td>\n",
       "      <td>158.7</td>\n",
       "      <td>63.6</td>\n",
       "      <td>54.5</td>\n",
       "      <td>1985.0</td>\n",
       "      <td>...</td>\n",
       "      <td>0.0</td>\n",
       "      <td>0.0</td>\n",
       "      <td>0.0</td>\n",
       "      <td>0.0</td>\n",
       "      <td>1.0</td>\n",
       "      <td>0.0</td>\n",
       "      <td>0.0</td>\n",
       "      <td>0.0</td>\n",
       "      <td>1.0</td>\n",
       "      <td>0.0</td>\n",
       "    </tr>\n",
       "    <tr>\n",
       "      <th>29</th>\n",
       "      <td>30.0</td>\n",
       "      <td>3.0</td>\n",
       "      <td>1.0</td>\n",
       "      <td>1.0</td>\n",
       "      <td>1.0</td>\n",
       "      <td>95.9</td>\n",
       "      <td>173.2</td>\n",
       "      <td>66.3</td>\n",
       "      <td>50.2</td>\n",
       "      <td>2811.0</td>\n",
       "      <td>...</td>\n",
       "      <td>0.0</td>\n",
       "      <td>0.0</td>\n",
       "      <td>0.0</td>\n",
       "      <td>0.0</td>\n",
       "      <td>0.0</td>\n",
       "      <td>0.0</td>\n",
       "      <td>0.0</td>\n",
       "      <td>0.0</td>\n",
       "      <td>1.0</td>\n",
       "      <td>0.0</td>\n",
       "    </tr>\n",
       "    <tr>\n",
       "      <th>58</th>\n",
       "      <td>59.0</td>\n",
       "      <td>3.0</td>\n",
       "      <td>1.0</td>\n",
       "      <td>0.0</td>\n",
       "      <td>1.0</td>\n",
       "      <td>95.3</td>\n",
       "      <td>169.0</td>\n",
       "      <td>65.7</td>\n",
       "      <td>49.6</td>\n",
       "      <td>2500.0</td>\n",
       "      <td>...</td>\n",
       "      <td>0.0</td>\n",
       "      <td>0.0</td>\n",
       "      <td>0.0</td>\n",
       "      <td>0.0</td>\n",
       "      <td>0.0</td>\n",
       "      <td>0.0</td>\n",
       "      <td>0.0</td>\n",
       "      <td>0.0</td>\n",
       "      <td>0.0</td>\n",
       "      <td>1.0</td>\n",
       "    </tr>\n",
       "    <tr>\n",
       "      <th>142</th>\n",
       "      <td>143.0</td>\n",
       "      <td>0.0</td>\n",
       "      <td>1.0</td>\n",
       "      <td>0.0</td>\n",
       "      <td>1.0</td>\n",
       "      <td>97.2</td>\n",
       "      <td>172.0</td>\n",
       "      <td>65.4</td>\n",
       "      <td>52.5</td>\n",
       "      <td>2190.0</td>\n",
       "      <td>...</td>\n",
       "      <td>0.0</td>\n",
       "      <td>0.0</td>\n",
       "      <td>0.0</td>\n",
       "      <td>1.0</td>\n",
       "      <td>0.0</td>\n",
       "      <td>0.0</td>\n",
       "      <td>0.0</td>\n",
       "      <td>0.0</td>\n",
       "      <td>1.0</td>\n",
       "      <td>0.0</td>\n",
       "    </tr>\n",
       "    <tr>\n",
       "      <th>165</th>\n",
       "      <td>166.0</td>\n",
       "      <td>1.0</td>\n",
       "      <td>1.0</td>\n",
       "      <td>0.0</td>\n",
       "      <td>1.0</td>\n",
       "      <td>94.5</td>\n",
       "      <td>168.7</td>\n",
       "      <td>64.0</td>\n",
       "      <td>52.6</td>\n",
       "      <td>2265.0</td>\n",
       "      <td>...</td>\n",
       "      <td>0.0</td>\n",
       "      <td>0.0</td>\n",
       "      <td>0.0</td>\n",
       "      <td>0.0</td>\n",
       "      <td>1.0</td>\n",
       "      <td>0.0</td>\n",
       "      <td>0.0</td>\n",
       "      <td>0.0</td>\n",
       "      <td>0.0</td>\n",
       "      <td>1.0</td>\n",
       "    </tr>\n",
       "    <tr>\n",
       "      <th>65</th>\n",
       "      <td>66.0</td>\n",
       "      <td>0.0</td>\n",
       "      <td>1.0</td>\n",
       "      <td>0.0</td>\n",
       "      <td>1.0</td>\n",
       "      <td>104.9</td>\n",
       "      <td>175.0</td>\n",
       "      <td>66.1</td>\n",
       "      <td>54.4</td>\n",
       "      <td>2670.0</td>\n",
       "      <td>...</td>\n",
       "      <td>0.0</td>\n",
       "      <td>0.0</td>\n",
       "      <td>0.0</td>\n",
       "      <td>0.0</td>\n",
       "      <td>0.0</td>\n",
       "      <td>0.0</td>\n",
       "      <td>0.0</td>\n",
       "      <td>0.0</td>\n",
       "      <td>0.0</td>\n",
       "      <td>1.0</td>\n",
       "    </tr>\n",
       "    <tr>\n",
       "      <th>182</th>\n",
       "      <td>183.0</td>\n",
       "      <td>2.0</td>\n",
       "      <td>0.0</td>\n",
       "      <td>0.0</td>\n",
       "      <td>1.0</td>\n",
       "      <td>97.3</td>\n",
       "      <td>171.7</td>\n",
       "      <td>65.5</td>\n",
       "      <td>55.7</td>\n",
       "      <td>2261.0</td>\n",
       "      <td>...</td>\n",
       "      <td>0.0</td>\n",
       "      <td>0.0</td>\n",
       "      <td>0.0</td>\n",
       "      <td>0.0</td>\n",
       "      <td>0.0</td>\n",
       "      <td>1.0</td>\n",
       "      <td>0.0</td>\n",
       "      <td>0.0</td>\n",
       "      <td>1.0</td>\n",
       "      <td>0.0</td>\n",
       "    </tr>\n",
       "    <tr>\n",
       "      <th>130</th>\n",
       "      <td>131.0</td>\n",
       "      <td>0.0</td>\n",
       "      <td>1.0</td>\n",
       "      <td>0.0</td>\n",
       "      <td>1.0</td>\n",
       "      <td>96.1</td>\n",
       "      <td>181.5</td>\n",
       "      <td>66.5</td>\n",
       "      <td>55.2</td>\n",
       "      <td>2579.0</td>\n",
       "      <td>...</td>\n",
       "      <td>0.0</td>\n",
       "      <td>1.0</td>\n",
       "      <td>0.0</td>\n",
       "      <td>0.0</td>\n",
       "      <td>0.0</td>\n",
       "      <td>0.0</td>\n",
       "      <td>0.0</td>\n",
       "      <td>0.0</td>\n",
       "      <td>1.0</td>\n",
       "      <td>0.0</td>\n",
       "    </tr>\n",
       "    <tr>\n",
       "      <th>183</th>\n",
       "      <td>184.0</td>\n",
       "      <td>2.0</td>\n",
       "      <td>1.0</td>\n",
       "      <td>0.0</td>\n",
       "      <td>1.0</td>\n",
       "      <td>97.3</td>\n",
       "      <td>171.7</td>\n",
       "      <td>65.5</td>\n",
       "      <td>55.7</td>\n",
       "      <td>2209.0</td>\n",
       "      <td>...</td>\n",
       "      <td>0.0</td>\n",
       "      <td>0.0</td>\n",
       "      <td>0.0</td>\n",
       "      <td>0.0</td>\n",
       "      <td>0.0</td>\n",
       "      <td>1.0</td>\n",
       "      <td>0.0</td>\n",
       "      <td>0.0</td>\n",
       "      <td>1.0</td>\n",
       "      <td>0.0</td>\n",
       "    </tr>\n",
       "    <tr>\n",
       "      <th>31</th>\n",
       "      <td>32.0</td>\n",
       "      <td>2.0</td>\n",
       "      <td>1.0</td>\n",
       "      <td>0.0</td>\n",
       "      <td>1.0</td>\n",
       "      <td>86.6</td>\n",
       "      <td>144.6</td>\n",
       "      <td>63.9</td>\n",
       "      <td>50.8</td>\n",
       "      <td>1819.0</td>\n",
       "      <td>...</td>\n",
       "      <td>0.0</td>\n",
       "      <td>0.0</td>\n",
       "      <td>0.0</td>\n",
       "      <td>0.0</td>\n",
       "      <td>0.0</td>\n",
       "      <td>0.0</td>\n",
       "      <td>0.0</td>\n",
       "      <td>0.0</td>\n",
       "      <td>1.0</td>\n",
       "      <td>0.0</td>\n",
       "    </tr>\n",
       "    <tr>\n",
       "      <th>43</th>\n",
       "      <td>44.0</td>\n",
       "      <td>0.0</td>\n",
       "      <td>1.0</td>\n",
       "      <td>0.0</td>\n",
       "      <td>1.0</td>\n",
       "      <td>94.3</td>\n",
       "      <td>170.7</td>\n",
       "      <td>61.8</td>\n",
       "      <td>53.5</td>\n",
       "      <td>2337.0</td>\n",
       "      <td>...</td>\n",
       "      <td>0.0</td>\n",
       "      <td>0.0</td>\n",
       "      <td>0.0</td>\n",
       "      <td>0.0</td>\n",
       "      <td>0.0</td>\n",
       "      <td>0.0</td>\n",
       "      <td>0.0</td>\n",
       "      <td>0.0</td>\n",
       "      <td>0.0</td>\n",
       "      <td>1.0</td>\n",
       "    </tr>\n",
       "    <tr>\n",
       "      <th>101</th>\n",
       "      <td>102.0</td>\n",
       "      <td>0.0</td>\n",
       "      <td>1.0</td>\n",
       "      <td>0.0</td>\n",
       "      <td>1.0</td>\n",
       "      <td>100.4</td>\n",
       "      <td>181.7</td>\n",
       "      <td>66.5</td>\n",
       "      <td>55.1</td>\n",
       "      <td>3095.0</td>\n",
       "      <td>...</td>\n",
       "      <td>0.0</td>\n",
       "      <td>0.0</td>\n",
       "      <td>0.0</td>\n",
       "      <td>0.0</td>\n",
       "      <td>0.0</td>\n",
       "      <td>0.0</td>\n",
       "      <td>0.0</td>\n",
       "      <td>0.0</td>\n",
       "      <td>1.0</td>\n",
       "      <td>0.0</td>\n",
       "    </tr>\n",
       "    <tr>\n",
       "      <th>59</th>\n",
       "      <td>60.0</td>\n",
       "      <td>1.0</td>\n",
       "      <td>1.0</td>\n",
       "      <td>0.0</td>\n",
       "      <td>1.0</td>\n",
       "      <td>98.8</td>\n",
       "      <td>177.8</td>\n",
       "      <td>66.5</td>\n",
       "      <td>53.7</td>\n",
       "      <td>2385.0</td>\n",
       "      <td>...</td>\n",
       "      <td>0.0</td>\n",
       "      <td>0.0</td>\n",
       "      <td>0.0</td>\n",
       "      <td>0.0</td>\n",
       "      <td>0.0</td>\n",
       "      <td>0.0</td>\n",
       "      <td>0.0</td>\n",
       "      <td>0.0</td>\n",
       "      <td>1.0</td>\n",
       "      <td>0.0</td>\n",
       "    </tr>\n",
       "    <tr>\n",
       "      <th>137</th>\n",
       "      <td>138.0</td>\n",
       "      <td>2.0</td>\n",
       "      <td>1.0</td>\n",
       "      <td>1.0</td>\n",
       "      <td>1.0</td>\n",
       "      <td>99.1</td>\n",
       "      <td>186.6</td>\n",
       "      <td>66.5</td>\n",
       "      <td>56.1</td>\n",
       "      <td>2847.0</td>\n",
       "      <td>...</td>\n",
       "      <td>0.0</td>\n",
       "      <td>0.0</td>\n",
       "      <td>1.0</td>\n",
       "      <td>0.0</td>\n",
       "      <td>0.0</td>\n",
       "      <td>0.0</td>\n",
       "      <td>0.0</td>\n",
       "      <td>0.0</td>\n",
       "      <td>1.0</td>\n",
       "      <td>0.0</td>\n",
       "    </tr>\n",
       "    <tr>\n",
       "      <th>106</th>\n",
       "      <td>107.0</td>\n",
       "      <td>1.0</td>\n",
       "      <td>1.0</td>\n",
       "      <td>0.0</td>\n",
       "      <td>1.0</td>\n",
       "      <td>99.2</td>\n",
       "      <td>178.5</td>\n",
       "      <td>67.9</td>\n",
       "      <td>49.7</td>\n",
       "      <td>3139.0</td>\n",
       "      <td>...</td>\n",
       "      <td>0.0</td>\n",
       "      <td>0.0</td>\n",
       "      <td>0.0</td>\n",
       "      <td>0.0</td>\n",
       "      <td>0.0</td>\n",
       "      <td>0.0</td>\n",
       "      <td>0.0</td>\n",
       "      <td>0.0</td>\n",
       "      <td>0.0</td>\n",
       "      <td>1.0</td>\n",
       "    </tr>\n",
       "    <tr>\n",
       "      <th>193</th>\n",
       "      <td>194.0</td>\n",
       "      <td>0.0</td>\n",
       "      <td>1.0</td>\n",
       "      <td>0.0</td>\n",
       "      <td>1.0</td>\n",
       "      <td>100.4</td>\n",
       "      <td>183.1</td>\n",
       "      <td>66.9</td>\n",
       "      <td>55.1</td>\n",
       "      <td>2563.0</td>\n",
       "      <td>...</td>\n",
       "      <td>0.0</td>\n",
       "      <td>0.0</td>\n",
       "      <td>0.0</td>\n",
       "      <td>0.0</td>\n",
       "      <td>0.0</td>\n",
       "      <td>1.0</td>\n",
       "      <td>0.0</td>\n",
       "      <td>0.0</td>\n",
       "      <td>1.0</td>\n",
       "      <td>0.0</td>\n",
       "    </tr>\n",
       "    <tr>\n",
       "      <th>100</th>\n",
       "      <td>101.0</td>\n",
       "      <td>0.0</td>\n",
       "      <td>1.0</td>\n",
       "      <td>0.0</td>\n",
       "      <td>1.0</td>\n",
       "      <td>97.2</td>\n",
       "      <td>173.4</td>\n",
       "      <td>65.2</td>\n",
       "      <td>54.7</td>\n",
       "      <td>2302.0</td>\n",
       "      <td>...</td>\n",
       "      <td>0.0</td>\n",
       "      <td>0.0</td>\n",
       "      <td>0.0</td>\n",
       "      <td>0.0</td>\n",
       "      <td>0.0</td>\n",
       "      <td>0.0</td>\n",
       "      <td>0.0</td>\n",
       "      <td>0.0</td>\n",
       "      <td>1.0</td>\n",
       "      <td>0.0</td>\n",
       "    </tr>\n",
       "    <tr>\n",
       "      <th>40</th>\n",
       "      <td>41.0</td>\n",
       "      <td>0.0</td>\n",
       "      <td>1.0</td>\n",
       "      <td>0.0</td>\n",
       "      <td>1.0</td>\n",
       "      <td>96.5</td>\n",
       "      <td>175.4</td>\n",
       "      <td>62.5</td>\n",
       "      <td>54.1</td>\n",
       "      <td>2372.0</td>\n",
       "      <td>...</td>\n",
       "      <td>0.0</td>\n",
       "      <td>0.0</td>\n",
       "      <td>0.0</td>\n",
       "      <td>0.0</td>\n",
       "      <td>0.0</td>\n",
       "      <td>0.0</td>\n",
       "      <td>0.0</td>\n",
       "      <td>0.0</td>\n",
       "      <td>1.0</td>\n",
       "      <td>0.0</td>\n",
       "    </tr>\n",
       "    <tr>\n",
       "      <th>202</th>\n",
       "      <td>203.0</td>\n",
       "      <td>-1.0</td>\n",
       "      <td>1.0</td>\n",
       "      <td>0.0</td>\n",
       "      <td>1.0</td>\n",
       "      <td>109.1</td>\n",
       "      <td>188.8</td>\n",
       "      <td>68.9</td>\n",
       "      <td>55.5</td>\n",
       "      <td>3012.0</td>\n",
       "      <td>...</td>\n",
       "      <td>0.0</td>\n",
       "      <td>0.0</td>\n",
       "      <td>0.0</td>\n",
       "      <td>0.0</td>\n",
       "      <td>0.0</td>\n",
       "      <td>0.0</td>\n",
       "      <td>1.0</td>\n",
       "      <td>0.0</td>\n",
       "      <td>0.0</td>\n",
       "      <td>1.0</td>\n",
       "    </tr>\n",
       "    <tr>\n",
       "      <th>196</th>\n",
       "      <td>197.0</td>\n",
       "      <td>-2.0</td>\n",
       "      <td>1.0</td>\n",
       "      <td>0.0</td>\n",
       "      <td>1.0</td>\n",
       "      <td>104.3</td>\n",
       "      <td>188.8</td>\n",
       "      <td>67.2</td>\n",
       "      <td>56.2</td>\n",
       "      <td>2935.0</td>\n",
       "      <td>...</td>\n",
       "      <td>0.0</td>\n",
       "      <td>0.0</td>\n",
       "      <td>0.0</td>\n",
       "      <td>0.0</td>\n",
       "      <td>0.0</td>\n",
       "      <td>0.0</td>\n",
       "      <td>1.0</td>\n",
       "      <td>0.0</td>\n",
       "      <td>0.0</td>\n",
       "      <td>1.0</td>\n",
       "    </tr>\n",
       "    <tr>\n",
       "      <th>93</th>\n",
       "      <td>94.0</td>\n",
       "      <td>1.0</td>\n",
       "      <td>1.0</td>\n",
       "      <td>0.0</td>\n",
       "      <td>1.0</td>\n",
       "      <td>94.5</td>\n",
       "      <td>170.2</td>\n",
       "      <td>63.8</td>\n",
       "      <td>53.5</td>\n",
       "      <td>2024.0</td>\n",
       "      <td>...</td>\n",
       "      <td>0.0</td>\n",
       "      <td>0.0</td>\n",
       "      <td>0.0</td>\n",
       "      <td>0.0</td>\n",
       "      <td>0.0</td>\n",
       "      <td>0.0</td>\n",
       "      <td>0.0</td>\n",
       "      <td>0.0</td>\n",
       "      <td>1.0</td>\n",
       "      <td>0.0</td>\n",
       "    </tr>\n",
       "    <tr>\n",
       "      <th>119</th>\n",
       "      <td>120.0</td>\n",
       "      <td>1.0</td>\n",
       "      <td>1.0</td>\n",
       "      <td>1.0</td>\n",
       "      <td>1.0</td>\n",
       "      <td>93.7</td>\n",
       "      <td>157.3</td>\n",
       "      <td>63.8</td>\n",
       "      <td>50.8</td>\n",
       "      <td>2128.0</td>\n",
       "      <td>...</td>\n",
       "      <td>0.0</td>\n",
       "      <td>0.0</td>\n",
       "      <td>0.0</td>\n",
       "      <td>0.0</td>\n",
       "      <td>0.0</td>\n",
       "      <td>0.0</td>\n",
       "      <td>0.0</td>\n",
       "      <td>0.0</td>\n",
       "      <td>1.0</td>\n",
       "      <td>0.0</td>\n",
       "    </tr>\n",
       "    <tr>\n",
       "      <th>181</th>\n",
       "      <td>182.0</td>\n",
       "      <td>-1.0</td>\n",
       "      <td>1.0</td>\n",
       "      <td>0.0</td>\n",
       "      <td>1.0</td>\n",
       "      <td>104.5</td>\n",
       "      <td>187.8</td>\n",
       "      <td>66.5</td>\n",
       "      <td>54.1</td>\n",
       "      <td>3151.0</td>\n",
       "      <td>...</td>\n",
       "      <td>0.0</td>\n",
       "      <td>0.0</td>\n",
       "      <td>0.0</td>\n",
       "      <td>0.0</td>\n",
       "      <td>1.0</td>\n",
       "      <td>0.0</td>\n",
       "      <td>0.0</td>\n",
       "      <td>0.0</td>\n",
       "      <td>0.0</td>\n",
       "      <td>1.0</td>\n",
       "    </tr>\n",
       "    <tr>\n",
       "      <th>134</th>\n",
       "      <td>135.0</td>\n",
       "      <td>3.0</td>\n",
       "      <td>1.0</td>\n",
       "      <td>0.0</td>\n",
       "      <td>1.0</td>\n",
       "      <td>99.1</td>\n",
       "      <td>186.6</td>\n",
       "      <td>66.5</td>\n",
       "      <td>56.1</td>\n",
       "      <td>2707.0</td>\n",
       "      <td>...</td>\n",
       "      <td>0.0</td>\n",
       "      <td>0.0</td>\n",
       "      <td>1.0</td>\n",
       "      <td>0.0</td>\n",
       "      <td>0.0</td>\n",
       "      <td>0.0</td>\n",
       "      <td>0.0</td>\n",
       "      <td>0.0</td>\n",
       "      <td>1.0</td>\n",
       "      <td>0.0</td>\n",
       "    </tr>\n",
       "    <tr>\n",
       "      <th>178</th>\n",
       "      <td>179.0</td>\n",
       "      <td>3.0</td>\n",
       "      <td>1.0</td>\n",
       "      <td>0.0</td>\n",
       "      <td>1.0</td>\n",
       "      <td>102.9</td>\n",
       "      <td>183.5</td>\n",
       "      <td>67.7</td>\n",
       "      <td>52.0</td>\n",
       "      <td>2976.0</td>\n",
       "      <td>...</td>\n",
       "      <td>0.0</td>\n",
       "      <td>0.0</td>\n",
       "      <td>0.0</td>\n",
       "      <td>0.0</td>\n",
       "      <td>1.0</td>\n",
       "      <td>0.0</td>\n",
       "      <td>0.0</td>\n",
       "      <td>0.0</td>\n",
       "      <td>0.0</td>\n",
       "      <td>1.0</td>\n",
       "    </tr>\n",
       "    <tr>\n",
       "      <th>102</th>\n",
       "      <td>103.0</td>\n",
       "      <td>0.0</td>\n",
       "      <td>1.0</td>\n",
       "      <td>0.0</td>\n",
       "      <td>1.0</td>\n",
       "      <td>100.4</td>\n",
       "      <td>184.6</td>\n",
       "      <td>66.5</td>\n",
       "      <td>56.1</td>\n",
       "      <td>3296.0</td>\n",
       "      <td>...</td>\n",
       "      <td>0.0</td>\n",
       "      <td>0.0</td>\n",
       "      <td>0.0</td>\n",
       "      <td>0.0</td>\n",
       "      <td>0.0</td>\n",
       "      <td>0.0</td>\n",
       "      <td>0.0</td>\n",
       "      <td>0.0</td>\n",
       "      <td>1.0</td>\n",
       "      <td>0.0</td>\n",
       "    </tr>\n",
       "  </tbody>\n",
       "</table>\n",
       "<p>41 rows × 44 columns</p>\n",
       "</div>"
      ],
      "text/plain": [
       "     CarId  symboling  fuel-type  aspiration  engine-location  wheel-base  \\\n",
       "5      6.0        2.0        1.0         0.0              1.0        99.8   \n",
       "66    67.0        0.0        0.0         0.0              1.0       104.9   \n",
       "6      7.0        1.0        1.0         0.0              1.0       105.8   \n",
       "174  175.0       -1.0        0.0         1.0              1.0       102.4   \n",
       "54    55.0        1.0        1.0         0.0              1.0        93.1   \n",
       "111  112.0        0.0        1.0         0.0              1.0       107.9   \n",
       "145  146.0        0.0        1.0         1.0              1.0        97.0   \n",
       "169  170.0        2.0        1.0         0.0              1.0        98.4   \n",
       "117  118.0        0.0        1.0         1.0              1.0       108.0   \n",
       "9     10.0        0.0        1.0         1.0              1.0        99.5   \n",
       "95    96.0        1.0        1.0         0.0              1.0        94.5   \n",
       "149  150.0        0.0        1.0         1.0              1.0        96.9   \n",
       "7      8.0        1.0        1.0         0.0              1.0       105.8   \n",
       "126  127.0        3.0        1.0         0.0              0.0        89.5   \n",
       "161  162.0        0.0        1.0         0.0              1.0        95.7   \n",
       "150  151.0        1.0        1.0         0.0              1.0        95.7   \n",
       "29    30.0        3.0        1.0         1.0              1.0        95.9   \n",
       "58    59.0        3.0        1.0         0.0              1.0        95.3   \n",
       "142  143.0        0.0        1.0         0.0              1.0        97.2   \n",
       "165  166.0        1.0        1.0         0.0              1.0        94.5   \n",
       "65    66.0        0.0        1.0         0.0              1.0       104.9   \n",
       "182  183.0        2.0        0.0         0.0              1.0        97.3   \n",
       "130  131.0        0.0        1.0         0.0              1.0        96.1   \n",
       "183  184.0        2.0        1.0         0.0              1.0        97.3   \n",
       "31    32.0        2.0        1.0         0.0              1.0        86.6   \n",
       "43    44.0        0.0        1.0         0.0              1.0        94.3   \n",
       "101  102.0        0.0        1.0         0.0              1.0       100.4   \n",
       "59    60.0        1.0        1.0         0.0              1.0        98.8   \n",
       "137  138.0        2.0        1.0         1.0              1.0        99.1   \n",
       "106  107.0        1.0        1.0         0.0              1.0        99.2   \n",
       "193  194.0        0.0        1.0         0.0              1.0       100.4   \n",
       "100  101.0        0.0        1.0         0.0              1.0        97.2   \n",
       "40    41.0        0.0        1.0         0.0              1.0        96.5   \n",
       "202  203.0       -1.0        1.0         0.0              1.0       109.1   \n",
       "196  197.0       -2.0        1.0         0.0              1.0       104.3   \n",
       "93    94.0        1.0        1.0         0.0              1.0        94.5   \n",
       "119  120.0        1.0        1.0         1.0              1.0        93.7   \n",
       "181  182.0       -1.0        1.0         0.0              1.0       104.5   \n",
       "134  135.0        3.0        1.0         0.0              1.0        99.1   \n",
       "178  179.0        3.0        1.0         0.0              1.0       102.9   \n",
       "102  103.0        0.0        1.0         0.0              1.0       100.4   \n",
       "\n",
       "     length  width    h8  curb-w8  ...  porsche  renault  saab  subaru  \\\n",
       "5     177.3   66.3  53.1   2507.0  ...      0.0      0.0   0.0     0.0   \n",
       "66    175.0   66.1  54.4   2700.0  ...      0.0      0.0   0.0     0.0   \n",
       "6     192.7   71.4  55.7   2844.0  ...      0.0      0.0   0.0     0.0   \n",
       "174   175.6   66.5  54.9   2480.0  ...      0.0      0.0   0.0     0.0   \n",
       "54    166.8   64.2  54.1   1950.0  ...      0.0      0.0   0.0     0.0   \n",
       "111   186.7   68.4  56.7   3075.0  ...      0.0      0.0   0.0     0.0   \n",
       "145   172.0   65.4  54.3   2510.0  ...      0.0      0.0   0.0     1.0   \n",
       "169   176.2   65.6  52.0   2551.0  ...      0.0      0.0   0.0     0.0   \n",
       "117   186.7   68.3  56.0   3130.0  ...      0.0      0.0   0.0     0.0   \n",
       "9     178.2   67.9  52.0   3053.0  ...      0.0      0.0   0.0     0.0   \n",
       "95    165.6   63.8  53.3   2028.0  ...      0.0      0.0   0.0     0.0   \n",
       "149   173.6   65.4  54.9   2650.0  ...      0.0      0.0   0.0     1.0   \n",
       "7     192.7   71.4  55.7   2954.0  ...      0.0      0.0   0.0     0.0   \n",
       "126   168.9   65.0  51.6   2756.0  ...      1.0      0.0   0.0     0.0   \n",
       "161   166.3   64.4  52.8   2122.0  ...      0.0      0.0   0.0     0.0   \n",
       "150   158.7   63.6  54.5   1985.0  ...      0.0      0.0   0.0     0.0   \n",
       "29    173.2   66.3  50.2   2811.0  ...      0.0      0.0   0.0     0.0   \n",
       "58    169.0   65.7  49.6   2500.0  ...      0.0      0.0   0.0     0.0   \n",
       "142   172.0   65.4  52.5   2190.0  ...      0.0      0.0   0.0     1.0   \n",
       "165   168.7   64.0  52.6   2265.0  ...      0.0      0.0   0.0     0.0   \n",
       "65    175.0   66.1  54.4   2670.0  ...      0.0      0.0   0.0     0.0   \n",
       "182   171.7   65.5  55.7   2261.0  ...      0.0      0.0   0.0     0.0   \n",
       "130   181.5   66.5  55.2   2579.0  ...      0.0      1.0   0.0     0.0   \n",
       "183   171.7   65.5  55.7   2209.0  ...      0.0      0.0   0.0     0.0   \n",
       "31    144.6   63.9  50.8   1819.0  ...      0.0      0.0   0.0     0.0   \n",
       "43    170.7   61.8  53.5   2337.0  ...      0.0      0.0   0.0     0.0   \n",
       "101   181.7   66.5  55.1   3095.0  ...      0.0      0.0   0.0     0.0   \n",
       "59    177.8   66.5  53.7   2385.0  ...      0.0      0.0   0.0     0.0   \n",
       "137   186.6   66.5  56.1   2847.0  ...      0.0      0.0   1.0     0.0   \n",
       "106   178.5   67.9  49.7   3139.0  ...      0.0      0.0   0.0     0.0   \n",
       "193   183.1   66.9  55.1   2563.0  ...      0.0      0.0   0.0     0.0   \n",
       "100   173.4   65.2  54.7   2302.0  ...      0.0      0.0   0.0     0.0   \n",
       "40    175.4   62.5  54.1   2372.0  ...      0.0      0.0   0.0     0.0   \n",
       "202   188.8   68.9  55.5   3012.0  ...      0.0      0.0   0.0     0.0   \n",
       "196   188.8   67.2  56.2   2935.0  ...      0.0      0.0   0.0     0.0   \n",
       "93    170.2   63.8  53.5   2024.0  ...      0.0      0.0   0.0     0.0   \n",
       "119   157.3   63.8  50.8   2128.0  ...      0.0      0.0   0.0     0.0   \n",
       "181   187.8   66.5  54.1   3151.0  ...      0.0      0.0   0.0     0.0   \n",
       "134   186.6   66.5  56.1   2707.0  ...      0.0      0.0   1.0     0.0   \n",
       "178   183.5   67.7  52.0   2976.0  ...      0.0      0.0   0.0     0.0   \n",
       "102   184.6   66.5  56.1   3296.0  ...      0.0      0.0   0.0     0.0   \n",
       "\n",
       "     toyota  volkswagen  volvo  4wd  fwd  rwd  \n",
       "5       0.0         0.0    0.0  0.0  1.0  0.0  \n",
       "66      0.0         0.0    0.0  0.0  0.0  1.0  \n",
       "6       0.0         0.0    0.0  0.0  1.0  0.0  \n",
       "174     1.0         0.0    0.0  0.0  1.0  0.0  \n",
       "54      0.0         0.0    0.0  0.0  1.0  0.0  \n",
       "111     0.0         0.0    0.0  0.0  0.0  1.0  \n",
       "145     0.0         0.0    0.0  1.0  0.0  0.0  \n",
       "169     1.0         0.0    0.0  0.0  0.0  1.0  \n",
       "117     0.0         0.0    0.0  0.0  0.0  1.0  \n",
       "9       0.0         0.0    0.0  1.0  0.0  0.0  \n",
       "95      0.0         0.0    0.0  0.0  1.0  0.0  \n",
       "149     0.0         0.0    0.0  1.0  0.0  0.0  \n",
       "7       0.0         0.0    0.0  0.0  1.0  0.0  \n",
       "126     0.0         0.0    0.0  0.0  0.0  1.0  \n",
       "161     1.0         0.0    0.0  0.0  1.0  0.0  \n",
       "150     1.0         0.0    0.0  0.0  1.0  0.0  \n",
       "29      0.0         0.0    0.0  0.0  1.0  0.0  \n",
       "58      0.0         0.0    0.0  0.0  0.0  1.0  \n",
       "142     0.0         0.0    0.0  0.0  1.0  0.0  \n",
       "165     1.0         0.0    0.0  0.0  0.0  1.0  \n",
       "65      0.0         0.0    0.0  0.0  0.0  1.0  \n",
       "182     0.0         1.0    0.0  0.0  1.0  0.0  \n",
       "130     0.0         0.0    0.0  0.0  1.0  0.0  \n",
       "183     0.0         1.0    0.0  0.0  1.0  0.0  \n",
       "31      0.0         0.0    0.0  0.0  1.0  0.0  \n",
       "43      0.0         0.0    0.0  0.0  0.0  1.0  \n",
       "101     0.0         0.0    0.0  0.0  1.0  0.0  \n",
       "59      0.0         0.0    0.0  0.0  1.0  0.0  \n",
       "137     0.0         0.0    0.0  0.0  1.0  0.0  \n",
       "106     0.0         0.0    0.0  0.0  0.0  1.0  \n",
       "193     0.0         1.0    0.0  0.0  1.0  0.0  \n",
       "100     0.0         0.0    0.0  0.0  1.0  0.0  \n",
       "40      0.0         0.0    0.0  0.0  1.0  0.0  \n",
       "202     0.0         0.0    1.0  0.0  0.0  1.0  \n",
       "196     0.0         0.0    1.0  0.0  0.0  1.0  \n",
       "93      0.0         0.0    0.0  0.0  1.0  0.0  \n",
       "119     0.0         0.0    0.0  0.0  1.0  0.0  \n",
       "181     1.0         0.0    0.0  0.0  0.0  1.0  \n",
       "134     0.0         0.0    0.0  0.0  1.0  0.0  \n",
       "178     1.0         0.0    0.0  0.0  0.0  1.0  \n",
       "102     0.0         0.0    0.0  0.0  1.0  0.0  \n",
       "\n",
       "[41 rows x 44 columns]"
      ]
     },
     "execution_count": 117,
     "metadata": {},
     "output_type": "execute_result"
    }
   ],
   "source": [
    "X_test = X_test.apply(pd.to_numeric, errors='coerce')\n",
    "X_test.astype('float64')"
   ]
  },
  {
   "cell_type": "code",
   "execution_count": 119,
   "metadata": {},
   "outputs": [],
   "source": [
    "# Predicting the price of training set.\n",
    "X_test_stepwise = X_test[predictors]\n",
    "X_test_stepwise = sm.add_constant(X_test_stepwise)\n",
    "actual     = y_test[\"log_price\"]\n",
    "prediction = model_3.predict(X_test_stepwise)"
   ]
  },
  {
   "cell_type": "code",
   "execution_count": 120,
   "metadata": {},
   "outputs": [
    {
     "name": "stdout",
     "output_type": "stream",
     "text": [
      "0.04127013420523421\n"
     ]
    }
   ],
   "source": [
    "#Evaluvation: MSE\n",
    "model_mse = mean_squared_error(prediction, actual)\n",
    "print(model_mse)"
   ]
  },
  {
   "cell_type": "code",
   "execution_count": 121,
   "metadata": {},
   "outputs": [],
   "source": [
    "def mean_absolute_percentage_error(y_true, y_pred): \n",
    "    y_true, y_pred = np.array(y_true), np.array(y_pred)\n",
    "    return np.mean(np.abs((y_true - y_pred) / y_true)) * 100"
   ]
  },
  {
   "cell_type": "code",
   "execution_count": 122,
   "metadata": {},
   "outputs": [
    {
     "data": {
      "text/plain": [
       "1.5219164435547616"
      ]
     },
     "execution_count": 122,
     "metadata": {},
     "output_type": "execute_result"
    }
   ],
   "source": [
    "mean_absolute_percentage_error(actual, prediction)"
   ]
  },
  {
   "cell_type": "code",
   "execution_count": 124,
   "metadata": {},
   "outputs": [
    {
     "data": {
      "image/png": "[encoded data removed]",
      "text/plain": [
       "<Figure size 1152x720 with 1 Axes>"
      ]
     },
     "metadata": {
      "needs_background": "light"
     },
     "output_type": "display_data"
    }
   ],
   "source": [
    "df = pd.DataFrame({'Actual': np.exp(actual), 'Predicted': np.exp(prediction)})\n",
    "df1 = df.sample(25)\n",
    "plt.rc('xtick', labelsize= 10)     \n",
    "df1.plot(kind='bar',figsize=(16,10),grid=False)\n",
    "plt.grid(which='major', linestyle='-', linewidth='0.5', color='green')\n",
    "plt.grid(which='minor', linestyle=':', linewidth='0.5', color='black')\n",
    "plt.grid(b=None)\n",
    "plt.show()"
   ]
  },
  {
   "cell_type": "markdown",
   "metadata": {},
   "source": [
    "### ASSUMPTIONS"
   ]
  },
  {
   "cell_type": "code",
   "execution_count": 125,
   "metadata": {},
   "outputs": [
    {
     "data": {
      "text/plain": [
       "Text(0, 0.5, 'Predicted value')"
      ]
     },
     "execution_count": 125,
     "metadata": {},
     "output_type": "execute_result"
    },
    {
     "data": {
      "image/png": "[encoded data removed]",
      "text/plain": [
       "<Figure size 432x288 with 1 Axes>"
      ]
     },
     "metadata": {
      "needs_background": "light"
     },
     "output_type": "display_data"
    }
   ],
   "source": [
    "# Check for Linearity\n",
    "sns.scatterplot(y_test['log_price'],prediction)\n",
    "plt.title('Check for Linearity')\n",
    "plt.xlabel('Actual value')\n",
    "plt.ylabel('Predicted value')"
   ]
  },
  {
   "cell_type": "code",
   "execution_count": 126,
   "metadata": {},
   "outputs": [
    {
     "data": {
      "text/plain": [
       "Text(0.5, 0, 'Errors')"
      ]
     },
     "execution_count": 126,
     "metadata": {},
     "output_type": "execute_result"
    },
    {
     "data": {
      "image/png": "[encoded data removed]",
      "text/plain": [
       "<Figure size 432x288 with 1 Axes>"
      ]
     },
     "metadata": {
      "needs_background": "light"
     },
     "output_type": "display_data"
    }
   ],
   "source": [
    "# Plot the histogram of the error terms\n",
    "fig = plt.figure()\n",
    "sns.distplot((y_test['log_price'] - prediction), bins = 20)\n",
    "fig.suptitle('Error Terms Analysis', fontsize = 20)                   \n",
    "plt.xlabel('Errors', fontsize = 18)"
   ]
  },
  {
   "cell_type": "code",
   "execution_count": null,
   "metadata": {},
   "outputs": [],
   "source": [
    "#The mean of residuals is zero"
   ]
  },
  {
   "cell_type": "code",
   "execution_count": 127,
   "metadata": {},
   "outputs": [
    {
     "name": "stderr",
     "output_type": "stream",
     "text": [
      "D:\\Anaconda\\lib\\site-packages\\statsmodels\\stats\\outliers_influence.py:695: RuntimeWarning: invalid value encountered in sqrt\n",
      "  return self.resid / sigma / np.sqrt(1 - hii)\n"
     ]
    },
    {
     "name": "stdout",
     "output_type": "stream",
     "text": [
      "\n",
      " Breusch-Pagan test ----\n",
      "                                   value\n",
      "Lagrange multiplier statistic  42.068690\n",
      "p-value                         0.012678\n",
      "f-value                         2.100119\n",
      "f p-value                       0.004588\n",
      "\n",
      " Goldfeld-Quandt test ----\n",
      "                value\n",
      "F statistic  0.778486\n",
      "p-value      0.831848\n",
      "\n",
      " Residuals plots ----\n"
     ]
    },
    {
     "data": {
      "image/png": "[encoded data removed]",
      "text/plain": [
       "<Figure size 1080x648 with 2 Axes>"
      ]
     },
     "metadata": {
      "image/png": {
       "height": 551,
       "width": 891
      }
     },
     "output_type": "display_data"
    }
   ],
   "source": [
    "#Homoscedasticity of residuals or equal variance\n",
    "\n",
    "%matplotlib inline\n",
    "%config InlineBackend.figure_format ='retina'\n",
    "import seaborn as sns \n",
    "import matplotlib.pyplot as plt\n",
    "import statsmodels.stats.api as sms\n",
    "sns.set_style('darkgrid')\n",
    "sns.mpl.rcParams['figure.figsize'] = (15.0, 9.0)\n",
    "\n",
    "def homoscedasticity_test(model):\n",
    "    '''\n",
    "    Function for testing the homoscedasticity of residuals in a linear regression model.\n",
    "    It plots residuals and standardized residuals vs. fitted values and runs Breusch-Pagan and Goldfeld-Quandt tests.\n",
    "    \n",
    "    Args:\n",
    "    * model - fitted OLS model from statsmodels\n",
    "    '''\n",
    "    fitted_vals = model.predict()\n",
    "    resids = model.resid\n",
    "    resids_standardized = model.get_influence().resid_studentized_internal\n",
    "\n",
    "    fig, ax = plt.subplots(1,2)\n",
    "\n",
    "    sns.regplot(x=fitted_vals, y=resids, lowess=True, ax=ax[0], line_kws={'color': 'red'})\n",
    "    ax[0].set_title('Residuals vs Fitted', fontsize=16)\n",
    "    ax[0].set(xlabel='Fitted Values', ylabel='Residuals')\n",
    "\n",
    "    sns.regplot(x=fitted_vals, y=np.sqrt(np.abs(resids_standardized)), lowess=True, ax=ax[1], line_kws={'color': 'red'})\n",
    "    ax[1].set_title('Scale-Location', fontsize=16)\n",
    "    ax[1].set(xlabel='Fitted Values', ylabel='sqrt(abs(Residuals))')\n",
    "\n",
    "    bp_test = pd.DataFrame(sms.het_breuschpagan(resids, model.model.exog), \n",
    "                           columns=['value'],\n",
    "                           index=['Lagrange multiplier statistic', 'p-value', 'f-value', 'f p-value'])\n",
    "\n",
    "    gq_test = pd.DataFrame(sms.het_goldfeldquandt(resids, model.model.exog)[:-1],\n",
    "                           columns=['value'],\n",
    "                           index=['F statistic', 'p-value'])\n",
    "\n",
    "    print('\\n Breusch-Pagan test ----')\n",
    "    print(bp_test)\n",
    "    print('\\n Goldfeld-Quandt test ----')\n",
    "    print(gq_test)\n",
    "    print('\\n Residuals plots ----')\n",
    "\n",
    "homoscedasticity_test(model_3)"
   ]
  },
  {
   "cell_type": "code",
   "execution_count": 128,
   "metadata": {},
   "outputs": [
    {
     "name": "stderr",
     "output_type": "stream",
     "text": [
      "D:\\Anaconda\\lib\\site-packages\\ipykernel_launcher.py:6: UserWarning: Matplotlib is currently using module://ipykernel.pylab.backend_inline, which is a non-GUI backend, so cannot show the figure.\n",
      "  \n"
     ]
    },
    {
     "data": {
      "image/png": "[encoded data removed]",
      "text/plain": [
       "<Figure size 1080x648 with 1 Axes>"
      ]
     },
     "metadata": {
      "image/png": {
       "height": 535,
       "width": 878
      }
     },
     "output_type": "display_data"
    }
   ],
   "source": [
    "#No autocorrelation of residuals FAILED\n",
    "\n",
    "import statsmodels.tsa.api as smt\n",
    "\n",
    "acf = smt.graphics.plot_acf(model_3.resid, lags=40 , alpha=0.05)\n",
    "acf.show()"
   ]
  },
  {
   "cell_type": "code",
   "execution_count": 129,
   "metadata": {},
   "outputs": [
    {
     "data": {
      "text/plain": [
       "(164, 44)"
      ]
     },
     "execution_count": 129,
     "metadata": {},
     "output_type": "execute_result"
    }
   ],
   "source": [
    "# The number of observations must be greater than the number of features\n",
    "X_train.shape"
   ]
  },
  {
   "cell_type": "code",
   "execution_count": 130,
   "metadata": {},
   "outputs": [
    {
     "data": {
      "text/plain": [
       "CarId                 3493.652104\n",
       "symboling                1.556031\n",
       "fuel-type                0.092913\n",
       "aspiration               0.145561\n",
       "engine-location          0.012046\n",
       "wheel-base              39.086691\n",
       "length                 163.984790\n",
       "width                    4.743000\n",
       "h8                       6.521649\n",
       "curb-w8             299451.670546\n",
       "num-of-cylinders         1.271713\n",
       "engine-size           1947.735983\n",
       "bore                     0.075180\n",
       "stroke                   0.088201\n",
       "compression             16.233850\n",
       "horsepower            1636.600944\n",
       "peak-rpm            227912.690497\n",
       "city-mpg                44.918055\n",
       "highway-mpg             49.936756\n",
       "alfa-romero              0.017958\n",
       "audi                     0.017958\n",
       "bmw                      0.046401\n",
       "chevrolet                0.017958\n",
       "dodge                    0.046401\n",
       "honda                    0.062574\n",
       "isuzu                    0.017958\n",
       "jaguar                   0.017958\n",
       "mazda                    0.067817\n",
       "mercedes-benz            0.046401\n",
       "mercury                  0.006060\n",
       "mitsubishi               0.072985\n",
       "nissan                   0.067817\n",
       "peugot                   0.051866\n",
       "plymouth                 0.035247\n",
       "porsche                  0.023795\n",
       "renault                  0.006060\n",
       "saab                     0.023795\n",
       "subaru                   0.051866\n",
       "toyota                   0.129201\n",
       "volkswagen               0.051866\n",
       "volvo                    0.051866\n",
       "4wd                      0.035247\n",
       "fwd                      0.242713\n",
       "rwd                      0.235128\n",
       "dtype: float64"
      ]
     },
     "execution_count": 130,
     "metadata": {},
     "output_type": "execute_result"
    }
   ],
   "source": [
    "#There must be some variability in features\n",
    "\n",
    "(X_train.apply(np.var, axis=0))"
   ]
  },
  {
   "cell_type": "code",
   "execution_count": 131,
   "metadata": {},
   "outputs": [
    {
     "name": "stdout",
     "output_type": "stream",
     "text": [
      "Jarque-Bera test ---- statistic: 3.4409, p-value: 0.17898849136510142\n",
      "Shapiro-Wilk test ---- statistic: 0.9886, p-value: 0.2064\n",
      "Kolmogorov-Smirnov test ---- statistic: 0.3614, p-value: 0.0000\n",
      "Anderson-Darling test ---- statistic: 0.4834, 5% critical value: 0.7690\n",
      "If the returned AD statistic is larger than the critical value, then for the 5% significance level, the null hypothesis that the data come from the Normal distribution should be rejected. \n"
     ]
    },
    {
     "data": {
      "image/png": "[encoded data removed]",
      "text/plain": [
       "<Figure size 1080x648 with 1 Axes>"
      ]
     },
     "metadata": {
      "image/png": {
       "height": 548,
       "width": 891
      }
     },
     "output_type": "display_data"
    }
   ],
   "source": [
    "# Normality of Residuals\n",
    "\n",
    "from scipy import stats\n",
    "\n",
    "def normality_of_residuals_test(model):\n",
    "    '''\n",
    "    Function for drawing the normal QQ-plot of the residuals and running 4 statistical tests to \n",
    "    investigate the normality of residuals.\n",
    "    \n",
    "    Arg:\n",
    "    * model - fitted OLS models from statsmodels\n",
    "    '''\n",
    "    sm.ProbPlot(model.resid).qqplot(line='s');\n",
    "    plt.title('Q-Q plot');\n",
    "\n",
    "    jb = stats.jarque_bera(model.resid)\n",
    "    sw = stats.shapiro(model.resid)\n",
    "    ad = stats.anderson(model.resid, dist='norm')\n",
    "    ks = stats.kstest(model.resid, 'norm')\n",
    "    \n",
    "    print(f'Jarque-Bera test ---- statistic: {jb[0]:.4f}, p-value: {jb[1]}')\n",
    "    print(f'Shapiro-Wilk test ---- statistic: {sw[0]:.4f}, p-value: {sw[1]:.4f}')\n",
    "    print(f'Kolmogorov-Smirnov test ---- statistic: {ks.statistic:.4f}, p-value: {ks.pvalue:.4f}')\n",
    "    print(f'Anderson-Darling test ---- statistic: {ad.statistic:.4f}, 5% critical value: {ad.critical_values[2]:.4f}')\n",
    "    print('If the returned AD statistic is larger than the critical value, then for the 5% significance level, the null hypothesis that the data come from the Normal distribution should be rejected. ')\n",
    "    \n",
    "normality_of_residuals_test(model_3)"
   ]
  },
  {
   "cell_type": "code",
   "execution_count": null,
   "metadata": {},
   "outputs": [],
   "source": [
    "# The regression model is linear in parameters"
   ]
  },
  {
   "cell_type": "code",
   "execution_count": 134,
   "metadata": {},
   "outputs": [
    {
     "name": "stdout",
     "output_type": "stream",
     "text": [
      "Variable: const --- correlation: nan, p-value: nan\n",
      "Variable: alfa-romero --- correlation: 0.0000, p-value: 1.0000\n",
      "Variable: audi --- correlation: 0.0000, p-value: 1.0000\n",
      "Variable: bmw --- correlation: 0.0000, p-value: 1.0000\n",
      "Variable: chevrolet --- correlation: -0.0000, p-value: 1.0000\n",
      "Variable: dodge --- correlation: -0.0000, p-value: 1.0000\n",
      "Variable: honda --- correlation: -0.0000, p-value: 1.0000\n",
      "Variable: isuzu --- correlation: -0.0000, p-value: 1.0000\n",
      "Variable: jaguar --- correlation: 0.0000, p-value: 1.0000\n",
      "Variable: mazda --- correlation: 0.0000, p-value: 1.0000\n",
      "Variable: mercedes-benz --- correlation: 0.0000, p-value: 1.0000\n",
      "Variable: mercury --- correlation: 0.0000, p-value: 1.0000\n",
      "Variable: mitsubishi --- correlation: -0.0000, p-value: 1.0000\n",
      "Variable: nissan --- correlation: -0.0000, p-value: 1.0000\n",
      "Variable: peugot --- correlation: -0.0000, p-value: 1.0000\n",
      "Variable: plymouth --- correlation: -0.0000, p-value: 1.0000\n",
      "Variable: porsche --- correlation: 0.0000, p-value: 1.0000\n",
      "Variable: renault --- correlation: -0.0000, p-value: 1.0000\n",
      "Variable: saab --- correlation: 0.0000, p-value: 1.0000\n",
      "Variable: subaru --- correlation: -0.0000, p-value: 1.0000\n",
      "Variable: toyota --- correlation: -0.0000, p-value: 1.0000\n",
      "Variable: volkswagen --- correlation: -0.0000, p-value: 1.0000\n",
      "Variable: volvo --- correlation: 0.0000, p-value: 1.0000\n",
      "Variable: horsepower --- correlation: 0.0000, p-value: 1.0000\n",
      "Variable: engine-location --- correlation: -0.0000, p-value: 1.0000\n"
     ]
    },
    {
     "name": "stderr",
     "output_type": "stream",
     "text": [
      "D:\\Anaconda\\lib\\site-packages\\scipy\\stats\\stats.py:3399: PearsonRConstantInputWarning: An input array is constant; the correlation coefficent is not defined.\n",
      "  warnings.warn(PearsonRConstantInputWarning())\n"
     ]
    }
   ],
   "source": [
    "# The X variables and residuals are uncorrelated\n",
    "\n",
    "from scipy.stats.stats import pearsonr\n",
    "\n",
    "for column in X_train3.columns:\n",
    "    corr_test = pearsonr(X_train3[column], model_3.resid)\n",
    "    print(f'Variable: {column} --- correlation: {corr_test[0]:.4f}, p-value: {corr_test[1]:.4f}')"
   ]
  },
  {
   "cell_type": "code",
   "execution_count": null,
   "metadata": {},
   "outputs": [],
   "source": [
    "# none of the features are correlated with the residuals"
   ]
  },
  {
   "cell_type": "code",
   "execution_count": null,
   "metadata": {},
   "outputs": [],
   "source": []
  },
  {
   "cell_type": "code",
   "execution_count": null,
   "metadata": {},
   "outputs": [],
   "source": []
  },
  {
   "cell_type": "code",
   "execution_count": 105,
   "metadata": {},
   "outputs": [],
   "source": [
    "X1 = X.apply(pd.to_numeric, errors='coerce')\n",
    "X1.astype('float64')"
   ]
  },
  {
   "cell_type": "code",
   "execution_count": 108,
   "metadata": {},
   "outputs": [
    {
     "name": "stderr",
     "output_type": "stream",
     "text": [
      "D:\\Anaconda\\lib\\site-packages\\statsmodels\\stats\\outliers_influence.py:185: RuntimeWarning: divide by zero encountered in double_scalars\n",
      "  vif = 1. / (1. - r_squared_i)\n"
     ]
    },
    {
     "data": {
      "text/html": [
       "<div>\n",
       "<style scoped>\n",
       "    .dataframe tbody tr th:only-of-type {\n",
       "        vertical-align: middle;\n",
       "    }\n",
       "\n",
       "    .dataframe tbody tr th {\n",
       "        vertical-align: top;\n",
       "    }\n",
       "\n",
       "    .dataframe thead th {\n",
       "        text-align: right;\n",
       "    }\n",
       "</style>\n",
       "<table border=\"1\" class=\"dataframe\">\n",
       "  <thead>\n",
       "    <tr style=\"text-align: right;\">\n",
       "      <th></th>\n",
       "      <th>Features</th>\n",
       "      <th>VIF</th>\n",
       "    </tr>\n",
       "  </thead>\n",
       "  <tbody>\n",
       "    <tr>\n",
       "      <th>22</th>\n",
       "      <td>chevrolet</td>\n",
       "      <td>inf</td>\n",
       "    </tr>\n",
       "    <tr>\n",
       "      <th>33</th>\n",
       "      <td>plymouth</td>\n",
       "      <td>inf</td>\n",
       "    </tr>\n",
       "    <tr>\n",
       "      <th>25</th>\n",
       "      <td>isuzu</td>\n",
       "      <td>inf</td>\n",
       "    </tr>\n",
       "    <tr>\n",
       "      <th>26</th>\n",
       "      <td>jaguar</td>\n",
       "      <td>inf</td>\n",
       "    </tr>\n",
       "    <tr>\n",
       "      <th>27</th>\n",
       "      <td>mazda</td>\n",
       "      <td>inf</td>\n",
       "    </tr>\n",
       "    <tr>\n",
       "      <th>28</th>\n",
       "      <td>mercedes-benz</td>\n",
       "      <td>inf</td>\n",
       "    </tr>\n",
       "    <tr>\n",
       "      <th>29</th>\n",
       "      <td>mercury</td>\n",
       "      <td>inf</td>\n",
       "    </tr>\n",
       "    <tr>\n",
       "      <th>30</th>\n",
       "      <td>mitsubishi</td>\n",
       "      <td>inf</td>\n",
       "    </tr>\n",
       "    <tr>\n",
       "      <th>31</th>\n",
       "      <td>nissan</td>\n",
       "      <td>inf</td>\n",
       "    </tr>\n",
       "    <tr>\n",
       "      <th>32</th>\n",
       "      <td>peugot</td>\n",
       "      <td>inf</td>\n",
       "    </tr>\n",
       "    <tr>\n",
       "      <th>34</th>\n",
       "      <td>porsche</td>\n",
       "      <td>inf</td>\n",
       "    </tr>\n",
       "    <tr>\n",
       "      <th>23</th>\n",
       "      <td>dodge</td>\n",
       "      <td>inf</td>\n",
       "    </tr>\n",
       "    <tr>\n",
       "      <th>35</th>\n",
       "      <td>renault</td>\n",
       "      <td>inf</td>\n",
       "    </tr>\n",
       "    <tr>\n",
       "      <th>36</th>\n",
       "      <td>saab</td>\n",
       "      <td>inf</td>\n",
       "    </tr>\n",
       "    <tr>\n",
       "      <th>37</th>\n",
       "      <td>subaru</td>\n",
       "      <td>inf</td>\n",
       "    </tr>\n",
       "    <tr>\n",
       "      <th>38</th>\n",
       "      <td>toyota</td>\n",
       "      <td>inf</td>\n",
       "    </tr>\n",
       "    <tr>\n",
       "      <th>39</th>\n",
       "      <td>volkswagen</td>\n",
       "      <td>inf</td>\n",
       "    </tr>\n",
       "    <tr>\n",
       "      <th>40</th>\n",
       "      <td>volvo</td>\n",
       "      <td>inf</td>\n",
       "    </tr>\n",
       "    <tr>\n",
       "      <th>41</th>\n",
       "      <td>4wd</td>\n",
       "      <td>inf</td>\n",
       "    </tr>\n",
       "    <tr>\n",
       "      <th>42</th>\n",
       "      <td>fwd</td>\n",
       "      <td>inf</td>\n",
       "    </tr>\n",
       "    <tr>\n",
       "      <th>24</th>\n",
       "      <td>honda</td>\n",
       "      <td>inf</td>\n",
       "    </tr>\n",
       "    <tr>\n",
       "      <th>43</th>\n",
       "      <td>rwd</td>\n",
       "      <td>inf</td>\n",
       "    </tr>\n",
       "    <tr>\n",
       "      <th>20</th>\n",
       "      <td>audi</td>\n",
       "      <td>inf</td>\n",
       "    </tr>\n",
       "    <tr>\n",
       "      <th>19</th>\n",
       "      <td>alfa-romero</td>\n",
       "      <td>inf</td>\n",
       "    </tr>\n",
       "    <tr>\n",
       "      <th>21</th>\n",
       "      <td>bmw</td>\n",
       "      <td>inf</td>\n",
       "    </tr>\n",
       "    <tr>\n",
       "      <th>0</th>\n",
       "      <td>CarId</td>\n",
       "      <td>449.39</td>\n",
       "    </tr>\n",
       "    <tr>\n",
       "      <th>2</th>\n",
       "      <td>fuel-type</td>\n",
       "      <td>152.86</td>\n",
       "    </tr>\n",
       "    <tr>\n",
       "      <th>14</th>\n",
       "      <td>compression</td>\n",
       "      <td>138.47</td>\n",
       "    </tr>\n",
       "    <tr>\n",
       "      <th>11</th>\n",
       "      <td>engine-size</td>\n",
       "      <td>46.12</td>\n",
       "    </tr>\n",
       "    <tr>\n",
       "      <th>17</th>\n",
       "      <td>city-mpg</td>\n",
       "      <td>43.83</td>\n",
       "    </tr>\n",
       "    <tr>\n",
       "      <th>18</th>\n",
       "      <td>highway-mpg</td>\n",
       "      <td>37.53</td>\n",
       "    </tr>\n",
       "    <tr>\n",
       "      <th>9</th>\n",
       "      <td>curb-w8</td>\n",
       "      <td>31.90</td>\n",
       "    </tr>\n",
       "    <tr>\n",
       "      <th>15</th>\n",
       "      <td>horsepower</td>\n",
       "      <td>24.58</td>\n",
       "    </tr>\n",
       "    <tr>\n",
       "      <th>10</th>\n",
       "      <td>num-of-cylinders</td>\n",
       "      <td>17.36</td>\n",
       "    </tr>\n",
       "    <tr>\n",
       "      <th>6</th>\n",
       "      <td>length</td>\n",
       "      <td>17.08</td>\n",
       "    </tr>\n",
       "    <tr>\n",
       "      <th>5</th>\n",
       "      <td>wheel-base</td>\n",
       "      <td>16.58</td>\n",
       "    </tr>\n",
       "    <tr>\n",
       "      <th>7</th>\n",
       "      <td>width</td>\n",
       "      <td>13.48</td>\n",
       "    </tr>\n",
       "    <tr>\n",
       "      <th>12</th>\n",
       "      <td>bore</td>\n",
       "      <td>8.39</td>\n",
       "    </tr>\n",
       "    <tr>\n",
       "      <th>8</th>\n",
       "      <td>h8</td>\n",
       "      <td>5.71</td>\n",
       "    </tr>\n",
       "    <tr>\n",
       "      <th>3</th>\n",
       "      <td>aspiration</td>\n",
       "      <td>4.93</td>\n",
       "    </tr>\n",
       "    <tr>\n",
       "      <th>13</th>\n",
       "      <td>stroke</td>\n",
       "      <td>4.84</td>\n",
       "    </tr>\n",
       "    <tr>\n",
       "      <th>1</th>\n",
       "      <td>symboling</td>\n",
       "      <td>4.72</td>\n",
       "    </tr>\n",
       "    <tr>\n",
       "      <th>16</th>\n",
       "      <td>peak-rpm</td>\n",
       "      <td>4.71</td>\n",
       "    </tr>\n",
       "    <tr>\n",
       "      <th>4</th>\n",
       "      <td>engine-location</td>\n",
       "      <td>3.95</td>\n",
       "    </tr>\n",
       "  </tbody>\n",
       "</table>\n",
       "</div>"
      ],
      "text/plain": [
       "            Features     VIF\n",
       "22         chevrolet     inf\n",
       "33          plymouth     inf\n",
       "25             isuzu     inf\n",
       "26            jaguar     inf\n",
       "27             mazda     inf\n",
       "28     mercedes-benz     inf\n",
       "29           mercury     inf\n",
       "30        mitsubishi     inf\n",
       "31            nissan     inf\n",
       "32            peugot     inf\n",
       "34           porsche     inf\n",
       "23             dodge     inf\n",
       "35           renault     inf\n",
       "36              saab     inf\n",
       "37            subaru     inf\n",
       "38            toyota     inf\n",
       "39        volkswagen     inf\n",
       "40             volvo     inf\n",
       "41               4wd     inf\n",
       "42               fwd     inf\n",
       "24             honda     inf\n",
       "43               rwd     inf\n",
       "20              audi     inf\n",
       "19       alfa-romero     inf\n",
       "21               bmw     inf\n",
       "0              CarId  449.39\n",
       "2          fuel-type  152.86\n",
       "14       compression  138.47\n",
       "11       engine-size   46.12\n",
       "17          city-mpg   43.83\n",
       "18       highway-mpg   37.53\n",
       "9            curb-w8   31.90\n",
       "15        horsepower   24.58\n",
       "10  num-of-cylinders   17.36\n",
       "6             length   17.08\n",
       "5         wheel-base   16.58\n",
       "7              width   13.48\n",
       "12              bore    8.39\n",
       "8                 h8    5.71\n",
       "3         aspiration    4.93\n",
       "13            stroke    4.84\n",
       "1          symboling    4.72\n",
       "16          peak-rpm    4.71\n",
       "4    engine-location    3.95"
      ]
     },
     "execution_count": 108,
     "metadata": {},
     "output_type": "execute_result"
    }
   ],
   "source": [
    "# Create a dataframe that will contain the names of all the feature variables and their respective VIFs\n",
    "vif = pd.DataFrame()\n",
    "vif['Features'] = X1.columns\n",
    "vif['VIF'] = [variance_inflation_factor(X1.values, i) for i in range(X1.shape[1])]\n",
    "vif['VIF'] = round(vif['VIF'], 2)\n",
    "vif = vif.sort_values(by = \"VIF\", ascending = False)\n",
    "vif"
   ]
  },
  {
   "cell_type": "markdown",
   "metadata": {},
   "source": [
    "missing values in the data\n",
    "\n",
    "#missing data\n",
    "total = X1.isnull().sum().sort_values(ascending=False)\n",
    "percent = (X1.isnull().sum()/X1.isnull().count()).sort_values(ascending=False)\n",
    "missing_data = pd.concat([total, percent], axis=1, keys=['Total', 'Percent'])\n",
    "missing_data.head(20)\n",
    "print(missing_data)"
   ]
  }
 ],
 "metadata": {
  "kernelspec": {
   "display_name": "Python 3",
   "language": "python",
   "name": "python3"
  },
  "language_info": {
   "codemirror_mode": {
    "name": "ipython",
    "version": 3
   },
   "file_extension": ".py",
   "mimetype": "text/x-python",
   "name": "python",
   "nbconvert_exporter": "python",
   "pygments_lexer": "ipython3",
   "version": "3.7.4"
  }
 },
 "nbformat": 4,
 "nbformat_minor": 2
}
