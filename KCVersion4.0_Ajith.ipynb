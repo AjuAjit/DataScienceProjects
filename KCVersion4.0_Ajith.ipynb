{
 "cells": [
  {
   "cell_type": "markdown",
   "metadata": {},
   "source": [
    "### Importing Packages"
   ]
  },
  {
   "cell_type": "code",
   "execution_count": 1,
   "metadata": {},
   "outputs": [
    {
     "name": "stderr",
     "output_type": "stream",
     "text": [
      "D:\\Anaconda\\lib\\site-packages\\statsmodels\\tools\\_testing.py:19: FutureWarning: pandas.util.testing is deprecated. Use the functions in the public API at pandas.testing instead.\n",
      "  import pandas.util.testing as tm\n"
     ]
    }
   ],
   "source": [
    "import pandas as pd  \n",
    "import numpy as np   \n",
    "import matplotlib.pyplot as plt  \n",
    "import seaborn as sns \n",
    "from sklearn.model_selection import train_test_split \n",
    "from sklearn.linear_model import LinearRegression\n",
    "from sklearn import metrics\n",
    "%matplotlib inline"
   ]
  },
  {
   "cell_type": "code",
   "execution_count": 2,
   "metadata": {},
   "outputs": [],
   "source": [
    "from sklearn.preprocessing import StandardScaler"
   ]
  },
  {
   "cell_type": "markdown",
   "metadata": {},
   "source": [
    "### Extracting training data"
   ]
  },
  {
   "cell_type": "code",
   "execution_count": 3,
   "metadata": {},
   "outputs": [],
   "source": [
    "KC_train = pd.read_csv(\"D:\\\\Praxis\\\\ML\\\\data\\\\kc-house-data\\\\wk3_kc_house_train_data.csv\")"
   ]
  },
  {
   "cell_type": "markdown",
   "metadata": {},
   "source": [
    "### zip code dummy variable creation"
   ]
  },
  {
   "cell_type": "code",
   "execution_count": 4,
   "metadata": {},
   "outputs": [],
   "source": [
    "from sklearn.preprocessing import LabelBinarizer\n",
    "lb = LabelBinarizer()\n",
    "zip_dummies = lb.fit_transform(KC_train['zipcode'])\n",
    "# you need to convert this back to a dataframe\n",
    "zip_dum_df = pd.DataFrame(zip_dummies,columns=lb.classes_)"
   ]
  },
  {
   "cell_type": "code",
   "execution_count": 5,
   "metadata": {},
   "outputs": [],
   "source": [
    "for i in zip_dum_df.columns:\n",
    "    KC_train[str(i)] = zip_dum_df[i]"
   ]
  },
  {
   "cell_type": "markdown",
   "metadata": {},
   "source": [
    "### Checking for missing values"
   ]
  },
  {
   "cell_type": "code",
   "execution_count": 6,
   "metadata": {},
   "outputs": [
    {
     "data": {
      "text/plain": [
       "id           0\n",
       "date         0\n",
       "price        0\n",
       "bedrooms     0\n",
       "bathrooms    0\n",
       "            ..\n",
       "98177        0\n",
       "98178        0\n",
       "98188        0\n",
       "98198        0\n",
       "98199        0\n",
       "Length: 91, dtype: int64"
      ]
     },
     "execution_count": 6,
     "metadata": {},
     "output_type": "execute_result"
    }
   ],
   "source": [
    "miss = KC_train.isnull().sum()\n",
    "miss"
   ]
  },
  {
   "cell_type": "markdown",
   "metadata": {},
   "source": [
    "### Log transform on sqft_living"
   ]
  },
  {
   "cell_type": "code",
   "execution_count": 7,
   "metadata": {},
   "outputs": [],
   "source": [
    "KC_train['log_sqft_living'] = np.log(KC_train['sqft_living'])\n",
    "KC_train=KC_train.drop([\"id\",\"date\",\"sqft_living\",\"yr_built\"],axis=1)"
   ]
  },
  {
   "cell_type": "markdown",
   "metadata": {},
   "source": [
    "### Dropping id and date columns"
   ]
  },
  {
   "cell_type": "code",
   "execution_count": 9,
   "metadata": {},
   "outputs": [],
   "source": [
    "#KC_train=KC_train.drop([\"id\",\"date\"],axis=1)"
   ]
  },
  {
   "cell_type": "markdown",
   "metadata": {},
   "source": [
    "### Setting X and Y"
   ]
  },
  {
   "cell_type": "code",
   "execution_count": 10,
   "metadata": {},
   "outputs": [],
   "source": [
    "Y_train = KC_train[\"price\"].values\n",
    "y_train = np.log(Y_train)"
   ]
  },
  {
   "cell_type": "markdown",
   "metadata": {},
   "source": [
    "### Removing variables which are not significant and target variable"
   ]
  },
  {
   "cell_type": "code",
   "execution_count": 27,
   "metadata": {},
   "outputs": [],
   "source": [
    "removing_variable_list = ['price']"
   ]
  },
  {
   "cell_type": "code",
   "execution_count": 28,
   "metadata": {},
   "outputs": [],
   "source": [
    "X_train = KC_train[list(set(KC_train.columns) - set(removing_variable_list))]"
   ]
  },
  {
   "cell_type": "code",
   "execution_count": 29,
   "metadata": {},
   "outputs": [
    {
     "data": {
      "text/plain": [
       "87"
      ]
     },
     "execution_count": 29,
     "metadata": {},
     "output_type": "execute_result"
    }
   ],
   "source": [
    "X_train.shape[1]"
   ]
  },
  {
   "cell_type": "code",
   "execution_count": 30,
   "metadata": {},
   "outputs": [
    {
     "data": {
      "text/plain": [
       "array([[1., 0., 0., ..., 0., 0., 0.],\n",
       "       [0., 0., 0., ..., 0., 0., 0.],\n",
       "       [0., 0., 0., ..., 0., 0., 0.],\n",
       "       ...,\n",
       "       [1., 0., 0., ..., 0., 0., 0.],\n",
       "       [0., 0., 0., ..., 0., 0., 0.],\n",
       "       [0., 0., 0., ..., 0., 0., 0.]])"
      ]
     },
     "execution_count": 30,
     "metadata": {},
     "output_type": "execute_result"
    }
   ],
   "source": [
    "X_train.values"
   ]
  },
  {
   "cell_type": "markdown",
   "metadata": {},
   "source": [
    "### Standardising data"
   ]
  },
  {
   "cell_type": "code",
   "execution_count": 31,
   "metadata": {},
   "outputs": [
    {
     "data": {
      "text/plain": [
       "array([[ 8.6409876 , -0.09966317, -0.11296895, ..., -0.14791969,\n",
       "        -0.31482136, -0.07527681],\n",
       "       [-0.11572751, -0.09966317, -0.11296895, ..., -0.14791969,\n",
       "        -0.31482136, -0.07527681],\n",
       "       [-0.11572751, -0.09966317, -0.11296895, ..., -0.14791969,\n",
       "        -0.31482136, -0.07527681],\n",
       "       ...,\n",
       "       [ 8.6409876 , -0.09966317, -0.11296895, ..., -0.14791969,\n",
       "        -0.31482136, -0.07527681],\n",
       "       [-0.11572751, -0.09966317, -0.11296895, ..., -0.14791969,\n",
       "        -0.31482136, -0.07527681],\n",
       "       [-0.11572751, -0.09966317, -0.11296895, ..., -0.14791969,\n",
       "        -0.31482136, -0.07527681]])"
      ]
     },
     "execution_count": 31,
     "metadata": {},
     "output_type": "execute_result"
    }
   ],
   "source": [
    "X_train=StandardScaler().fit_transform(X_train)\n",
    "X_train"
   ]
  },
  {
   "cell_type": "markdown",
   "metadata": {},
   "source": [
    "### Fitting LR model"
   ]
  },
  {
   "cell_type": "code",
   "execution_count": 32,
   "metadata": {},
   "outputs": [
    {
     "name": "stdout",
     "output_type": "stream",
     "text": [
      "train Accuracy 0.8878170378059811\n"
     ]
    }
   ],
   "source": [
    "regressor = LinearRegression()\n",
    "model = regressor.fit(X_train,y_train)\n",
    "print(\"train Accuracy\",regressor.score(X_train,y_train))"
   ]
  },
  {
   "cell_type": "code",
   "execution_count": 33,
   "metadata": {},
   "outputs": [],
   "source": [
    "y_pred1 = regressor.predict(X_train)"
   ]
  },
  {
   "cell_type": "markdown",
   "metadata": {},
   "source": [
    "### Taking antilog of prediction"
   ]
  },
  {
   "cell_type": "code",
   "execution_count": 34,
   "metadata": {},
   "outputs": [],
   "source": [
    "predictions1 = np.exp(y_pred1)"
   ]
  },
  {
   "cell_type": "code",
   "execution_count": 18,
   "metadata": {},
   "outputs": [
    {
     "name": "stdout",
     "output_type": "stream",
     "text": [
      "Mean Absolute Error: 76375.95801452245\n",
      "Mean Squared Error: 19588562013.22824\n",
      "Root Mean Squared Error: 139959.1440857947\n"
     ]
    }
   ],
   "source": [
    "print('Mean Absolute Error:', metrics.mean_absolute_error(KC_train[['price']].values, predictions1))\n",
    "print('Mean Squared Error:', metrics.mean_squared_error(KC_train[['price']].values, predictions1))\n",
    "print('Root Mean Squared Error:', np.sqrt(metrics.mean_squared_error(KC_train[['price']].values, predictions1)))"
   ]
  },
  {
   "cell_type": "markdown",
   "metadata": {},
   "source": [
    "### Results"
   ]
  },
  {
   "cell_type": "code",
   "execution_count": 35,
   "metadata": {},
   "outputs": [
    {
     "name": "stdout",
     "output_type": "stream",
     "text": [
      "Train Results\n",
      "R squared 0.8878170378059811\n",
      "Adjusted R squared is 0.7863143124116\n",
      "Mean Absolute Error: 73450.30741997383\n",
      "Mean Squared Error: 16360134129.365555\n",
      "Root Mean Squared Error: 127906.73996848468\n"
     ]
    }
   ],
   "source": [
    "print(\"Train Results\")\n",
    "\n",
    "print(\"R squared\",regressor.score(X_train,y_train))\n",
    "\n",
    "R_sq = regressor.score(X_train,y_train)\n",
    "\n",
    "aj_rsq = 1 - ((1 - (R_sq*R_sq)) * ((X_train.shape[0] - 1)/(X_train.shape[0] - X_train.shape[1] - 1)))\n",
    "\n",
    "print(\"Adjusted R squared is {}\".format(aj_rsq))              \n",
    "              \n",
    "y_pred1 = regressor.predict(X_train)\n",
    "predictions2 = np.exp(y_pred1)\n",
    "\n",
    "print('Mean Absolute Error:', metrics.mean_absolute_error(KC_train[['price']].values, predictions1))\n",
    "print('Mean Squared Error:', metrics.mean_squared_error(KC_train[['price']].values, predictions1))\n",
    "print('Root Mean Squared Error:', np.sqrt(metrics.mean_squared_error(KC_train[['price']].values, predictions1)))"
   ]
  },
  {
   "cell_type": "code",
   "execution_count": 44,
   "metadata": {},
   "outputs": [
    {
     "data": {
      "text/plain": [
       "Index(['price', 'bedrooms', 'bathrooms', 'sqft_lot', 'floors', 'waterfront',\n",
       "       'view', 'condition', 'grade', 'sqft_above', 'sqft_basement',\n",
       "       'yr_renovated', 'zipcode', 'lat', 'long', 'sqft_living15', 'sqft_lot15',\n",
       "       '98001', '98002', '98003', '98004', '98005', '98006', '98007', '98008',\n",
       "       '98010', '98011', '98014', '98019', '98022', '98023', '98024', '98027',\n",
       "       '98028', '98029', '98030', '98031', '98032', '98033', '98034', '98038',\n",
       "       '98039', '98040', '98042', '98045', '98052', '98053', '98055', '98056',\n",
       "       '98058', '98059', '98065', '98070', '98072', '98074', '98075', '98077',\n",
       "       '98092', '98102', '98103', '98105', '98106', '98107', '98108', '98109',\n",
       "       '98112', '98115', '98116', '98117', '98118', '98119', '98122', '98125',\n",
       "       '98126', '98133', '98136', '98144', '98146', '98148', '98155', '98166',\n",
       "       '98168', '98177', '98178', '98188', '98198', '98199',\n",
       "       'log_sqft_living'],\n",
       "      dtype='object')"
      ]
     },
     "execution_count": 44,
     "metadata": {},
     "output_type": "execute_result"
    }
   ],
   "source": [
    "KC_train.columns"
   ]
  },
  {
   "cell_type": "markdown",
   "metadata": {},
   "source": [
    "### Coefficients"
   ]
  },
  {
   "cell_type": "markdown",
   "metadata": {},
   "source": [
    "X_test_columns =KC_test.drop([\"price\"],axis=1)\n",
    "x = regressor.coef_\n",
    "coeff_dict = {}\n",
    "count = 0\n",
    "for i in X_test_columns.columns:\n",
    "    coeff_dict[i] = x[count]\n",
    "    count = count + 1\n",
    "df = pd.DataFrame(coeff_dict.items(),columns=['Attribute', 'Coefficient'])\n",
    "df"
   ]
  },
  {
   "cell_type": "code",
   "execution_count": 128,
   "metadata": {},
   "outputs": [],
   "source": [
    "removing_variable_list = ['price','zipcode','bedrooms', 'bathrooms', 'sqft_lot', 'floors',\n",
    "       'sqft_above', 'sqft_basement','sqft_living15', 'condition', 'yr_renovated',\n",
    "        'zipcode', 'lat', 'long', 'sqft_lot15']"
   ]
  },
  {
   "cell_type": "markdown",
   "metadata": {},
   "source": [
    "### Train fitting in single cell"
   ]
  },
  {
   "cell_type": "code",
   "execution_count": 129,
   "metadata": {
    "scrolled": true
   },
   "outputs": [
    {
     "name": "stdout",
     "output_type": "stream",
     "text": [
      "Train Results\n",
      "R squared 0.8709331414397495\n",
      "Adjusted R squared is 0.7566796902472808\n",
      "Mean Absolute Error: 73450.30741997383\n",
      "Mean Squared Error: 16360134129.365555\n",
      "Root Mean Squared Error: 127906.73996848468\n"
     ]
    }
   ],
   "source": [
    "KC_train = pd.read_csv(\"D:\\\\Praxis\\\\ML\\\\data\\\\kc-house-data\\\\wk3_kc_house_train_data.csv\")\n",
    "\n",
    "KC_train.loc[KC_train.bedrooms == 33, 'bedrooms'] = 3\n",
    "\n",
    "from sklearn.preprocessing import LabelBinarizer\n",
    "lb = LabelBinarizer()\n",
    "zip_dummies = lb.fit_transform(KC_train['zipcode'])\n",
    "# you need to convert this back to a dataframe\n",
    "zip_dum_df = pd.DataFrame(zip_dummies,columns=lb.classes_)\n",
    "\n",
    "for i in zip_dum_df.columns:\n",
    "    KC_train[str(i)] = zip_dum_df[i]\n",
    "\n",
    "#for i in KC_train.id:\n",
    "#    KC_train.loc[(KC_train['id']==i) & (KC_train['yr_renovated']==0),'yr_renovated'] = KC_train.loc[(KC_train['id']==i),'yr_built'].values[0]\n",
    "    \n",
    "#KC_train.loc[KC_train['yr_renovated'] == 0 , 'renovation_index'] = 1\n",
    "#KC_train.loc[KC_train['yr_renovated'] > 0 , 'renovation_index'] = 2\n",
    "#KC_train.loc[KC_train['yr_renovated'] > 1970 , 'renovation_index'] = 3\n",
    "#KC_train.loc[KC_train['yr_renovated'] > 1995 , 'renovation_index'] = 4 \n",
    "\n",
    "#KC_train.loc[KC_train['yr_renovated'] == 0 , 'yr_renovated'] = 1\n",
    "\n",
    "\n",
    "KC_train['log_sqft_living'] = np.log(KC_train['sqft_living'])\n",
    "\n",
    "#KC_train['log_sqft_living15'] = np.log(KC_train['sqft_living15'])\n",
    "\n",
    "\n",
    "KC_train=KC_train.drop([\"id\",\"date\",\"sqft_living\",\"yr_built\"],axis=1)\n",
    "\n",
    "Y_train = KC_train[\"price\"].values\n",
    "y_train = np.log(Y_train)\n",
    "\n",
    "X_train = KC_train[list(set(KC_train.columns) - set(removing_variable_list))].values\n",
    "\n",
    "X_train=StandardScaler().fit_transform(X_train)\n",
    "\n",
    "regressor = LinearRegression()\n",
    "model = regressor.fit(X_train,y_train)\n",
    "\n",
    "print(\"Train Results\")\n",
    "\n",
    "print(\"R squared\",regressor.score(X_train,y_train))\n",
    "\n",
    "R_sq = regressor.score(X_train,y_train)\n",
    "\n",
    "aj_rsq = 1 - ((1 - (R_sq*R_sq)) * ((X_train.shape[0] - 1)/(X_train.shape[0] - X_train.shape[1] - 1)))\n",
    "print(\"Adjusted R squared is {}\".format(aj_rsq))\n",
    "\n",
    "y_pred1 = regressor.predict(X_train)\n",
    "predictions2 = np.exp(y_pred1)\n",
    "\n",
    "print('Mean Absolute Error:', metrics.mean_absolute_error(KC_train[['price']].values, predictions1))\n",
    "print('Mean Squared Error:', metrics.mean_squared_error(KC_train[['price']].values, predictions1))\n",
    "print('Root Mean Squared Error:', np.sqrt(metrics.mean_squared_error(KC_train[['price']].values, predictions1)))"
   ]
  },
  {
   "cell_type": "markdown",
   "metadata": {},
   "source": [
    "### Using validation data"
   ]
  },
  {
   "cell_type": "code",
   "execution_count": 130,
   "metadata": {},
   "outputs": [
    {
     "name": "stdout",
     "output_type": "stream",
     "text": [
      "Validation Results\n",
      "R squared 0.8655035256086329\n",
      "Adjusted R squared is 0.7471277605680446\n",
      "Mean Absolute Error: 75923.8369324647\n",
      "Mean Squared Error: 16432644399.149004\n",
      "Root Mean Squared Error: 128189.87635203103\n"
     ]
    }
   ],
   "source": [
    "KC_valid = pd.read_csv(\"D:\\\\Praxis\\\\ML\\\\data\\\\kc-house-data\\\\wk3_kc_house_valid_data.csv\")\n",
    "\n",
    "from sklearn.preprocessing import LabelBinarizer\n",
    "lb = LabelBinarizer()\n",
    "zip_dummies = lb.fit_transform(KC_valid['zipcode'])\n",
    "# you need to convert this back to a dataframe\n",
    "zip_dum_df = pd.DataFrame(zip_dummies,columns=lb.classes_)\n",
    "\n",
    "for i in zip_dum_df.columns:\n",
    "    KC_valid[str(i)] = zip_dum_df[i]\n",
    "\n",
    "#KC_valid.loc[KC_valid['yr_renovated'] == 0 , 'renovation_index'] = 1\n",
    "#KC_valid.loc[KC_valid['yr_renovated'] > 0 , 'renovation_index'] = 2\n",
    "#KC_valid.loc[KC_valid['yr_renovated'] > 1970 , 'renovation_index'] = 3\n",
    "#KC_valid.loc[KC_valid['yr_renovated'] > 1995 , 'renovation_index'] = 4\n",
    "\n",
    "#for i in KC_valid.id:\n",
    "#    KC_valid.loc[(KC_valid['id']==i) & (KC_valid['yr_renovated']==0),'yr_renovated'] = KC_valid.loc[(KC_valid['id']==i),'yr_built'].values[0]\n",
    "        \n",
    "\n",
    "KC_valid['log_sqft_living'] = np.log(KC_valid['sqft_living'])\n",
    "\n",
    "KC_valid=KC_valid.drop([\"id\",\"date\",\"sqft_living\"],axis=1)\n",
    "\n",
    "Y_valid = KC_valid[\"price\"].values\n",
    "y_valid = np.log(Y_valid)\n",
    "\n",
    "X_valid = KC_valid[list(set(KC_valid.columns) - set(removing_variable_list))].values\n",
    "\n",
    "X_valid=StandardScaler().fit_transform(X_valid)\n",
    "\n",
    "regressor = LinearRegression()\n",
    "model = regressor.fit(X_valid,y_valid)\n",
    "\n",
    "print(\"Validation Results\")\n",
    "\n",
    "print(\"R squared\",regressor.score(X_valid,y_valid))\n",
    "\n",
    "R_sq = regressor.score(X_valid,y_valid)\n",
    "\n",
    "aj_rsq = 1 - ((1 - (R_sq*R_sq)) * ((X_valid.shape[0] - 1)/(X_valid.shape[0] - X_valid.shape[1] - 1)))\n",
    "print(\"Adjusted R squared is {}\".format(aj_rsq))\n",
    "\n",
    "y_pred2 = regressor.predict(X_valid)\n",
    "predictions2 = np.exp(y_pred2)\n",
    "\n",
    "\n",
    "print('Mean Absolute Error:', metrics.mean_absolute_error(KC_valid[['price']].values, predictions2))\n",
    "print('Mean Squared Error:', metrics.mean_squared_error(KC_valid[['price']].values, predictions2))\n",
    "print('Root Mean Squared Error:', np.sqrt(metrics.mean_squared_error(KC_valid[['price']].values, predictions2)))"
   ]
  },
  {
   "cell_type": "markdown",
   "metadata": {},
   "source": [
    "### Taking a sample of validation data and visualising results"
   ]
  },
  {
   "cell_type": "code",
   "execution_count": null,
   "metadata": {},
   "outputs": [],
   "source": [
    "df = pd.DataFrame({'Actual': KC_valid[['price']].values.flatten(), 'Predicted': predictions2.flatten()})\n",
    "df1 = df.sample(50)\n",
    "df1.plot(kind='bar',figsize=(16,10))\n",
    "plt.grid(which='major', linestyle='-', linewidth='0.5', color='green')\n",
    "plt.grid(which='minor', linestyle=':', linewidth='0.5', color='black')\n",
    "plt.show()"
   ]
  },
  {
   "cell_type": "markdown",
   "metadata": {},
   "source": [
    "### Using test data"
   ]
  },
  {
   "cell_type": "code",
   "execution_count": 132,
   "metadata": {},
   "outputs": [
    {
     "name": "stdout",
     "output_type": "stream",
     "text": [
      "valid Accuracy 0.8666598606945849\n",
      "Adjusted R squared is 0.7423802335975584\n",
      "Mean Absolute Error: 76996.36771941568\n",
      "Mean Squared Error: 16751031816.211279\n",
      "Root Mean Squared Error: 129425.77724785461\n"
     ]
    }
   ],
   "source": [
    "KC_test = pd.read_csv(\"D:\\\\Praxis\\\\ML\\\\data\\\\kc-house-data\\\\wk3_kc_house_test_data.csv\")\n",
    "\n",
    "from sklearn.preprocessing import LabelBinarizer\n",
    "lb = LabelBinarizer()\n",
    "zip_dummies = lb.fit_transform(KC_test['zipcode'])\n",
    "# you need to convert this back to a dataframe\n",
    "zip_dum_df = pd.DataFrame(zip_dummies,columns=lb.classes_)\n",
    "\n",
    "for i in zip_dum_df.columns:\n",
    "    KC_test[str(i)] = zip_dum_df[i]\n",
    "    \n",
    "#KC_test.loc[KC_test['yr_renovated'] == 0 , 'renovation_index'] = 1\n",
    "#KC_test.loc[KC_test['yr_renovated'] > 0 , 'renovation_index'] = 2\n",
    "#KC_test.loc[KC_test['yr_renovated'] > 1970 , 'renovation_index'] = 3\n",
    "#KC_test.loc[KC_test['yr_renovated'] > 1995 , 'renovation_index'] = 4    \n",
    "\n",
    "#for i in KC_test.id:\n",
    " #   KC_test.loc[(KC_test['id']==i) & (KC_test['yr_renovated']==0),'yr_renovated'] = KC_test.loc[(KC_test['id']==i),'yr_built'].values[0]\n",
    "        \n",
    "\n",
    "KC_test['log_sqft_living'] = np.log(KC_test['sqft_living'])    \n",
    "    \n",
    "KC_test=KC_test.drop([\"id\",\"date\",\"sqft_living\"],axis=1)\n",
    "\n",
    "Y_test = KC_test[\"price\"].values\n",
    "y_test = np.log(Y_test)\n",
    "\n",
    "X_test = KC_test[list(set(KC_test.columns) - set(removing_variable_list))].values\n",
    "\n",
    "X_test=StandardScaler().fit_transform(X_test)\n",
    "\n",
    "regressor = LinearRegression()\n",
    "model = regressor.fit(X_test,y_test)\n",
    "print(\"valid Accuracy\",regressor.score(X_test,y_test))\n",
    "\n",
    "R_sq = regressor.score(X_test,y_test)\n",
    "\n",
    "aj_rsq = 1 - ((1 - (R_sq*R_sq)) * ((X_test.shape[0] - 1)/(X_test.shape[0] - X_test.shape[1] - 1)))\n",
    "print(\"Adjusted R squared is {}\".format(aj_rsq))\n",
    "\n",
    "y_pred3 = regressor.predict(X_test)\n",
    "predictions3 = np.exp(y_pred3)\n",
    "\n",
    "print('Mean Absolute Error:', metrics.mean_absolute_error(KC_test[['price']].values, predictions3))\n",
    "print('Mean Squared Error:', metrics.mean_squared_error(KC_test[['price']].values, predictions3))\n",
    "print('Root Mean Squared Error:', np.sqrt(metrics.mean_squared_error(KC_test[['price']].values, predictions3)))"
   ]
  },
  {
   "cell_type": "markdown",
   "metadata": {},
   "source": [
    "### Taking a sample and visualising results"
   ]
  },
  {
   "cell_type": "code",
   "execution_count": 173,
   "metadata": {},
   "outputs": [
    {
     "data": {
      "image/png": "[encoded data removed]",
      "text/plain": [
       "<Figure size 1152x720 with 1 Axes>"
      ]
     },
     "metadata": {
      "needs_background": "light"
     },
     "output_type": "display_data"
    }
   ],
   "source": [
    "df = pd.DataFrame({'Actual': KC_test[['price']].values.flatten(), 'Predicted': predictions3.flatten()})\n",
    "df1 = df.sample(50)\n",
    "plt.rc('xtick', labelsize= 10)     \n",
    "df1.plot(kind='bar',figsize=(16,10),grid=False)\n",
    "plt.grid(which='major', linestyle='-', linewidth='0.5', color='green')\n",
    "plt.grid(which='minor', linestyle=':', linewidth='0.5', color='black')\n",
    "plt.grid(b=None)\n",
    "plt.show()"
   ]
  },
  {
   "cell_type": "code",
   "execution_count": 101,
   "metadata": {},
   "outputs": [
    {
     "data": {
      "text/html": [
       "<div>\n",
       "<style scoped>\n",
       "    .dataframe tbody tr th:only-of-type {\n",
       "        vertical-align: middle;\n",
       "    }\n",
       "\n",
       "    .dataframe tbody tr th {\n",
       "        vertical-align: top;\n",
       "    }\n",
       "\n",
       "    .dataframe thead th {\n",
       "        text-align: right;\n",
       "    }\n",
       "</style>\n",
       "<table border=\"1\" class=\"dataframe\">\n",
       "  <thead>\n",
       "    <tr style=\"text-align: right;\">\n",
       "      <th></th>\n",
       "      <th>Variable</th>\n",
       "      <th>R_squared</th>\n",
       "    </tr>\n",
       "  </thead>\n",
       "  <tbody>\n",
       "    <tr>\n",
       "      <th>0</th>\n",
       "      <td>log_sqft_living</td>\n",
       "      <td>0.47000</td>\n",
       "    </tr>\n",
       "    <tr>\n",
       "      <th>1</th>\n",
       "      <td>zipcodes</td>\n",
       "      <td>0.81000</td>\n",
       "    </tr>\n",
       "    <tr>\n",
       "      <th>2</th>\n",
       "      <td>grade</td>\n",
       "      <td>0.84000</td>\n",
       "    </tr>\n",
       "    <tr>\n",
       "      <th>3</th>\n",
       "      <td>waterfront</td>\n",
       "      <td>0.85832</td>\n",
       "    </tr>\n",
       "    <tr>\n",
       "      <th>4</th>\n",
       "      <td>view</td>\n",
       "      <td>0.86550</td>\n",
       "    </tr>\n",
       "    <tr>\n",
       "      <th>5</th>\n",
       "      <td>condition</td>\n",
       "      <td>0.86710</td>\n",
       "    </tr>\n",
       "    <tr>\n",
       "      <th>6</th>\n",
       "      <td>yr_renovated</td>\n",
       "      <td>0.86770</td>\n",
       "    </tr>\n",
       "  </tbody>\n",
       "</table>\n",
       "</div>"
      ],
      "text/plain": [
       "          Variable  R_squared\n",
       "0  log_sqft_living    0.47000\n",
       "1         zipcodes    0.81000\n",
       "2            grade    0.84000\n",
       "3       waterfront    0.85832\n",
       "4             view    0.86550\n",
       "5        condition    0.86710\n",
       "6     yr_renovated    0.86770"
      ]
     },
     "execution_count": 101,
     "metadata": {},
     "output_type": "execute_result"
    }
   ],
   "source": [
    "data = [['log_sqft_living', 0.47], \n",
    "        ['zipcodes', 0.81], \n",
    "        ['grade', 0.84],\n",
    "        ['waterfront', 0.85832],\n",
    "        ['view', 0.8655],\n",
    "        ['condition', 0.8671],\n",
    "        ['yr_renovated', 0.8677]\n",
    "       ] \n",
    "        \n",
    "df = pd.DataFrame(data, columns = ['Variable', 'R_squared'])\n",
    "df"
   ]
  },
  {
   "cell_type": "code",
   "execution_count": 119,
   "metadata": {},
   "outputs": [
    {
     "data": {
      "image/png": "[encoded data removed]",
      "text/plain": [
       "<Figure size 432x288 with 1 Axes>"
      ]
     },
     "metadata": {
      "needs_background": "light"
     },
     "output_type": "display_data"
    },
    {
     "data": {
      "text/plain": [
       "<Figure size 1440x1440 with 0 Axes>"
      ]
     },
     "metadata": {},
     "output_type": "display_data"
    }
   ],
   "source": [
    "plt.plot(df.Variable, df['R_squared'], color='green',label = 'R squared')\n",
    "plt.xlabel('Variables',fontsize = 10)\n",
    "plt.ylabel('R-squared')\n",
    "\n",
    "plt.rc('xtick', labelsize= 25)     \n",
    "\n",
    "plt.title('R-squared value for incremental variables')\n",
    "plt.legend(loc=\"upper left\")\n",
    "plt.figure(figsize=(20,20))\n",
    "plt.show()"
   ]
  },
  {
   "cell_type": "code",
   "execution_count": null,
   "metadata": {},
   "outputs": [],
   "source": []
  },
  {
   "cell_type": "code",
   "execution_count": null,
   "metadata": {},
   "outputs": [],
   "source": []
  },
  {
   "cell_type": "code",
   "execution_count": null,
   "metadata": {},
   "outputs": [],
   "source": []
  },
  {
   "cell_type": "code",
   "execution_count": null,
   "metadata": {},
   "outputs": [],
   "source": []
  },
  {
   "cell_type": "code",
   "execution_count": null,
   "metadata": {},
   "outputs": [],
   "source": []
  },
  {
   "cell_type": "code",
   "execution_count": null,
   "metadata": {},
   "outputs": [],
   "source": []
  },
  {
   "cell_type": "code",
   "execution_count": null,
   "metadata": {},
   "outputs": [],
   "source": []
  },
  {
   "cell_type": "code",
   "execution_count": null,
   "metadata": {},
   "outputs": [],
   "source": []
  },
  {
   "cell_type": "code",
   "execution_count": null,
   "metadata": {},
   "outputs": [],
   "source": []
  }
 ],
 "metadata": {
  "kernelspec": {
   "display_name": "Python 3",
   "language": "python",
   "name": "python3"
  },
  "language_info": {
   "codemirror_mode": {
    "name": "ipython",
    "version": 3
   },
   "file_extension": ".py",
   "mimetype": "text/x-python",
   "name": "python",
   "nbconvert_exporter": "python",
   "pygments_lexer": "ipython3",
   "version": "3.7.4"
  }
 },
 "nbformat": 4,
 "nbformat_minor": 2
}
