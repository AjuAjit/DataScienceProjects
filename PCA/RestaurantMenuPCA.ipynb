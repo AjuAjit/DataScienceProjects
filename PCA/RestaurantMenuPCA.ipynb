{
 "cells": [
  {
   "cell_type": "code",
   "execution_count": 26,
   "metadata": {},
   "outputs": [],
   "source": [
    "import pandas as pd\n",
    "import numpy as np\n",
    "import matplotlib.pyplot as plt"
   ]
  },
  {
   "cell_type": "markdown",
   "metadata": {},
   "source": [
    "# Extracting and standardising data"
   ]
  },
  {
   "cell_type": "code",
   "execution_count": 4,
   "metadata": {},
   "outputs": [],
   "source": [
    "menu = pd.read_csv(\"D:\\\\Praxis\\\\Linear Algebra\\\\menu.csv\")\n",
    "menu = menu.dropna()"
   ]
  },
  {
   "cell_type": "code",
   "execution_count": 5,
   "metadata": {},
   "outputs": [
    {
     "data": {
      "text/html": [
       "<div>\n",
       "<style scoped>\n",
       "    .dataframe tbody tr th:only-of-type {\n",
       "        vertical-align: middle;\n",
       "    }\n",
       "\n",
       "    .dataframe tbody tr th {\n",
       "        vertical-align: top;\n",
       "    }\n",
       "\n",
       "    .dataframe thead th {\n",
       "        text-align: right;\n",
       "    }\n",
       "</style>\n",
       "<table border=\"1\" class=\"dataframe\">\n",
       "  <thead>\n",
       "    <tr style=\"text-align: right;\">\n",
       "      <th></th>\n",
       "      <th>Category</th>\n",
       "      <th>Item</th>\n",
       "      <th>Serving Size</th>\n",
       "      <th>Calories</th>\n",
       "      <th>Calories from Fat</th>\n",
       "      <th>Total Fat</th>\n",
       "      <th>Total Fat (% Daily Value)</th>\n",
       "      <th>Saturated Fat</th>\n",
       "      <th>Saturated Fat (% Daily Value)</th>\n",
       "      <th>Trans Fat</th>\n",
       "      <th>...</th>\n",
       "      <th>Carbohydrates</th>\n",
       "      <th>Carbohydrates (% Daily Value)</th>\n",
       "      <th>Dietary Fiber</th>\n",
       "      <th>Dietary Fiber (% Daily Value)</th>\n",
       "      <th>Sugars</th>\n",
       "      <th>Protein</th>\n",
       "      <th>Vitamin A (% Daily Value)</th>\n",
       "      <th>Vitamin C (% Daily Value)</th>\n",
       "      <th>Calcium (% Daily Value)</th>\n",
       "      <th>Iron (% Daily Value)</th>\n",
       "    </tr>\n",
       "  </thead>\n",
       "  <tbody>\n",
       "    <tr>\n",
       "      <th>235</th>\n",
       "      <td>Smoothies &amp; Shakes</td>\n",
       "      <td>Strawberry Banana Smoothie (Small)</td>\n",
       "      <td>12 fl oz cup</td>\n",
       "      <td>210</td>\n",
       "      <td>5</td>\n",
       "      <td>0.5</td>\n",
       "      <td>1</td>\n",
       "      <td>0.0</td>\n",
       "      <td>0</td>\n",
       "      <td>0.0</td>\n",
       "      <td>...</td>\n",
       "      <td>47</td>\n",
       "      <td>16</td>\n",
       "      <td>3</td>\n",
       "      <td>10</td>\n",
       "      <td>44</td>\n",
       "      <td>3</td>\n",
       "      <td>0</td>\n",
       "      <td>30</td>\n",
       "      <td>8</td>\n",
       "      <td>2</td>\n",
       "    </tr>\n",
       "    <tr>\n",
       "      <th>236</th>\n",
       "      <td>Smoothies &amp; Shakes</td>\n",
       "      <td>Strawberry Banana Smoothie (Medium)</td>\n",
       "      <td>16 fl oz cup</td>\n",
       "      <td>250</td>\n",
       "      <td>5</td>\n",
       "      <td>1.0</td>\n",
       "      <td>1</td>\n",
       "      <td>0.0</td>\n",
       "      <td>0</td>\n",
       "      <td>0.0</td>\n",
       "      <td>...</td>\n",
       "      <td>58</td>\n",
       "      <td>19</td>\n",
       "      <td>3</td>\n",
       "      <td>13</td>\n",
       "      <td>54</td>\n",
       "      <td>4</td>\n",
       "      <td>0</td>\n",
       "      <td>35</td>\n",
       "      <td>8</td>\n",
       "      <td>4</td>\n",
       "    </tr>\n",
       "    <tr>\n",
       "      <th>35</th>\n",
       "      <td>Breakfast</td>\n",
       "      <td>Hotcakes</td>\n",
       "      <td>5.3 oz (151 g)</td>\n",
       "      <td>350</td>\n",
       "      <td>80</td>\n",
       "      <td>9.0</td>\n",
       "      <td>13</td>\n",
       "      <td>2.0</td>\n",
       "      <td>9</td>\n",
       "      <td>0.0</td>\n",
       "      <td>...</td>\n",
       "      <td>60</td>\n",
       "      <td>20</td>\n",
       "      <td>3</td>\n",
       "      <td>10</td>\n",
       "      <td>14</td>\n",
       "      <td>8</td>\n",
       "      <td>0</td>\n",
       "      <td>0</td>\n",
       "      <td>15</td>\n",
       "      <td>15</td>\n",
       "    </tr>\n",
       "  </tbody>\n",
       "</table>\n",
       "<p>3 rows × 24 columns</p>\n",
       "</div>"
      ],
      "text/plain": [
       "               Category                                 Item    Serving Size  \\\n",
       "235  Smoothies & Shakes   Strawberry Banana Smoothie (Small)    12 fl oz cup   \n",
       "236  Smoothies & Shakes  Strawberry Banana Smoothie (Medium)    16 fl oz cup   \n",
       "35            Breakfast                             Hotcakes  5.3 oz (151 g)   \n",
       "\n",
       "     Calories  Calories from Fat  Total Fat  Total Fat (% Daily Value)  \\\n",
       "235       210                  5        0.5                          1   \n",
       "236       250                  5        1.0                          1   \n",
       "35        350                 80        9.0                         13   \n",
       "\n",
       "     Saturated Fat  Saturated Fat (% Daily Value)  Trans Fat  ...  \\\n",
       "235            0.0                              0        0.0  ...   \n",
       "236            0.0                              0        0.0  ...   \n",
       "35             2.0                              9        0.0  ...   \n",
       "\n",
       "     Carbohydrates  Carbohydrates (% Daily Value)  Dietary Fiber  \\\n",
       "235             47                             16              3   \n",
       "236             58                             19              3   \n",
       "35              60                             20              3   \n",
       "\n",
       "     Dietary Fiber (% Daily Value)  Sugars  Protein  \\\n",
       "235                             10      44        3   \n",
       "236                             13      54        4   \n",
       "35                              10      14        8   \n",
       "\n",
       "     Vitamin A (% Daily Value)  Vitamin C (% Daily Value)  \\\n",
       "235                          0                         30   \n",
       "236                          0                         35   \n",
       "35                           0                          0   \n",
       "\n",
       "     Calcium (% Daily Value)  Iron (% Daily Value)  \n",
       "235                        8                     2  \n",
       "236                        8                     4  \n",
       "35                        15                    15  \n",
       "\n",
       "[3 rows x 24 columns]"
      ]
     },
     "execution_count": 5,
     "metadata": {},
     "output_type": "execute_result"
    }
   ],
   "source": [
    "menu.sample(3)"
   ]
  },
  {
   "cell_type": "code",
   "execution_count": 6,
   "metadata": {},
   "outputs": [
    {
     "data": {
      "text/plain": [
       "(260, 24)"
      ]
     },
     "execution_count": 6,
     "metadata": {},
     "output_type": "execute_result"
    }
   ],
   "source": [
    "menu.shape"
   ]
  },
  {
   "cell_type": "code",
   "execution_count": 7,
   "metadata": {},
   "outputs": [
    {
     "data": {
      "text/plain": [
       "Index(['Category', 'Item', 'Serving Size', 'Calories', 'Calories from Fat',\n",
       "       'Total Fat', 'Total Fat (% Daily Value)', 'Saturated Fat',\n",
       "       'Saturated Fat (% Daily Value)', 'Trans Fat', 'Cholesterol',\n",
       "       'Cholesterol (% Daily Value)', 'Sodium', 'Sodium (% Daily Value)',\n",
       "       'Carbohydrates', 'Carbohydrates (% Daily Value)', 'Dietary Fiber',\n",
       "       'Dietary Fiber (% Daily Value)', 'Sugars', 'Protein',\n",
       "       'Vitamin A (% Daily Value)', 'Vitamin C (% Daily Value)',\n",
       "       'Calcium (% Daily Value)', 'Iron (% Daily Value)'],\n",
       "      dtype='object')"
      ]
     },
     "execution_count": 7,
     "metadata": {},
     "output_type": "execute_result"
    }
   ],
   "source": [
    "menu.columns"
   ]
  },
  {
   "cell_type": "code",
   "execution_count": 8,
   "metadata": {},
   "outputs": [],
   "source": [
    "X = menu[['Calories', 'Calories from Fat',\n",
    "       'Total Fat', 'Total Fat (% Daily Value)', 'Saturated Fat',\n",
    "       'Saturated Fat (% Daily Value)', 'Trans Fat', 'Cholesterol',\n",
    "       'Cholesterol (% Daily Value)', 'Sodium', 'Sodium (% Daily Value)',\n",
    "       'Carbohydrates', 'Carbohydrates (% Daily Value)', 'Dietary Fiber',\n",
    "       'Dietary Fiber (% Daily Value)', 'Sugars', 'Protein',\n",
    "       'Vitamin A (% Daily Value)', 'Vitamin C (% Daily Value)',\n",
    "       'Calcium (% Daily Value)', 'Iron (% Daily Value)']]"
   ]
  },
  {
   "cell_type": "code",
   "execution_count": 9,
   "metadata": {},
   "outputs": [],
   "source": [
    "y = menu[['Item']]"
   ]
  },
  {
   "cell_type": "code",
   "execution_count": 10,
   "metadata": {},
   "outputs": [],
   "source": [
    "from sklearn.preprocessing import StandardScaler\n",
    "X_std = StandardScaler().fit_transform(X)"
   ]
  },
  {
   "cell_type": "markdown",
   "metadata": {},
   "source": [
    "## Finding covariance matrix and eigen vectors"
   ]
  },
  {
   "cell_type": "code",
   "execution_count": 11,
   "metadata": {},
   "outputs": [
    {
     "name": "stdout",
     "output_type": "stream",
     "text": [
      "[[ 1.003861    0.90808042  0.90790108  0.90761337  0.84882836  0.85090348\n",
      "   0.52445806  0.59870186  0.59750579  0.71505892  0.71616946  0.78455699\n",
      "   0.78425841  0.54097418  0.54209918  0.26060043  0.79088933  0.10926429\n",
      "  -0.06901247  0.43008062  0.64603636]\n",
      " [ 0.90808042  1.003861    1.0035232   1.0035852   0.85027789  0.85287224\n",
      "   0.4353606   0.68479493  0.68423868  0.84989323  0.85054769  0.46345477\n",
      "   0.46324478  0.58351809  0.57784305 -0.11572981  0.81103262  0.05694976\n",
      "  -0.08766792  0.16165584  0.7387356 ]\n",
      " [ 0.90790108  1.0035232   1.003861    1.00362483  0.84997638  0.85257191\n",
      "   0.43311874  0.68317496  0.68262518  0.84942544  0.85004964  0.46299421\n",
      "   0.46278473  0.58307987  0.57742721 -0.11589146  0.81089177  0.05464413\n",
      "  -0.08969897  0.16348832  0.73752113]\n",
      " [ 0.90761337  1.0035852   1.00362483  1.003861    0.85065099  0.85325476\n",
      "   0.43468762  0.68356864  0.68300504  0.84999714  0.85063986  0.46229431\n",
      "   0.46207563  0.58283346  0.57725321 -0.11620818  0.8110416   0.05424683\n",
      "  -0.08969757  0.16265649  0.73831723]\n",
      " [ 0.84882836  0.85027789  0.84997638  0.85065099  1.003861    1.00313684\n",
      "   0.62300679  0.63364757  0.63276778  0.58633038  0.58758336  0.59354349\n",
      "   0.59402779  0.35317621  0.34849207  0.19849707  0.60535584  0.0652232\n",
      "  -0.18036572  0.40486795  0.58029428]\n",
      " [ 0.85090348  0.85287224  0.85257191  0.85325476  1.00313684  1.003861\n",
      "   0.62260488  0.63604942  0.6351545   0.59096658  0.59223625  0.59360511\n",
      "   0.593939    0.3582084   0.35315569  0.19668447  0.60892347  0.0656285\n",
      "  -0.17874624  0.40268748  0.58272913]\n",
      " [ 0.52445806  0.4353606   0.43311874  0.43468762  0.62300679  0.62260488\n",
      "   1.003861    0.25491496  0.25247309  0.18830465  0.1890658   0.46503851\n",
      "   0.46467871  0.05513043  0.05852639  0.33604828  0.38974753  0.07612626\n",
      "  -0.07690794  0.38681887  0.32673255]\n",
      " [ 0.59870186  0.68479493  0.68317496  0.68356864  0.63364757  0.63604942\n",
      "   0.25491496  1.003861    1.0037158   0.62677252  0.62715499  0.27202372\n",
      "   0.27371442  0.43725656  0.44196633 -0.13604155  0.5637296   0.08054884\n",
      "  -0.08329859  0.13258669  0.6575285 ]\n",
      " [ 0.59750579  0.68423868  0.68262518  0.68300504  0.63276778  0.6351545\n",
      "   0.25247309  1.0037158   1.003861    0.62572637  0.62612864  0.27033953\n",
      "   0.27203872  0.43661959  0.44151233 -0.13698624  0.5631228   0.08036853\n",
      "  -0.08363638  0.13289282  0.65568938]\n",
      " [ 0.71505892  0.84989323  0.84942544  0.84999714  0.58633038  0.59096658\n",
      "   0.18830465  0.62677252  0.62572637  1.003861    1.00378933  0.20157089\n",
      "   0.20180827  0.6970705   0.69265918 -0.42818239  0.87315987  0.08338883\n",
      "  -0.03088814 -0.02416672  0.8749579 ]\n",
      " [ 0.71616946  0.85054769  0.85004964  0.85063986  0.58758336  0.59223625\n",
      "   0.1890658   0.62715499  0.62612864  1.00378933  1.003861    0.20320805\n",
      "   0.20344551  0.69659251  0.69212628 -0.42658373  0.87322856  0.08358026\n",
      "  -0.03106471 -0.02223047  0.87410393]\n",
      " [ 0.78455699  0.46345477  0.46299421  0.46229431  0.59354349  0.59360511\n",
      "   0.46503851  0.27202372  0.27033953  0.20157089  0.20320805  1.003861\n",
      "   1.00347994  0.22544372  0.229138    0.76530563  0.35348178  0.08412527\n",
      "  -0.03485837  0.59197557  0.21105268]\n",
      " [ 0.78425841  0.46324478  0.46278473  0.46207563  0.59402779  0.593939\n",
      "   0.46467871  0.27371442  0.27203872  0.20180827  0.20344551  1.00347994\n",
      "   1.003861    0.2249229   0.22816252  0.76522516  0.35353782  0.0836977\n",
      "  -0.03558696  0.59254236  0.21145667]\n",
      " [ 0.54097418  0.58351809  0.58307987  0.58283346  0.35317621  0.3582084\n",
      "   0.05513043  0.43725656  0.43661959  0.6970705   0.69659251  0.22544372\n",
      "   0.2249229   1.003861    0.99015859 -0.29631811  0.64382107  0.34183311\n",
      "   0.14248304  0.02882193  0.74326977]\n",
      " [ 0.54209918  0.57784305  0.57742721  0.57725321  0.34849207  0.35315569\n",
      "   0.05852639  0.44196633  0.44151233  0.69265918  0.69212628  0.229138\n",
      "   0.22816252  0.99015859  1.003861   -0.28812205  0.65918357  0.36277575\n",
      "   0.15059773  0.05256119  0.74066268]\n",
      " [ 0.26060043 -0.11572981 -0.11589146 -0.11620818  0.19849707  0.19668447\n",
      "   0.33604828 -0.13604155 -0.13698624 -0.42818239 -0.42658373  0.76530563\n",
      "   0.76522516 -0.29631811 -0.28812205  1.003861   -0.1806344   0.04867492\n",
      "  -0.07011666  0.60240987 -0.36617545]\n",
      " [ 0.79088933  0.81103262  0.81089177  0.8110416   0.60535584  0.60892347\n",
      "   0.38974753  0.5637296   0.5631228   0.87315987  0.87322856  0.35348178\n",
      "   0.35353782  0.64382107  0.65918357 -0.1806344   1.003861    0.21492462\n",
      "  -0.04595355  0.32923738  0.79578015]\n",
      " [ 0.10926429  0.05694976  0.05464413  0.05424683  0.0652232   0.0656285\n",
      "   0.07612626  0.08054884  0.08036853  0.08338883  0.08358026  0.08412527\n",
      "   0.0836977   0.34183311  0.36277575  0.04867492  0.21492462  1.003861\n",
      "   0.06943818  0.1798818   0.13841137]\n",
      " [-0.06901247 -0.08766792 -0.08969897 -0.08969757 -0.18036572 -0.17874624\n",
      "  -0.07690794 -0.08329859 -0.08363638 -0.03088814 -0.03106471 -0.03485837\n",
      "  -0.03558696  0.14248304  0.15059773 -0.07011666 -0.04595355  0.06943818\n",
      "   1.003861   -0.21621139  0.00129673]\n",
      " [ 0.43008062  0.16165584  0.16348832  0.16265649  0.40486795  0.40268748\n",
      "   0.38681887  0.13258669  0.13289282 -0.02416672 -0.02223047  0.59197557\n",
      "   0.59254236  0.02882193  0.05256119  0.60240987  0.32923738  0.1798818\n",
      "  -0.21621139  1.003861    0.03428059]\n",
      " [ 0.64603636  0.7387356   0.73752113  0.73831723  0.58029428  0.58272913\n",
      "   0.32673255  0.6575285   0.65568938  0.8749579   0.87410393  0.21105268\n",
      "   0.21145667  0.74326977  0.74066268 -0.36617545  0.79578015  0.13841137\n",
      "   0.00129673  0.03428059  1.003861  ]]\n"
     ]
    }
   ],
   "source": [
    "features = X_std.T\n",
    "covariance_mat = np.cov(features)\n",
    "print(covariance_mat)"
   ]
  },
  {
   "cell_type": "code",
   "execution_count": 12,
   "metadata": {},
   "outputs": [],
   "source": [
    "eig_vals, eig_vecs = np.linalg.eig(covariance_mat)"
   ]
  },
  {
   "cell_type": "code",
   "execution_count": 13,
   "metadata": {},
   "outputs": [
    {
     "name": "stdout",
     "output_type": "stream",
     "text": [
      "[1.10691654e+01 3.81048476e+00 1.67347031e+00 1.04196430e+00\n",
      " 9.28736070e-01 8.24553303e-01 5.58814435e-01 4.63249865e-01\n",
      " 3.61625081e-01 1.97287081e-01 6.72603511e-02 5.00278602e-02\n",
      " 2.00448945e-02 1.22695981e-02 6.98089881e-04 4.63678553e-04\n",
      " 3.27804753e-04 6.24488636e-05 2.35222475e-04 2.05465754e-04\n",
      " 1.35067725e-04]\n"
     ]
    }
   ],
   "source": [
    "print(eig_vals)"
   ]
  },
  {
   "cell_type": "code",
   "execution_count": 14,
   "metadata": {},
   "outputs": [
    {
     "name": "stdout",
     "output_type": "stream",
     "text": [
      "[[ 2.81579376e-01  1.48339075e-01  4.30937147e-02 -1.24839693e-01\n",
      "  -7.08517197e-02  7.27247890e-02  6.31658611e-02  1.00631836e-01\n",
      "   7.91999295e-02 -1.26178928e-01  1.23343056e-01  1.47250220e-02\n",
      "   1.26881598e-01  5.20237172e-02 -1.94062208e-01  5.96177066e-01\n",
      "   6.99266990e-02 -4.26309208e-02  5.08952444e-01 -3.75699210e-01\n",
      "   2.08482436e-02]\n",
      " [ 2.87752271e-01 -2.56869323e-02 -1.13648849e-01 -1.05442407e-01\n",
      "  -7.82742697e-02 -3.49858773e-02  1.89211497e-01  1.22216141e-01\n",
      "  -8.81325381e-02 -2.36182270e-01  2.25098776e-01  3.65756918e-02\n",
      "  -1.49920748e-01 -3.42953908e-02  6.09689951e-02 -2.13445367e-01\n",
      "  -7.57110551e-01  3.56592633e-02 -8.63214996e-02 -2.48805860e-01\n",
      "   4.56845406e-02]\n",
      " [ 2.87565408e-01 -2.55340254e-02 -1.14363900e-01 -1.05378200e-01\n",
      "  -8.12328585e-02 -3.18448979e-02  1.88263974e-01  1.24182337e-01\n",
      "  -9.39422520e-02 -2.37630234e-01  2.30660039e-01  3.56760609e-02\n",
      "  -1.52800789e-01 -3.77109565e-02  1.92874104e-02 -7.74692017e-02\n",
      "   5.84753271e-01 -4.61064132e-02 -4.94589025e-01 -3.07236790e-01\n",
      "  -2.07457514e-03]\n",
      " [ 2.87639469e-01 -2.57456499e-02 -1.15166871e-01 -1.05416677e-01\n",
      "  -8.11639756e-02 -3.36314332e-02  1.87546588e-01  1.22253764e-01\n",
      "  -9.27064723e-02 -2.35063940e-01  2.22551109e-01  3.10948305e-02\n",
      "  -1.64593016e-01 -4.74543022e-02  2.63228829e-02 -3.08588046e-02\n",
      "   1.30701293e-01  3.35048703e-02  3.15350723e-01  7.54069955e-01\n",
      "  -5.27247699e-02]\n",
      " [ 2.58268107e-01  1.56517770e-01 -1.85484382e-01  2.78996030e-02\n",
      "   1.68466573e-02 -1.77542488e-01  1.68427731e-01 -4.87947190e-02\n",
      "  -3.47679483e-01  3.41705625e-01 -1.69392643e-01 -1.37369314e-01\n",
      "   1.75330998e-01  2.49450756e-02  6.55159240e-01  2.50346012e-01\n",
      "  -1.82378935e-02 -8.75612659e-03 -4.51485428e-02  1.15375208e-02\n",
      "   2.05868796e-03]\n",
      " [ 2.59134558e-01  1.54755622e-01 -1.83785437e-01  2.63610989e-02\n",
      "   1.70774098e-02 -1.75950377e-01  1.68123392e-01 -4.93865135e-02\n",
      "  -3.44585864e-01  3.34932796e-01 -1.93504304e-01 -1.43232397e-01\n",
      "   1.34365314e-01  3.47633916e-02 -6.61215844e-01 -2.55177730e-01\n",
      "   1.79154068e-02  8.14545862e-03  3.93669135e-02 -8.51664827e-03\n",
      "  -5.31680416e-04]\n",
      " [ 1.44571432e-01  2.37709646e-01 -1.17104202e-01  1.96333386e-02\n",
      "  -9.74777944e-02 -6.58577824e-01 -2.47797627e-01 -4.42637663e-01\n",
      "   2.53367164e-01 -2.80811830e-01 -1.54638414e-01  1.92606012e-01\n",
      "  -5.81492893e-02 -2.12473945e-02  3.87257055e-03  2.59971064e-03\n",
      "   2.97404051e-03  1.27197302e-03  3.47109023e-04 -2.26990904e-03\n",
      "  -2.30774322e-03]\n",
      " [ 2.26293175e-01 -6.61538973e-02 -1.85027641e-01  2.09038426e-01\n",
      "   5.60995878e-01  1.29769511e-01 -9.82301764e-02 -2.25693371e-02\n",
      "   9.05510789e-02 -1.12074070e-01 -5.48918429e-02  1.31409228e-02\n",
      "   5.89987490e-03  1.12776683e-02 -5.50094607e-03  9.93527416e-03\n",
      "   1.93521680e-02 -9.49291014e-02 -7.48935740e-03  5.39459552e-02\n",
      "   6.98697768e-01]\n",
      " [ 2.25974064e-01 -6.65587685e-02 -1.85449987e-01  2.10066648e-01\n",
      "   5.61578293e-01  1.31083235e-01 -9.78030328e-02 -1.95619949e-02\n",
      "   8.61767222e-02 -1.16164963e-01 -5.42753596e-02  9.18117863e-03\n",
      "   1.37882751e-02  7.07667952e-03  6.24348389e-03 -3.40315754e-03\n",
      "  -1.68618020e-02  9.50057082e-02  8.74635956e-03 -5.42643748e-02\n",
      "  -6.97790613e-01]\n",
      " [ 2.59847169e-01 -2.12173810e-01 -1.66409170e-02 -6.68005963e-02\n",
      "  -1.55944847e-01  7.19840621e-02 -6.22421032e-02  1.68601799e-01\n",
      "   2.14694046e-01  2.15472581e-01 -3.59114297e-01  2.01796436e-01\n",
      "  -2.22925555e-01 -6.48482118e-02  1.31203602e-02  2.55715189e-02\n",
      "   4.48594192e-02  7.01120333e-01  4.12036421e-03 -3.86503612e-02\n",
      "   9.43103039e-02]\n",
      " [ 2.60038402e-01 -2.11203869e-01 -1.67655069e-02 -6.66917344e-02\n",
      "  -1.55708782e-01  7.21198034e-02 -6.19978394e-02  1.70385717e-01\n",
      "   2.13399030e-01  2.15149675e-01 -3.64577382e-01  2.10384453e-01\n",
      "  -2.28363513e-01 -6.36996950e-02  5.96738177e-03 -1.09457156e-02\n",
      "  -4.29364132e-02 -6.95095571e-01 -3.07729655e-03  2.64302610e-02\n",
      "  -9.82006858e-02]\n",
      " [ 1.66597304e-01  3.77761519e-01  1.82198779e-01 -1.71182098e-01\n",
      "   3.44563933e-02  2.20675625e-01  7.36448624e-02 -5.62231878e-02\n",
      "   2.13524665e-01  6.95502440e-02  2.40450526e-02  2.01451090e-01\n",
      "   2.59629822e-01  2.16060541e-02 -1.70310175e-01  3.05909363e-01\n",
      "  -1.83816352e-01  2.60542203e-02 -5.37409704e-01  3.20151917e-01\n",
      "  -2.73364628e-02]\n",
      " [ 1.66655034e-01  3.77795051e-01  1.81201627e-01 -1.70040674e-01\n",
      "   3.61034608e-02  2.21665687e-01  7.22619875e-02 -5.55784476e-02\n",
      "   2.14329913e-01  7.27335235e-02  2.18645113e-02  2.03218645e-01\n",
      "   2.62992885e-01  5.11667526e-02  2.45652018e-01 -5.97101857e-01\n",
      "   1.53967633e-01 -4.88080416e-03  2.94591401e-01 -1.28689721e-01\n",
      "   1.61883671e-02]\n",
      " [ 2.04387420e-01 -1.98551489e-01  4.05027094e-01  1.41019602e-02\n",
      "  -3.00081170e-02  1.40376653e-01  2.18369789e-02 -3.76639278e-01\n",
      "  -2.48231753e-01 -1.36594118e-01 -1.31966058e-01  6.53383406e-03\n",
      "  -1.77349889e-01  6.79569690e-01  1.17891763e-02  3.34630494e-03\n",
      "  -2.97892543e-03  2.69718423e-03 -1.56626421e-02  1.38145721e-02\n",
      "  -3.47260188e-03]\n",
      " [ 2.04444035e-01 -1.94773210e-01  4.18103566e-01  3.16335700e-02\n",
      "  -2.06971668e-02  1.31877546e-01 -6.93408334e-03 -3.43002952e-01\n",
      "  -2.40594700e-01 -1.61776037e-01 -1.27902271e-01 -7.94393010e-02\n",
      "   1.27303143e-01 -6.96669691e-01 -3.81216439e-03  5.79240474e-04\n",
      "   2.47109842e-03 -3.04699910e-03  1.72778746e-02 -1.74543040e-02\n",
      "   4.52971148e-03]\n",
      " [-1.04927801e-02  4.90965627e-01  1.35257691e-01 -4.03139720e-02\n",
      "   9.82933384e-02  1.16259754e-01  5.80750480e-02 -3.78052127e-02\n",
      "   1.32231542e-01  2.62656799e-02 -1.31876090e-01 -5.19880469e-01\n",
      "  -6.26711528e-01 -1.06051805e-01  1.68836701e-02  1.89792225e-02\n",
      "  -3.91357624e-04 -1.47978777e-03  8.93496306e-03 -1.89190436e-02\n",
      "  -1.08069534e-03]\n",
      " [ 2.60996366e-01 -7.78755968e-02  9.29330058e-02  7.09051411e-02\n",
      "  -2.25859152e-01 -5.38071343e-02 -3.52585599e-01  3.08018405e-01\n",
      "   1.96222230e-01 -2.03478491e-01 -1.01132410e-01 -5.99883131e-01\n",
      "   3.75925686e-01  1.36243368e-01  3.12639244e-02 -1.13199199e-01\n",
      "  -1.28717991e-02  3.28661725e-03 -9.72680644e-02  7.58010387e-02\n",
      "  -1.13043425e-03]\n",
      " [ 4.76454145e-02 -1.17861087e-02  4.83215170e-01  5.41035729e-01\n",
      "   1.00655224e-01 -3.78491629e-01  4.29423201e-01  2.75711226e-01\n",
      "   2.01416229e-01  8.49031667e-02  6.64714365e-02  7.28452854e-02\n",
      "  -1.46801777e-03  7.12366458e-03 -1.89400550e-03 -1.49507140e-04\n",
      "   2.19117415e-03  4.14005550e-04  5.52067075e-04  1.43663997e-03\n",
      "  -5.50720028e-04]\n",
      " [-2.31189473e-02 -8.71057743e-02  3.46545626e-01 -6.12927145e-01\n",
      "   4.48896164e-01 -3.85913050e-01 -1.90265748e-01  2.82462289e-01\n",
      "  -1.52357355e-01  7.31354205e-02  5.11316474e-03  1.22572395e-02\n",
      "  -3.02605099e-02  1.78000589e-03  1.78698956e-03 -2.89642025e-03\n",
      "   5.25238620e-04  6.95158363e-04 -2.84338141e-03  2.15236958e-03\n",
      "  -1.73308341e-04]\n",
      " [ 8.84202451e-02  3.46713304e-01  1.41233676e-01  3.42205720e-01\n",
      "  -1.01872944e-01  6.87558951e-02 -5.64048143e-01  2.93755010e-01\n",
      "  -4.28969023e-01  8.62152984e-03  1.11450569e-01  3.05414145e-01\n",
      "  -1.56500554e-01 -3.16072811e-02  1.65356848e-03 -6.25645708e-03\n",
      "  -3.92891350e-03  3.40592997e-03 -4.12226587e-03  2.58212847e-03\n",
      "   6.74269352e-04]\n",
      " [ 2.49723583e-01 -1.86537436e-01  4.94734643e-02  3.02031922e-02\n",
      "  -2.06887797e-02 -4.97693033e-02 -2.58857732e-01 -2.85157623e-01\n",
      "   2.06512688e-01  5.29453520e-01  6.27837032e-01 -1.31828680e-01\n",
      "  -1.14057951e-01 -2.47035987e-02 -7.05230518e-03 -6.01279600e-03\n",
      "  -1.29703206e-03 -2.89205390e-03 -9.51220823e-04  9.62348688e-04\n",
      "  -3.30851496e-03]]\n"
     ]
    }
   ],
   "source": [
    "print(eig_vecs)"
   ]
  },
  {
   "cell_type": "markdown",
   "metadata": {},
   "source": [
    "## Finding variation explained by PCs and projecting points onto them"
   ]
  },
  {
   "cell_type": "code",
   "execution_count": 16,
   "metadata": {},
   "outputs": [
    {
     "name": "stdout",
     "output_type": "stream",
     "text": [
      "0.5250757941238773\n",
      "0.18075376437118515\n",
      "0.07938256600809758\n",
      "0.04942651173113437\n",
      "0.04405542896625522\n",
      "0.039113425898061785\n",
      "0.02650786424247122\n",
      "0.021974673084218396\n",
      "0.017154010276105646\n",
      "0.009358489724647027\n",
      "0.0031905551155669626\n",
      "0.002373116446507023\n",
      "0.0009508475573772836\n",
      "0.0005820193952765757\n",
      "3.3114520005006064e-05\n",
      "2.199500826379102e-05\n",
      "1.554971264480632e-05\n",
      "2.9623178870184583e-06\n",
      "1.1157989215465883e-05\n",
      "9.746452434980905e-06\n",
      "6.4070587673246915e-06\n"
     ]
    }
   ],
   "source": [
    "per = []\n",
    "for i in eig_vals:\n",
    "    print(i/sum(eig_vals))\n",
    "    per.append(i/sum(eig_vals))"
   ]
  },
  {
   "cell_type": "code",
   "execution_count": 21,
   "metadata": {},
   "outputs": [
    {
     "data": {
      "text/plain": [
       "0.9443153553410826"
      ]
     },
     "execution_count": 21,
     "metadata": {},
     "output_type": "execute_result"
    }
   ],
   "source": [
    "sum(per[0:7])"
   ]
  },
  {
   "cell_type": "markdown",
   "metadata": {},
   "source": [
    "### We are able to explain 94 % of the variation if we take first 7 eigen vectors"
   ]
  },
  {
   "cell_type": "code",
   "execution_count": 22,
   "metadata": {},
   "outputs": [
    {
     "data": {
      "text/plain": [
       "(7, 21)"
      ]
     },
     "execution_count": 22,
     "metadata": {},
     "output_type": "execute_result"
    }
   ],
   "source": [
    "eig_vecs1 = eig_vecs[0:7,:]\n",
    "eig_vecs1.shape"
   ]
  },
  {
   "cell_type": "code",
   "execution_count": 23,
   "metadata": {},
   "outputs": [],
   "source": [
    "projected_X = X_std.dot(eig_vecs1.T)"
   ]
  },
  {
   "cell_type": "code",
   "execution_count": 24,
   "metadata": {},
   "outputs": [
    {
     "data": {
      "text/plain": [
       "array([[-0.77960587,  0.0175539 ,  0.33417602, ..., -0.0953406 ,\n",
       "        -1.80746492, -0.52670803],\n",
       "       [-1.3569503 , -0.11010253,  0.38688701, ...,  0.99059205,\n",
       "        -0.72712385,  0.15228997],\n",
       "       [-1.14310021, -0.03550347, -0.03255005, ...,  0.85409032,\n",
       "        -0.85750574, -0.45726746],\n",
       "       ...,\n",
       "       [ 0.01722934,  0.08139836, -0.31241631, ..., -0.38988044,\n",
       "         0.26785252,  0.40203284],\n",
       "       [ 1.54303605, -1.46852834, -0.26104102, ...,  1.48163494,\n",
       "        -0.47957979, -0.94093593],\n",
       "       [ 0.11209639, -0.22967837, -0.37718666, ...,  0.01292487,\n",
       "        -0.10192083,  0.2715638 ]])"
      ]
     },
     "execution_count": 24,
     "metadata": {},
     "output_type": "execute_result"
    }
   ],
   "source": [
    "projected_X"
   ]
  },
  {
   "cell_type": "code",
   "execution_count": 39,
   "metadata": {},
   "outputs": [
    {
     "data": {
      "image/png": "[encoded data removed]",
      "text/plain": [
       "<Figure size 432x288 with 1 Axes>"
      ]
     },
     "metadata": {
      "needs_background": "light"
     },
     "output_type": "display_data"
    }
   ],
   "source": [
    "percent_variance = []\n",
    "for i in range(0,7):\n",
    "    percent_variance.append(np.round(per[i]* 100, decimals =2))\n",
    "columns = ['PC1','PC2','PC3','PC4','PC5','PC6','PC7']\n",
    "plt.bar(x= range(1,8), height=percent_variance, tick_label=columns)\n",
    "plt.ylabel('Percentate of Variance Explained')\n",
    "plt.xlabel('Principal Component')\n",
    "plt.title('PCA Scree Plot')\n",
    "plt.show()"
   ]
  },
  {
   "cell_type": "code",
   "execution_count": 50,
   "metadata": {},
   "outputs": [],
   "source": [
    "result = pd.DataFrame(projected_X[:,0:7], columns = ['PC1','PC2','PC3','PC4','PC5','PC6','PC7'])\n",
    "result['Item'] = y\n",
    "result['Category'] = menu['Category']\n",
    "result['Serving Size'] = menu['Serving Size']"
   ]
  },
  {
   "cell_type": "code",
   "execution_count": 53,
   "metadata": {},
   "outputs": [
    {
     "data": {
      "text/html": [
       "<div>\n",
       "<style scoped>\n",
       "    .dataframe tbody tr th:only-of-type {\n",
       "        vertical-align: middle;\n",
       "    }\n",
       "\n",
       "    .dataframe tbody tr th {\n",
       "        vertical-align: top;\n",
       "    }\n",
       "\n",
       "    .dataframe thead th {\n",
       "        text-align: right;\n",
       "    }\n",
       "</style>\n",
       "<table border=\"1\" class=\"dataframe\">\n",
       "  <thead>\n",
       "    <tr style=\"text-align: right;\">\n",
       "      <th></th>\n",
       "      <th>PC1</th>\n",
       "      <th>PC2</th>\n",
       "      <th>PC3</th>\n",
       "      <th>PC4</th>\n",
       "      <th>PC5</th>\n",
       "      <th>PC6</th>\n",
       "      <th>PC7</th>\n",
       "      <th>Item</th>\n",
       "      <th>Category</th>\n",
       "      <th>Serving Size</th>\n",
       "    </tr>\n",
       "  </thead>\n",
       "  <tbody>\n",
       "    <tr>\n",
       "      <th>0</th>\n",
       "      <td>-0.779606</td>\n",
       "      <td>0.017554</td>\n",
       "      <td>0.334176</td>\n",
       "      <td>0.084186</td>\n",
       "      <td>-0.095341</td>\n",
       "      <td>-1.807465</td>\n",
       "      <td>-0.526708</td>\n",
       "      <td>Egg McMuffin</td>\n",
       "      <td>Breakfast</td>\n",
       "      <td>4.8 oz (136 g)</td>\n",
       "    </tr>\n",
       "    <tr>\n",
       "      <th>1</th>\n",
       "      <td>-1.356950</td>\n",
       "      <td>-0.110103</td>\n",
       "      <td>0.386887</td>\n",
       "      <td>0.127476</td>\n",
       "      <td>0.990592</td>\n",
       "      <td>-0.727124</td>\n",
       "      <td>0.152290</td>\n",
       "      <td>Egg White Delight</td>\n",
       "      <td>Breakfast</td>\n",
       "      <td>4.8 oz (135 g)</td>\n",
       "    </tr>\n",
       "    <tr>\n",
       "      <th>2</th>\n",
       "      <td>-1.143100</td>\n",
       "      <td>-0.035503</td>\n",
       "      <td>-0.032550</td>\n",
       "      <td>-0.142512</td>\n",
       "      <td>0.854090</td>\n",
       "      <td>-0.857506</td>\n",
       "      <td>-0.457267</td>\n",
       "      <td>Sausage McMuffin</td>\n",
       "      <td>Breakfast</td>\n",
       "      <td>3.9 oz (111 g)</td>\n",
       "    </tr>\n",
       "    <tr>\n",
       "      <th>3</th>\n",
       "      <td>-0.594946</td>\n",
       "      <td>-0.481786</td>\n",
       "      <td>0.266368</td>\n",
       "      <td>0.180184</td>\n",
       "      <td>-0.194172</td>\n",
       "      <td>-1.883053</td>\n",
       "      <td>-1.207302</td>\n",
       "      <td>Sausage McMuffin with Egg</td>\n",
       "      <td>Breakfast</td>\n",
       "      <td>5.7 oz (161 g)</td>\n",
       "    </tr>\n",
       "    <tr>\n",
       "      <th>4</th>\n",
       "      <td>-1.042140</td>\n",
       "      <td>-0.467372</td>\n",
       "      <td>0.366502</td>\n",
       "      <td>-0.029854</td>\n",
       "      <td>0.899629</td>\n",
       "      <td>-0.796527</td>\n",
       "      <td>-0.503233</td>\n",
       "      <td>Sausage McMuffin with Egg Whites</td>\n",
       "      <td>Breakfast</td>\n",
       "      <td>5.7 oz (161 g)</td>\n",
       "    </tr>\n",
       "  </tbody>\n",
       "</table>\n",
       "</div>"
      ],
      "text/plain": [
       "        PC1       PC2       PC3       PC4       PC5       PC6       PC7  \\\n",
       "0 -0.779606  0.017554  0.334176  0.084186 -0.095341 -1.807465 -0.526708   \n",
       "1 -1.356950 -0.110103  0.386887  0.127476  0.990592 -0.727124  0.152290   \n",
       "2 -1.143100 -0.035503 -0.032550 -0.142512  0.854090 -0.857506 -0.457267   \n",
       "3 -0.594946 -0.481786  0.266368  0.180184 -0.194172 -1.883053 -1.207302   \n",
       "4 -1.042140 -0.467372  0.366502 -0.029854  0.899629 -0.796527 -0.503233   \n",
       "\n",
       "                               Item   Category    Serving Size  \n",
       "0                      Egg McMuffin  Breakfast  4.8 oz (136 g)  \n",
       "1                 Egg White Delight  Breakfast  4.8 oz (135 g)  \n",
       "2                  Sausage McMuffin  Breakfast  3.9 oz (111 g)  \n",
       "3         Sausage McMuffin with Egg  Breakfast  5.7 oz (161 g)  \n",
       "4  Sausage McMuffin with Egg Whites  Breakfast  5.7 oz (161 g)  "
      ]
     },
     "execution_count": 53,
     "metadata": {},
     "output_type": "execute_result"
    }
   ],
   "source": [
    "result.head(5)"
   ]
  },
  {
   "cell_type": "code",
   "execution_count": 43,
   "metadata": {},
   "outputs": [
    {
     "data": {
      "text/html": [
       "<div>\n",
       "<style scoped>\n",
       "    .dataframe tbody tr th:only-of-type {\n",
       "        vertical-align: middle;\n",
       "    }\n",
       "\n",
       "    .dataframe tbody tr th {\n",
       "        vertical-align: top;\n",
       "    }\n",
       "\n",
       "    .dataframe thead th {\n",
       "        text-align: right;\n",
       "    }\n",
       "</style>\n",
       "<table border=\"1\" class=\"dataframe\">\n",
       "  <thead>\n",
       "    <tr style=\"text-align: right;\">\n",
       "      <th></th>\n",
       "      <th>Category</th>\n",
       "      <th>Item</th>\n",
       "      <th>Serving Size</th>\n",
       "      <th>Calories</th>\n",
       "      <th>Calories from Fat</th>\n",
       "      <th>Total Fat</th>\n",
       "      <th>Total Fat (% Daily Value)</th>\n",
       "      <th>Saturated Fat</th>\n",
       "      <th>Saturated Fat (% Daily Value)</th>\n",
       "      <th>Trans Fat</th>\n",
       "      <th>...</th>\n",
       "      <th>Carbohydrates</th>\n",
       "      <th>Carbohydrates (% Daily Value)</th>\n",
       "      <th>Dietary Fiber</th>\n",
       "      <th>Dietary Fiber (% Daily Value)</th>\n",
       "      <th>Sugars</th>\n",
       "      <th>Protein</th>\n",
       "      <th>Vitamin A (% Daily Value)</th>\n",
       "      <th>Vitamin C (% Daily Value)</th>\n",
       "      <th>Calcium (% Daily Value)</th>\n",
       "      <th>Iron (% Daily Value)</th>\n",
       "    </tr>\n",
       "  </thead>\n",
       "  <tbody>\n",
       "    <tr>\n",
       "      <th>0</th>\n",
       "      <td>Breakfast</td>\n",
       "      <td>Egg McMuffin</td>\n",
       "      <td>4.8 oz (136 g)</td>\n",
       "      <td>300</td>\n",
       "      <td>120</td>\n",
       "      <td>13.0</td>\n",
       "      <td>20</td>\n",
       "      <td>5.0</td>\n",
       "      <td>25</td>\n",
       "      <td>0.0</td>\n",
       "      <td>...</td>\n",
       "      <td>31</td>\n",
       "      <td>10</td>\n",
       "      <td>4</td>\n",
       "      <td>17</td>\n",
       "      <td>3</td>\n",
       "      <td>17</td>\n",
       "      <td>10</td>\n",
       "      <td>0</td>\n",
       "      <td>25</td>\n",
       "      <td>15</td>\n",
       "    </tr>\n",
       "  </tbody>\n",
       "</table>\n",
       "<p>1 rows × 24 columns</p>\n",
       "</div>"
      ],
      "text/plain": [
       "    Category          Item    Serving Size  Calories  Calories from Fat  \\\n",
       "0  Breakfast  Egg McMuffin  4.8 oz (136 g)       300                120   \n",
       "\n",
       "   Total Fat  Total Fat (% Daily Value)  Saturated Fat  \\\n",
       "0       13.0                         20            5.0   \n",
       "\n",
       "   Saturated Fat (% Daily Value)  Trans Fat  ...  Carbohydrates  \\\n",
       "0                             25        0.0  ...             31   \n",
       "\n",
       "   Carbohydrates (% Daily Value)  Dietary Fiber  \\\n",
       "0                             10              4   \n",
       "\n",
       "   Dietary Fiber (% Daily Value)  Sugars  Protein  Vitamin A (% Daily Value)  \\\n",
       "0                             17       3       17                         10   \n",
       "\n",
       "   Vitamin C (% Daily Value)  Calcium (% Daily Value)  Iron (% Daily Value)  \n",
       "0                          0                       25                    15  \n",
       "\n",
       "[1 rows x 24 columns]"
      ]
     },
     "execution_count": 43,
     "metadata": {},
     "output_type": "execute_result"
    }
   ],
   "source": [
    "menu.head(1)"
   ]
  },
  {
   "cell_type": "markdown",
   "metadata": {},
   "source": [
    "#### 21 variables in the original data set has been reduced to 7 variables. The resulting 7 variables still explaining 94% of the variance in the data"
   ]
  },
  {
   "cell_type": "markdown",
   "metadata": {},
   "source": [
    "# Using sklearn package"
   ]
  },
  {
   "cell_type": "code",
   "execution_count": 54,
   "metadata": {},
   "outputs": [],
   "source": [
    "from sklearn.decomposition import PCA"
   ]
  },
  {
   "cell_type": "code",
   "execution_count": 55,
   "metadata": {},
   "outputs": [],
   "source": [
    "pca = PCA()"
   ]
  },
  {
   "cell_type": "code",
   "execution_count": 57,
   "metadata": {},
   "outputs": [
    {
     "data": {
      "text/plain": [
       "PCA(copy=True, iterated_power='auto', n_components=None, random_state=None,\n",
       "    svd_solver='auto', tol=0.0, whiten=False)"
      ]
     },
     "execution_count": 57,
     "metadata": {},
     "output_type": "execute_result"
    }
   ],
   "source": [
    "pca.fit(X_std)"
   ]
  },
  {
   "cell_type": "code",
   "execution_count": 58,
   "metadata": {},
   "outputs": [],
   "source": [
    "pca_data = pca.transform(X_std)"
   ]
  },
  {
   "cell_type": "code",
   "execution_count": 61,
   "metadata": {},
   "outputs": [],
   "source": [
    "per2 = np.round(pca.explained_variance_ratio_, decimals = 2)"
   ]
  },
  {
   "cell_type": "code",
   "execution_count": 62,
   "metadata": {},
   "outputs": [
    {
     "data": {
      "image/png": "[encoded data removed]",
      "text/plain": [
       "<Figure size 432x288 with 1 Axes>"
      ]
     },
     "metadata": {
      "needs_background": "light"
     },
     "output_type": "display_data"
    }
   ],
   "source": [
    "percent_variance = []\n",
    "for i in range(0,7):\n",
    "    percent_variance.append(np.round(per2[i]*100, decimals =2))\n",
    "columns = ['PC1','PC2','PC3','PC4','PC5','PC6','PC7']\n",
    "plt.bar(x= range(1,8), height=percent_variance, tick_label=columns)\n",
    "plt.ylabel('Percentate of Variance Explained')\n",
    "plt.xlabel('Principal Component')\n",
    "plt.title('PCA Scree Plot')\n",
    "plt.show()"
   ]
  }
 ],
 "metadata": {
  "kernelspec": {
   "display_name": "Python 3",
   "language": "python",
   "name": "python3"
  },
  "language_info": {
   "codemirror_mode": {
    "name": "ipython",
    "version": 3
   },
   "file_extension": ".py",
   "mimetype": "text/x-python",
   "name": "python",
   "nbconvert_exporter": "python",
   "pygments_lexer": "ipython3",
   "version": "3.7.4"
  }
 },
 "nbformat": 4,
 "nbformat_minor": 2
}
