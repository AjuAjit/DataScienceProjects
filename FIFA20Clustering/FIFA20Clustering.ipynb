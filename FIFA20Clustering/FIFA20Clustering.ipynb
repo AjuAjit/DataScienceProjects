{
 "cells": [
  {
   "cell_type": "markdown",
   "metadata": {},
   "source": [
    "### Finding Similar Players using Clustering Algorithm"
   ]
  },
  {
   "cell_type": "markdown",
   "metadata": {},
   "source": [
    "- <b>Problem</b>        : Finding similar players to a given player. \n",
    "- <b>Algorithm Used</b> : K - means\n",
    "    - K - means was preferred over Aglomerative Hierarchial clustering due to better results.\n",
    "    - No of clusters - 400. Found out SSE for 50, 100, 150....450. 400 was ideal.\n",
    "- <b>Dataset</b>        : FIFA20 complete database from Kaggle\n",
    "- <b>Pre Processing</b> : Null values removal, converting ordinal data ( work_rate and preferred foot) into encoded numbers.\n",
    "- <b>GUI package</b>    : PySimpleGUI\n",
    "- <b>Additional Features</b>   : Stats checker using Pandas Slicing operation."
   ]
  },
  {
   "cell_type": "markdown",
   "metadata": {},
   "source": [
    "### Importing Packages"
   ]
  },
  {
   "cell_type": "code",
   "execution_count": 2,
   "metadata": {},
   "outputs": [],
   "source": [
    "import pandas as pd\n",
    "import numpy as np"
   ]
  },
  {
   "cell_type": "markdown",
   "metadata": {},
   "source": [
    "### Reading data"
   ]
  },
  {
   "cell_type": "code",
   "execution_count": 2,
   "metadata": {},
   "outputs": [],
   "source": [
    "players = pd.read_csv(\"D:\\\\Praxis\\\\ML\\\\fifa-20-complete-player-dataset\\\\players_20.csv\")"
   ]
  },
  {
   "cell_type": "code",
   "execution_count": 3,
   "metadata": {},
   "outputs": [
    {
     "data": {
      "text/plain": [
       "(18278, 104)"
      ]
     },
     "execution_count": 3,
     "metadata": {},
     "output_type": "execute_result"
    }
   ],
   "source": [
    "players.shape"
   ]
  },
  {
   "cell_type": "markdown",
   "metadata": {},
   "source": [
    "### Selecting required columns"
   ]
  },
  {
   "cell_type": "code",
   "execution_count": 4,
   "metadata": {},
   "outputs": [],
   "source": [
    "players1 = players[['short_name','overall','preferred_foot','weak_foot', 'skill_moves', 'work_rate','pace', 'shooting', 'passing', \n",
    "                   'dribbling', 'defending', 'physic', 'gk_diving', 'gk_handling', 'gk_kicking', 'gk_reflexes', \n",
    "                   'gk_speed', 'gk_positioning', 'attacking_crossing', 'attacking_finishing', \n",
    "                   'attacking_heading_accuracy', 'attacking_short_passing', 'attacking_volleys', 'skill_dribbling', \n",
    "                   'skill_curve', 'skill_fk_accuracy', 'skill_long_passing', 'skill_ball_control', 'movement_acceleration', \n",
    "                   'movement_sprint_speed', 'movement_agility', 'movement_reactions', 'movement_balance', 'power_shot_power', \n",
    "                   'power_jumping', 'power_stamina', 'power_strength', 'power_long_shots', 'mentality_aggression', \n",
    "                   'mentality_interceptions', 'mentality_positioning', 'mentality_vision', 'mentality_penalties', \n",
    "                   'mentality_composure', 'defending_marking', 'defending_standing_tackle', 'defending_sliding_tackle', \n",
    "                   'goalkeeping_diving', 'goalkeeping_handling', 'goalkeeping_kicking', 'goalkeeping_positioning', \n",
    "                   'goalkeeping_reflexes']]"
   ]
  },
  {
   "cell_type": "code",
   "execution_count": 5,
   "metadata": {},
   "outputs": [
    {
     "data": {
      "text/plain": [
       "(18278, 52)"
      ]
     },
     "execution_count": 5,
     "metadata": {},
     "output_type": "execute_result"
    }
   ],
   "source": [
    "players1.shape"
   ]
  },
  {
   "cell_type": "markdown",
   "metadata": {},
   "source": [
    "### Checking for null values"
   ]
  },
  {
   "cell_type": "code",
   "execution_count": 6,
   "metadata": {},
   "outputs": [],
   "source": [
    "#players1.isnull().sum()"
   ]
  },
  {
   "cell_type": "code",
   "execution_count": 7,
   "metadata": {},
   "outputs": [
    {
     "name": "stderr",
     "output_type": "stream",
     "text": [
      "D:\\Anaconda\\lib\\site-packages\\pandas\\core\\frame.py:4153: SettingWithCopyWarning: \n",
      "A value is trying to be set on a copy of a slice from a DataFrame\n",
      "\n",
      "See the caveats in the documentation: https://pandas.pydata.org/pandas-docs/stable/user_guide/indexing.html#returning-a-view-versus-a-copy\n",
      "  downcast=downcast,\n"
     ]
    }
   ],
   "source": [
    "players1.fillna(0, inplace = True)"
   ]
  },
  {
   "cell_type": "code",
   "execution_count": null,
   "metadata": {},
   "outputs": [],
   "source": []
  },
  {
   "cell_type": "markdown",
   "metadata": {},
   "source": [
    "### Converting preferred foot into binary value"
   ]
  },
  {
   "cell_type": "code",
   "execution_count": 8,
   "metadata": {},
   "outputs": [
    {
     "data": {
      "text/plain": [
       "Right    13960\n",
       "Left      4318\n",
       "Name: preferred_foot, dtype: int64"
      ]
     },
     "execution_count": 8,
     "metadata": {},
     "output_type": "execute_result"
    }
   ],
   "source": [
    "players1.preferred_foot.value_counts()"
   ]
  },
  {
   "cell_type": "code",
   "execution_count": 9,
   "metadata": {},
   "outputs": [
    {
     "name": "stderr",
     "output_type": "stream",
     "text": [
      "D:\\Anaconda\\lib\\site-packages\\pandas\\core\\indexing.py:966: SettingWithCopyWarning: \n",
      "A value is trying to be set on a copy of a slice from a DataFrame.\n",
      "Try using .loc[row_indexer,col_indexer] = value instead\n",
      "\n",
      "See the caveats in the documentation: https://pandas.pydata.org/pandas-docs/stable/user_guide/indexing.html#returning-a-view-versus-a-copy\n",
      "  self.obj[item] = s\n"
     ]
    }
   ],
   "source": [
    "players1.loc[players1.preferred_foot == 'Right','preferred_foot'] = 1\n",
    "players1.loc[players1.preferred_foot == 'Left','preferred_foot'] = 0\n",
    "players1 = players1.astype({\"preferred_foot\" : \"float64\"})"
   ]
  },
  {
   "cell_type": "code",
   "execution_count": 10,
   "metadata": {},
   "outputs": [],
   "source": [
    "players2 = players1"
   ]
  },
  {
   "cell_type": "markdown",
   "metadata": {},
   "source": [
    "### Splitting work rate into attacking and defensive work rate, then encoding them"
   ]
  },
  {
   "cell_type": "code",
   "execution_count": 11,
   "metadata": {},
   "outputs": [],
   "source": [
    "attacking_work_rate = []\n",
    "defensive_work_rate = []\n",
    "\n",
    "for i in players1['work_rate']:\n",
    "    x = (i.split('/'))\n",
    "    attacking_work_rate.append(x[0])\n",
    "    defensive_work_rate.append(x[1])\n",
    "\n",
    "players2['attacking_work_rate'] = attacking_work_rate\n",
    "\n",
    "players2['defensive_work_rate'] = defensive_work_rate"
   ]
  },
  {
   "cell_type": "code",
   "execution_count": 12,
   "metadata": {},
   "outputs": [],
   "source": [
    "players2.loc[players2.defensive_work_rate == 'Medium','defensive_work_rate'] = 2\n",
    "players2.loc[players2.defensive_work_rate == 'Low','defensive_work_rate'] = 1\n",
    "players2.loc[players2.defensive_work_rate == 'High','defensive_work_rate'] = 3"
   ]
  },
  {
   "cell_type": "code",
   "execution_count": 13,
   "metadata": {},
   "outputs": [],
   "source": [
    "players2.loc[players2.attacking_work_rate == 'Medium','attacking_work_rate'] = 2\n",
    "players2.loc[players2.attacking_work_rate == 'Low','attacking_work_rate'] = 1\n",
    "players2.loc[players2.attacking_work_rate == 'High','attacking_work_rate'] = 3"
   ]
  },
  {
   "cell_type": "code",
   "execution_count": 14,
   "metadata": {},
   "outputs": [],
   "source": [
    "players3 = players2"
   ]
  },
  {
   "cell_type": "markdown",
   "metadata": {},
   "source": [
    "### Dropping categorical columns"
   ]
  },
  {
   "cell_type": "code",
   "execution_count": 15,
   "metadata": {},
   "outputs": [],
   "source": [
    "players3 = players3.drop('work_rate', axis=1)\n",
    "players3 = players3.drop('short_name',axis =1)"
   ]
  },
  {
   "cell_type": "markdown",
   "metadata": {},
   "source": [
    "### importing packages"
   ]
  },
  {
   "cell_type": "code",
   "execution_count": 16,
   "metadata": {},
   "outputs": [],
   "source": [
    "import matplotlib.pyplot as plt\n",
    "import scipy\n",
    "from scipy.cluster.hierarchy import dendrogram,linkage\n",
    "from sklearn.preprocessing import StandardScaler\n",
    "import numpy as np"
   ]
  },
  {
   "cell_type": "markdown",
   "metadata": {},
   "source": [
    "### Standardising all variables"
   ]
  },
  {
   "cell_type": "code",
   "execution_count": 17,
   "metadata": {},
   "outputs": [],
   "source": [
    "players3 = players3.apply(lambda x : (x- np.mean(x))/ np.std(x))"
   ]
  },
  {
   "cell_type": "markdown",
   "metadata": {},
   "source": [
    "### Agglomerative clustering"
   ]
  },
  {
   "cell_type": "markdown",
   "metadata": {},
   "source": [
    "#### Making linkage object using complete linkage"
   ]
  },
  {
   "cell_type": "raw",
   "metadata": {},
   "source": [
    "Z = linkage(players3,'complete')"
   ]
  },
  {
   "cell_type": "code",
   "execution_count": 18,
   "metadata": {},
   "outputs": [],
   "source": [
    "#### Creating dendrogram"
   ]
  },
  {
   "cell_type": "raw",
   "metadata": {},
   "source": [
    "dendrogram(Z,leaf_rotation = 90,truncate_mode = 'lastp',p = 10, leaf_font_size = 10.0)\n",
    "plt.title(\"Dendrogram\")\n",
    "plt.xlabel(\"Cluster size\")\n",
    "plt.ylabel(\"Distance\")\n",
    "plt.show()"
   ]
  },
  {
   "cell_type": "raw",
   "metadata": {},
   "source": [
    "import sklearn\n",
    "from sklearn.cluster import AgglomerativeClustering"
   ]
  },
  {
   "cell_type": "raw",
   "metadata": {},
   "source": [
    "players4 = players3"
   ]
  },
  {
   "cell_type": "raw",
   "metadata": {},
   "source": [
    "hclust = AgglomerativeClustering(n_clusters = 200,affinity = 'euclidean', linkage = 'complete')"
   ]
  },
  {
   "cell_type": "raw",
   "metadata": {},
   "source": [
    "hclust.fit(players4)"
   ]
  },
  {
   "cell_type": "raw",
   "metadata": {},
   "source": [
    "players4['group'] = hclust.labels_"
   ]
  },
  {
   "cell_type": "raw",
   "metadata": {},
   "source": [
    "players4['player_name'] = players2['short_name']"
   ]
  },
  {
   "cell_type": "code",
   "execution_count": null,
   "metadata": {},
   "outputs": [],
   "source": []
  },
  {
   "cell_type": "markdown",
   "metadata": {},
   "source": [
    "### K- Means clustering"
   ]
  },
  {
   "cell_type": "markdown",
   "metadata": {},
   "source": [
    "### SSE for diff cluster solutions"
   ]
  },
  {
   "cell_type": "code",
   "execution_count": 19,
   "metadata": {},
   "outputs": [],
   "source": [
    "from sklearn.cluster import KMeans"
   ]
  },
  {
   "cell_type": "code",
   "execution_count": 20,
   "metadata": {},
   "outputs": [],
   "source": [
    "players4 = players3"
   ]
  },
  {
   "cell_type": "raw",
   "metadata": {},
   "source": [
    "# calculating within group SSE for diff cluster solutions\n",
    "inertias = []\n",
    "for k in [10,25,50,100,150,200,250,300,350,400,450]:\n",
    "    km = KMeans(n_clusters = k, n_init = 10)\n",
    "    inertia = km.fit(players4).inertia_\n",
    "    inertias.append(inertia)\n",
    "\n",
    "    \n",
    "# plotting scree plot\n",
    "plt.plot([10,25,50,100,150,200,250,300,350,400,450],inertias)\n",
    "plt.show()"
   ]
  },
  {
   "cell_type": "markdown",
   "metadata": {},
   "source": [
    "### Fitting K - Means algo"
   ]
  },
  {
   "cell_type": "code",
   "execution_count": 21,
   "metadata": {},
   "outputs": [
    {
     "data": {
      "text/plain": [
       "KMeans(algorithm='auto', copy_x=True, init='k-means++', max_iter=300,\n",
       "       n_clusters=400, n_init=10, n_jobs=None, precompute_distances='auto',\n",
       "       random_state=None, tol=0.0001, verbose=0)"
      ]
     },
     "execution_count": 21,
     "metadata": {},
     "output_type": "execute_result"
    }
   ],
   "source": [
    "km = KMeans(n_clusters = 400, n_init = 10)\n",
    "km.fit(players4)"
   ]
  },
  {
   "cell_type": "code",
   "execution_count": 22,
   "metadata": {},
   "outputs": [],
   "source": [
    "players4['group'] = km.labels_"
   ]
  },
  {
   "cell_type": "code",
   "execution_count": 23,
   "metadata": {},
   "outputs": [],
   "source": [
    "players4['player_name'] = players2['short_name']"
   ]
  },
  {
   "cell_type": "markdown",
   "metadata": {},
   "source": [
    "### Creating GUI application"
   ]
  },
  {
   "cell_type": "code",
   "execution_count": 4,
   "metadata": {},
   "outputs": [],
   "source": [
    "players4 = pd.read_csv('D:\\\\Praxis\\\\ML\\\\fifa-20-complete-player-dataset\\\\clustered_players.csv')\n",
    "### Stored in a .csv file for faster testing...\n",
    "###Ideally line should be commented and whole notebook should be run from the start\n",
    "\n",
    "import PySimpleGUI as sg\n",
    "from IPython.display import HTML\n",
    "\n",
    "sg.theme('DarkBlue8')\n",
    "\n",
    "from PySimpleGUI import Text, CBox, Input, Button, Window\n",
    "\n",
    "attributes = ['overall', 'preferred_foot', 'weak_foot', 'skill_moves',\n",
    "       'work_rate', 'pace', 'shooting', 'passing', 'dribbling', 'defending',\n",
    "       'physic', 'gk_diving', 'gk_handling', 'gk_kicking', 'gk_reflexes',\n",
    "       'gk_speed', 'gk_positioning', 'attacking_crossing',\n",
    "       'attacking_finishing', 'attacking_heading_accuracy',\n",
    "       'attacking_short_passing', 'attacking_volleys', 'skill_dribbling',\n",
    "       'skill_curve', 'skill_fk_accuracy', 'skill_long_passing',\n",
    "       'skill_ball_control', 'movement_acceleration', 'movement_sprint_speed',\n",
    "       'movement_agility', 'movement_reactions', 'movement_balance',\n",
    "       'power_shot_power', 'power_jumping', 'power_stamina', 'power_strength',\n",
    "       'power_long_shots', 'mentality_aggression', 'mentality_interceptions',\n",
    "       'mentality_positioning', 'mentality_vision', 'mentality_penalties',\n",
    "       'mentality_composure', 'defending_marking', 'defending_standing_tackle',\n",
    "       'defending_sliding_tackle','attacking_work_rate', 'defensive_work_rate']\n",
    "\n",
    "selected_attributes = []\n",
    "\n",
    "layout = [[sg.Text('Enter player name'),sg.InputText(key = '-Name-')],\n",
    "              [sg.MLine(key='-ML1-'+sg.WRITE_ONLY_KEY, size=(40,8),do_not_clear=False)],\n",
    "              [sg.Button('Search'),sg.Button('StatsCheck'),sg.Exit()]]\n",
    "\n",
    "window1 = sg.Window('Similar Players Finder').Layout(layout)\n",
    "win2_active=False\n",
    "\n",
    "while True:                             # The Event Loop\n",
    "\n",
    "    event, values = window1.read()\n",
    "\n",
    "\n",
    "\n",
    "    if event in (None, 'Exit'):\n",
    "        window1.Close()\n",
    "        break\n",
    "\n",
    "    if event == 'Search':\n",
    "        \n",
    "        #window1['-ML1-'+sg.WRITE_ONLY_KEY].print('My variables are')\n",
    "        window1['-ML1-'+sg.WRITE_ONLY_KEY].Update('')\n",
    "        #similar_players = []\n",
    "        cluster = players4[players4.player_name == values['-Name-']]['group']\n",
    "        similar_players = players4[players4.group==cluster.values[0]].nlargest(30, 'overall')['player_name']\n",
    "                \n",
    "        similar_players = list(similar_players)\n",
    "        similar_players.remove(values['-Name-'])\n",
    "        similar_players = pd.Series(similar_players)\n",
    "        \n",
    "        window1['-ML1-'+sg.WRITE_ONLY_KEY].print([x for x in similar_players.values], text_color='green', sep='\\n')\n",
    "    \n",
    "    if event == 'StatsCheck' and not win2_active:\n",
    "        window1.Hide()\n",
    "        win2_active = True\n",
    "                \n",
    "        layout = [[Text(f'{attributes[i]}. '), CBox('',default=False,key=attributes[i]),Text(f'{attributes[i+8]}. '), CBox('',default=False,key=attributes[i+8]),Text(f'{attributes[i+16]}. '), CBox('',default=False,key=attributes[i+16]),Text(f'{attributes[i+24]}. '), CBox('',default=False,key=attributes[i+24]),Text(f'{attributes[i+32]}. '), CBox('',default=False,key=attributes[i+32]),Text(f'{attributes[i+40]}. '), CBox('',default=False,key=attributes[i+40])] for i in range(0,8)] + \\\n",
    "             [[sg.Text('Enter player name'),sg.InputText(key = '-Name-')],\n",
    "              [Button('Ok'), Button('Exit')]]\n",
    "\n",
    "        window2 = Window('Stats Shecker', layout)\n",
    "\n",
    "        while True:\n",
    " \n",
    "            event, values = window2.read()\n",
    "\n",
    "            if event in (None, 'Exit'):\n",
    "                win2_active = False\n",
    "                window2.Close()\n",
    "                window1.UnHide()\n",
    "                selected_attributes = []\n",
    "                break\n",
    "\n",
    "            if event == 'Ok':\n",
    "\n",
    "                selected_attributes.append('short_name')\n",
    "                for i in attributes:\n",
    "                    if values[i] == True:\n",
    "                        selected_attributes.append(i)\n",
    "                x = (players2.loc[players2.short_name == values['-Name-'],selected_attributes])\n",
    "                \n",
    "                dic = {}\n",
    "                for i in range(0,len(selected_attributes)):\n",
    "                    dic[selected_attributes[i]] = x.values[0][i]\n",
    "                    \n",
    "                stats = pd.DataFrame([dic])\n",
    "                sg.popup(stats.to_string(index=False))\n",
    "                selected_attributes = []\n",
    "\n",
    "window1.close()"
   ]
  },
  {
   "cell_type": "code",
   "execution_count": 27,
   "metadata": {},
   "outputs": [],
   "source": [
    "players4.to_csv('D:\\\\Praxis\\\\ML\\\\fifa-20-complete-player-dataset\\\\clustered_players.csv', index=False)"
   ]
  }
 ],
 "metadata": {
  "kernelspec": {
   "display_name": "Python 3",
   "language": "python",
   "name": "python3"
  },
  "language_info": {
   "codemirror_mode": {
    "name": "ipython",
    "version": 3
   },
   "file_extension": ".py",
   "mimetype": "text/x-python",
   "name": "python",
   "nbconvert_exporter": "python",
   "pygments_lexer": "ipython3",
   "version": "3.7.4"
  }
 },
 "nbformat": 4,
 "nbformat_minor": 2
}
